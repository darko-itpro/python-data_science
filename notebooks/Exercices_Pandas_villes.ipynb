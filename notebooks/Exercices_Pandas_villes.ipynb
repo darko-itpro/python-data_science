{
 "cells": [
  {
   "cell_type": "markdown",
   "id": "64cda155-5760-47d1-85d8-cbeb0968d276",
   "metadata": {},
   "source": [
    "# Exercices Pandas\n",
    "\n",
    "Nous allons travailler sur un fichier de communes en France. Le code suivant permet de charger le fichier."
   ]
  },
  {
   "cell_type": "code",
   "execution_count": null,
   "id": "e1fb439b-74dd-4190-9fa5-49f1549a0afd",
   "metadata": {},
   "outputs": [],
   "source": [
    "from pathlib import Path\n",
    "import pandas as pd\n",
    "\n",
    "cities_file = Path('__file__').resolve().parent.parent / 'assets' / 'villes_france.csv'\n",
    "\n",
    "cities_data = pd.read_csv(cities_file, sep=\",\", dtype={\"dep\": \"string\", \"code insee\": \"string\"})"
   ]
  },
  {
   "cell_type": "markdown",
   "id": "ed723f86-3b23-48bf-a1c5-57724a1534a0",
   "metadata": {},
   "source": [
    "Notez la présence du paramètre `dtype` qui est un dictionnaire décrivant le type des données attendues pour certaines colonnes. Il est indispensable dans ce cas car ces colonnes contiennent des données interprétées de type différent (entier et chaines).\n",
    "\n",
    "# Premier exercice\n",
    "Explorez les données :\n",
    " * Affichez les premières lignes du fichier\n",
    " * Affichez la (ou les) description(s) du fichier"
   ]
  },
  {
   "cell_type": "code",
   "execution_count": null,
   "id": "4475708b-0339-45eb-8b51-e351aafe6bef",
   "metadata": {},
   "outputs": [],
   "source": []
  },
  {
   "cell_type": "code",
   "execution_count": null,
   "id": "f91c5ae0-44ac-450e-a763-62a918fc83d8",
   "metadata": {},
   "outputs": [],
   "source": []
  },
  {
   "cell_type": "markdown",
   "id": "525c2f31-e1aa-43c9-869d-f3e4740ee486",
   "metadata": {},
   "source": [
    "# Second exercice, analyse simple\n",
    " * Quelle est la population maximum en 2010 (colonne `pop2010`) ?\n",
    " * Sélectionnez la ligne correspondant à la population maximum en 2010"
   ]
  },
  {
   "cell_type": "code",
   "execution_count": null,
   "id": "b1692c55-0832-4925-904d-512a9615f3e6",
   "metadata": {},
   "outputs": [],
   "source": []
  },
  {
   "cell_type": "code",
   "execution_count": null,
   "id": "5169549f-6765-4a32-b234-c5af32a6b1cc",
   "metadata": {},
   "outputs": [],
   "source": []
  },
  {
   "cell_type": "markdown",
   "id": "4f2dfe22-b043-4b36-87c9-246ad4265284",
   "metadata": {},
   "source": [
    "## Troisième exercice, affichons plus de données\n",
    " * Quelles sont les villes dont la population était suppérieur à 300.000 habitants en 2010.\n",
    " * Affichez ces données ordonnées par la population de 2010.\n",
    " * Affinez l'affichage en ne présentant que le nom de la ville et la population correspondante."
   ]
  },
  {
   "cell_type": "code",
   "execution_count": null,
   "id": "10f310c2-5935-4533-9505-ee408afa6639",
   "metadata": {},
   "outputs": [],
   "source": []
  },
  {
   "cell_type": "markdown",
   "id": "2d95f808-73fa-4787-be9b-3c458bc19e4d",
   "metadata": {},
   "source": [
    "# Quatrième exercice, sélection\n",
    " * Sélectionnez toutes les villes de votre département (attention au type…)\n",
    " * Quelle est la population totale du département en 2010 ?\n",
    " * Quelle est la ville la plus peuplée du département en 2010 ?\n",
    " * Quelles sont les villes ayant une population en 2012 suppérieur ou égale à la population max de 2010 ?\n",
    " * Quelles villes ont vu leur population augmenter entre 2010 et 2012 ?"
   ]
  },
  {
   "cell_type": "code",
   "execution_count": null,
   "id": "3cdb5e89-41e7-40f7-bdcb-59fe3629399a",
   "metadata": {},
   "outputs": [],
   "source": []
  }
 ],
 "metadata": {
  "kernelspec": {
   "display_name": "Python 3 (ipykernel)",
   "language": "python",
   "name": "python3"
  },
  "language_info": {
   "codemirror_mode": {
    "name": "ipython",
    "version": 3
   },
   "file_extension": ".py",
   "mimetype": "text/x-python",
   "name": "python",
   "nbconvert_exporter": "python",
   "pygments_lexer": "ipython3",
   "version": "3.11.7"
  }
 },
 "nbformat": 4,
 "nbformat_minor": 5
}

{
 "cells": [
  {
   "cell_type": "markdown",
   "id": "2c3f776f-e0d2-4897-be88-403dfa78ef9f",
   "metadata": {},
   "source": [
    "# Présentation de Pandas\n",
    "\n",
    "Dans ce notebook, nous allons voir comment construire les types de base Pandas à commencer par les `Series`.\n",
    "\n",
    "Nous devons dans un premier temps importer Pandas."
   ]
  },
  {
   "cell_type": "code",
   "execution_count": 32,
   "id": "94434dd6-3fb7-4d50-b1ab-ec6f8d931df6",
   "metadata": {},
   "outputs": [],
   "source": [
    "import pandas as pd"
   ]
  },
  {
   "cell_type": "markdown",
   "id": "66acd473-f9af-48a7-bb76-c5cf91ad2dcc",
   "metadata": {},
   "source": [
    "Nous allons créer un objet de type `Series` à partir d'une liste."
   ]
  },
  {
   "cell_type": "code",
   "execution_count": 33,
   "id": "56e63c98-6544-4ba3-9753-8532ad861851",
   "metadata": {},
   "outputs": [
    {
     "data": {
      "text/plain": [
       "0    20\n",
       "1     8\n",
       "2     2\n",
       "3    17\n",
       "4    15\n",
       "5     9\n",
       "6    16\n",
       "7    14\n",
       "8    13\n",
       "dtype: int64"
      ]
     },
     "execution_count": 33,
     "metadata": {},
     "output_type": "execute_result"
    }
   ],
   "source": [
    "grades = pd.Series([20, 8, 2, 17, 15, 9, 16, 14, 13])\n",
    "grades"
   ]
  },
  {
   "cell_type": "markdown",
   "id": "c4e5d03b-1e8f-4f79-8f28-62ab3f59e307",
   "metadata": {},
   "source": [
    "Ce type d'objet a deux composants : les valeurs et les identifiants (les indices)."
   ]
  },
  {
   "cell_type": "code",
   "execution_count": 34,
   "id": "8c5145a3-cb1a-40dc-b9ed-e3e77368b42a",
   "metadata": {},
   "outputs": [
    {
     "data": {
      "text/plain": [
       "array([20,  8,  2, 17, 15,  9, 16, 14, 13])"
      ]
     },
     "execution_count": 34,
     "metadata": {},
     "output_type": "execute_result"
    }
   ],
   "source": [
    "grades.values"
   ]
  },
  {
   "cell_type": "code",
   "execution_count": 35,
   "id": "f7b6fb85-0e49-4182-a346-837f369934fd",
   "metadata": {},
   "outputs": [
    {
     "data": {
      "text/plain": [
       "RangeIndex(start=0, stop=9, step=1)"
      ]
     },
     "execution_count": 35,
     "metadata": {},
     "output_type": "execute_result"
    }
   ],
   "source": [
    "grades.index"
   ]
  },
  {
   "cell_type": "markdown",
   "id": "1be599aa-54a8-40f7-98e4-d226639a3e55",
   "metadata": {},
   "source": [
    "Les indices (identifiants) peuvent être définis par un nom arbitraire."
   ]
  },
  {
   "cell_type": "code",
   "execution_count": 36,
   "id": "6e44020c-c05c-4f9e-92cb-4f9f24ac4dfc",
   "metadata": {},
   "outputs": [],
   "source": [
    "students_math = ['Agnan', 'Alceste', 'Clotaire', 'Eudes', 'Geoffroy', 'Joachim', 'Maixent', 'Nicolas', 'Rufus']\n",
    "grades_math = pd.Series([20, 8, 2, 17, 15, 9, 16, 14, 13], index=students_math)"
   ]
  },
  {
   "cell_type": "code",
   "execution_count": 37,
   "id": "917c7f73-eb1e-465d-b754-032eb2e3f341",
   "metadata": {},
   "outputs": [
    {
     "data": {
      "text/plain": [
       "Agnan       20\n",
       "Alceste      8\n",
       "Clotaire     2\n",
       "Eudes       17\n",
       "Geoffroy    15\n",
       "Joachim      9\n",
       "Maixent     16\n",
       "Nicolas     14\n",
       "Rufus       13\n",
       "dtype: int64"
      ]
     },
     "execution_count": 37,
     "metadata": {},
     "output_type": "execute_result"
    }
   ],
   "source": [
    "grades_math"
   ]
  },
  {
   "cell_type": "markdown",
   "id": "eda25b12-2703-4ae9-b32c-c47765b0cabc",
   "metadata": {},
   "source": [
    "On peut donc accétrer à un élément par son label ou son indice."
   ]
  },
  {
   "cell_type": "code",
   "execution_count": 38,
   "id": "56304fcc-99bf-450c-9b10-0f2c69bf9874",
   "metadata": {},
   "outputs": [
    {
     "name": "stdout",
     "output_type": "stream",
     "text": [
      "17\n",
      "17\n"
     ]
    },
    {
     "name": "stderr",
     "output_type": "stream",
     "text": [
      "/var/folders/t1/wvpwr7x54db7gfz46y8vv3g00000gn/T/ipykernel_61733/1780738109.py:2: FutureWarning: Series.__getitem__ treating keys as positions is deprecated. In a future version, integer keys will always be treated as labels (consistent with DataFrame behavior). To access a value by position, use `ser.iloc[pos]`\n",
      "  print(grades_math[3])\n"
     ]
    }
   ],
   "source": [
    "print(grades_math['Eudes'])\n",
    "print(grades_math[3])"
   ]
  },
  {
   "cell_type": "markdown",
   "id": "40612403-7034-499e-a028-575d5238b21f",
   "metadata": {},
   "source": [
    "Attention cependant, accéder par l'opérateur d'indice ([]) peut avoir des limites comme utiliser des entiers comme clef. Il est impossible de différencier le label de l'indice.\n",
    "\n",
    "C'est là où les méthodes .loc et .iloc sont utilies. Le premier recherche les labels, le second les indices.\n",
    "\n",
    "Ces méthodes sont comparables aux expressions standard Python mais elles sont plus optimisées."
   ]
  },
  {
   "cell_type": "code",
   "execution_count": 39,
   "id": "848b5703-5c80-40dc-b27a-02ce3e82950f",
   "metadata": {},
   "outputs": [
    {
     "data": {
      "text/plain": [
       "17"
      ]
     },
     "execution_count": 39,
     "metadata": {},
     "output_type": "execute_result"
    }
   ],
   "source": [
    "grades_math.iloc[3]"
   ]
  },
  {
   "cell_type": "code",
   "execution_count": 40,
   "id": "240084fd-789b-4a25-848e-2cec5e9be93d",
   "metadata": {},
   "outputs": [
    {
     "data": {
      "text/plain": [
       "17"
      ]
     },
     "execution_count": 40,
     "metadata": {},
     "output_type": "execute_result"
    }
   ],
   "source": [
    "grades_math.loc['Eudes']"
   ]
  },
  {
   "cell_type": "markdown",
   "id": "131a0170-da42-4846-b62e-1fc4c0b998a0",
   "metadata": {},
   "source": [
    "Le slicing exise aussi avec `.loc` et `.iloc`. Attention, avec `.loc`, l'ensemble est fermé."
   ]
  },
  {
   "cell_type": "code",
   "execution_count": 41,
   "id": "742a199b-da2e-40e9-80be-21b6a6e832b5",
   "metadata": {},
   "outputs": [
    {
     "name": "stdout",
     "output_type": "stream",
     "text": [
      "Clotaire     2\n",
      "Eudes       17\n",
      "Geoffroy    15\n",
      "Joachim      9\n",
      "Maixent     16\n",
      "dtype: int64\n",
      "\n",
      "Clotaire     2\n",
      "Eudes       17\n",
      "Geoffroy    15\n",
      "Joachim      9\n",
      "dtype: int64\n"
     ]
    }
   ],
   "source": [
    "print(grades_math.loc['Clotaire' : 'Maixent'])\n",
    "print()\n",
    "print(grades_math.iloc[2 : 6])"
   ]
  },
  {
   "cell_type": "markdown",
   "id": "56310b6b-df0b-40af-bbf9-821e5920f068",
   "metadata": {},
   "source": [
    "## Création d'un DataFrame\n",
    "\n",
    "Un `DataFrame` est l'autre type de base de Pandas. Il s'agit d'une donnée structurée. Elle possède des **colonnes**, des **indices** et des **données**.\n",
    "\n",
    "Nous pouvons composer un DataFrame à partir de plusieurs Series. Chaque Series sera une colonne. Pandas utilisera les indices pour aligner les Series. Nous allons donc ajouter les notes d'anglais."
   ]
  },
  {
   "cell_type": "code",
   "execution_count": 42,
   "id": "aa153895-6192-4aac-87c2-97332fc0129d",
   "metadata": {},
   "outputs": [],
   "source": [
    "students_english = ['Agnan', 'Alceste', 'Clotaire', 'Eudes', 'Geoffroy', 'Joachim', 'Maixent', 'Nicolas']\n",
    "grades_english = pd.Series([20, 14, 1, 15, 8, 12, 9, 12], index=students_english)"
   ]
  },
  {
   "cell_type": "markdown",
   "id": "da057bc9-42a1-4eea-b6e4-0199be624e95",
   "metadata": {},
   "source": [
    "L'exemple suivant montre la construction d'un DataFrame à partir d'un dictionnaire. Les clefs en deviennent les colonnes."
   ]
  },
  {
   "cell_type": "code",
   "execution_count": 43,
   "id": "1d685290-d138-483b-8ab4-330f6f2edf6f",
   "metadata": {},
   "outputs": [
    {
     "data": {
      "text/html": [
       "<div>\n",
       "<style scoped>\n",
       "    .dataframe tbody tr th:only-of-type {\n",
       "        vertical-align: middle;\n",
       "    }\n",
       "\n",
       "    .dataframe tbody tr th {\n",
       "        vertical-align: top;\n",
       "    }\n",
       "\n",
       "    .dataframe thead th {\n",
       "        text-align: right;\n",
       "    }\n",
       "</style>\n",
       "<table border=\"1\" class=\"dataframe\">\n",
       "  <thead>\n",
       "    <tr style=\"text-align: right;\">\n",
       "      <th></th>\n",
       "      <th>math</th>\n",
       "      <th>english</th>\n",
       "    </tr>\n",
       "  </thead>\n",
       "  <tbody>\n",
       "    <tr>\n",
       "      <th>Agnan</th>\n",
       "      <td>20</td>\n",
       "      <td>20.0</td>\n",
       "    </tr>\n",
       "    <tr>\n",
       "      <th>Alceste</th>\n",
       "      <td>8</td>\n",
       "      <td>14.0</td>\n",
       "    </tr>\n",
       "    <tr>\n",
       "      <th>Clotaire</th>\n",
       "      <td>2</td>\n",
       "      <td>1.0</td>\n",
       "    </tr>\n",
       "    <tr>\n",
       "      <th>Eudes</th>\n",
       "      <td>17</td>\n",
       "      <td>15.0</td>\n",
       "    </tr>\n",
       "    <tr>\n",
       "      <th>Geoffroy</th>\n",
       "      <td>15</td>\n",
       "      <td>8.0</td>\n",
       "    </tr>\n",
       "    <tr>\n",
       "      <th>Joachim</th>\n",
       "      <td>9</td>\n",
       "      <td>12.0</td>\n",
       "    </tr>\n",
       "    <tr>\n",
       "      <th>Maixent</th>\n",
       "      <td>16</td>\n",
       "      <td>9.0</td>\n",
       "    </tr>\n",
       "    <tr>\n",
       "      <th>Nicolas</th>\n",
       "      <td>14</td>\n",
       "      <td>12.0</td>\n",
       "    </tr>\n",
       "    <tr>\n",
       "      <th>Rufus</th>\n",
       "      <td>13</td>\n",
       "      <td>NaN</td>\n",
       "    </tr>\n",
       "  </tbody>\n",
       "</table>\n",
       "</div>"
      ],
      "text/plain": [
       "          math  english\n",
       "Agnan       20     20.0\n",
       "Alceste      8     14.0\n",
       "Clotaire     2      1.0\n",
       "Eudes       17     15.0\n",
       "Geoffroy    15      8.0\n",
       "Joachim      9     12.0\n",
       "Maixent     16      9.0\n",
       "Nicolas     14     12.0\n",
       "Rufus       13      NaN"
      ]
     },
     "execution_count": 43,
     "metadata": {},
     "output_type": "execute_result"
    }
   ],
   "source": [
    "grades = pd.DataFrame({\"math\": grades_math, \"english\": grades_english})\n",
    "grades"
   ]
  },
  {
   "cell_type": "markdown",
   "id": "93de80c1-061b-4b56-88cf-01b4f958576f",
   "metadata": {},
   "source": [
    "Nous pouvons accéder aux valeurs qui sont un ndarray"
   ]
  },
  {
   "cell_type": "markdown",
   "id": "fef86b83-2122-43a6-9b90-ab78f4b633ee",
   "metadata": {},
   "source": [
    "Comme nous l'avons vu précédemment, nous pouvons aussi utiliser `.loc` et `.iloc` pour accéder aux données d'un DataFrame"
   ]
  },
  {
   "cell_type": "code",
   "execution_count": 44,
   "id": "ccba3afb-5747-4a92-bf14-1b3555d2e4a2",
   "metadata": {},
   "outputs": [
    {
     "data": {
      "text/plain": [
       "math       14.0\n",
       "english    12.0\n",
       "Name: Nicolas, dtype: float64"
      ]
     },
     "execution_count": 44,
     "metadata": {},
     "output_type": "execute_result"
    }
   ],
   "source": [
    "grades.loc[\"Nicolas\"]"
   ]
  },
  {
   "cell_type": "code",
   "execution_count": 45,
   "id": "30753159-bc62-47d4-ad7c-e16eae53d4cc",
   "metadata": {},
   "outputs": [
    {
     "data": {
      "text/html": [
       "<div>\n",
       "<style scoped>\n",
       "    .dataframe tbody tr th:only-of-type {\n",
       "        vertical-align: middle;\n",
       "    }\n",
       "\n",
       "    .dataframe tbody tr th {\n",
       "        vertical-align: top;\n",
       "    }\n",
       "\n",
       "    .dataframe thead th {\n",
       "        text-align: right;\n",
       "    }\n",
       "</style>\n",
       "<table border=\"1\" class=\"dataframe\">\n",
       "  <thead>\n",
       "    <tr style=\"text-align: right;\">\n",
       "      <th></th>\n",
       "      <th>math</th>\n",
       "      <th>english</th>\n",
       "    </tr>\n",
       "  </thead>\n",
       "  <tbody>\n",
       "    <tr>\n",
       "      <th>Alceste</th>\n",
       "      <td>8</td>\n",
       "      <td>14.0</td>\n",
       "    </tr>\n",
       "    <tr>\n",
       "      <th>Clotaire</th>\n",
       "      <td>2</td>\n",
       "      <td>1.0</td>\n",
       "    </tr>\n",
       "    <tr>\n",
       "      <th>Eudes</th>\n",
       "      <td>17</td>\n",
       "      <td>15.0</td>\n",
       "    </tr>\n",
       "    <tr>\n",
       "      <th>Geoffroy</th>\n",
       "      <td>15</td>\n",
       "      <td>8.0</td>\n",
       "    </tr>\n",
       "    <tr>\n",
       "      <th>Joachim</th>\n",
       "      <td>9</td>\n",
       "      <td>12.0</td>\n",
       "    </tr>\n",
       "    <tr>\n",
       "      <th>Maixent</th>\n",
       "      <td>16</td>\n",
       "      <td>9.0</td>\n",
       "    </tr>\n",
       "    <tr>\n",
       "      <th>Nicolas</th>\n",
       "      <td>14</td>\n",
       "      <td>12.0</td>\n",
       "    </tr>\n",
       "  </tbody>\n",
       "</table>\n",
       "</div>"
      ],
      "text/plain": [
       "          math  english\n",
       "Alceste      8     14.0\n",
       "Clotaire     2      1.0\n",
       "Eudes       17     15.0\n",
       "Geoffroy    15      8.0\n",
       "Joachim      9     12.0\n",
       "Maixent     16      9.0\n",
       "Nicolas     14     12.0"
      ]
     },
     "execution_count": 45,
     "metadata": {},
     "output_type": "execute_result"
    }
   ],
   "source": [
    "grades.loc[\"Alceste\":\"Nicolas\"]"
   ]
  },
  {
   "cell_type": "markdown",
   "id": "d85980a0-5b26-43e1-b9b6-933ac546dd63",
   "metadata": {},
   "source": [
    "`.loc` et `.iloc` peuvent prendre un second paramètre qui est la colonne ce qui permet de sélectionner une donnée"
   ]
  },
  {
   "cell_type": "code",
   "execution_count": 46,
   "id": "a7fe78b4-1a5f-4bc0-a9fb-55e75aa26136",
   "metadata": {},
   "outputs": [
    {
     "data": {
      "text/plain": [
       "Alceste     14.0\n",
       "Clotaire     1.0\n",
       "Eudes       15.0\n",
       "Geoffroy     8.0\n",
       "Joachim     12.0\n",
       "Maixent      9.0\n",
       "Nicolas     12.0\n",
       "Name: english, dtype: float64"
      ]
     },
     "execution_count": 46,
     "metadata": {},
     "output_type": "execute_result"
    }
   ],
   "source": [
    "grades.loc[\"Alceste\":\"Nicolas\", \"english\"]"
   ]
  },
  {
   "cell_type": "markdown",
   "id": "cede5114-ad75-4541-ab54-240a8602e726",
   "metadata": {},
   "source": [
    "## Gérer les NaN"
   ]
  },
  {
   "cell_type": "code",
   "execution_count": null,
   "id": "218617a7-75f0-4883-9b76-efbb71ea6256",
   "metadata": {},
   "outputs": [],
   "source": [
    "grades"
   ]
  },
  {
   "cell_type": "markdown",
   "id": "bddc2a3d-63c8-469c-ab9d-e30bb724cf61",
   "metadata": {},
   "source": [
    "Nous pouvons gérer les valeurs manquantes. Voici ci-dessous comment supprimer les lignes ayant une valeur absente ou comment la remplacer par une valeur par défaut. Note : le paramètre `inplace=True` permet de modifier la valeur d'origine."
   ]
  },
  {
   "cell_type": "code",
   "execution_count": null,
   "id": "35e921b6-a22c-467d-b820-75e2db82e577",
   "metadata": {},
   "outputs": [],
   "source": [
    "grades.dropna()"
   ]
  },
  {
   "cell_type": "code",
   "execution_count": null,
   "id": "0405101c-3bf1-4933-a1ca-170329c83acc",
   "metadata": {},
   "outputs": [],
   "source": [
    "grades.fillna(value=0)\n",
    "grades"
   ]
  },
  {
   "cell_type": "markdown",
   "id": "ebc579e2-81d5-453b-b3d0-508ba97efbc8",
   "metadata": {},
   "source": [
    "Ci dessous, nous allons rajouter une matière qui a également une valeur absente."
   ]
  },
  {
   "cell_type": "code",
   "execution_count": null,
   "id": "6c57343b-74d3-4b72-89e4-d01f888b0b6d",
   "metadata": {},
   "outputs": [],
   "source": [
    "students_physics = ['Agnan', 'Alceste', 'Eudes', 'Geoffroy', 'Joachim', 'Maixent', 'Nicolas', 'Rufus']\n",
    "grades_physics = pd.Series([20, 12, 12, 18, 13, 6, 14, 10], index=students_physics)\n",
    "\n",
    "grades = pd.DataFrame({\"math\": grades_math, \"english\": grades_english, \"physics\": grades_physics})\n",
    "grades"
   ]
  },
  {
   "cell_type": "markdown",
   "id": "93491d30-4922-4c44-af80-2c9091215204",
   "metadata": {},
   "source": [
    "Nous pouvons spécifier par colonne les valeurs de remplacement."
   ]
  },
  {
   "cell_type": "code",
   "execution_count": null,
   "id": "2f13870f-0b71-4678-835b-bc2fac6082e4",
   "metadata": {},
   "outputs": [],
   "source": [
    "grades.fillna(value={\"physics\":0, \"english\":10})"
   ]
  },
  {
   "cell_type": "markdown",
   "id": "a26bcb27-0caa-4de6-ba3a-8fca0fa383b9",
   "metadata": {},
   "source": [
    "Une méthode comme `.mean()` a un paramètre `skipna=True` et l'axe par défaut est `0` soit les colonnes."
   ]
  },
  {
   "cell_type": "code",
   "execution_count": null,
   "id": "c2e21848-b030-48a9-9f2c-5a326c855976",
   "metadata": {},
   "outputs": [],
   "source": [
    "grades.mean() "
   ]
  },
  {
   "cell_type": "markdown",
   "id": "6edef11e-c61e-45e6-857e-d22c060e11b5",
   "metadata": {},
   "source": [
    "## Filtrer les données\n",
    "Pandas, comme NumPy, permet de filtrer les données. Les opérateurs de comparaison retournent des Series ou DataFrames de booléens."
   ]
  },
  {
   "cell_type": "code",
   "execution_count": null,
   "id": "72fb170d-efde-46f4-9579-b24604809b08",
   "metadata": {},
   "outputs": [],
   "source": [
    "grades.fillna(value=0).mean(1) >= 10"
   ]
  },
  {
   "cell_type": "markdown",
   "id": "9097f4a5-127e-4c02-b596-74192fbe3bb8",
   "metadata": {},
   "source": [
    "Nous pouvons définir cette structure comme filtre et l'utilser pour filtrer les données de notre DataFrame en produisant un nouveau DataFrame"
   ]
  },
  {
   "cell_type": "code",
   "execution_count": null,
   "id": "4381db30-a40a-4f8a-aeed-face5234798f",
   "metadata": {},
   "outputs": [],
   "source": [
    "filtre = grades.fillna(value=0).mean(1) >= 10\n",
    "grades[filtre]"
   ]
  },
  {
   "cell_type": "markdown",
   "id": "b83cfd25-e781-4d8d-8533-1316ac7a1d46",
   "metadata": {},
   "source": [
    "## Faire des reqêtes\n",
    "\n",
    "Nous pouvons faire des requêtes dans le DataSet pour ne sélectionner que des éléments d'intérêt"
   ]
  },
  {
   "cell_type": "code",
   "execution_count": null,
   "id": "30565f55-6c7a-4682-952d-5eb43290182f",
   "metadata": {},
   "outputs": [],
   "source": [
    "grades[grades[\"english\"] > 10]"
   ]
  },
  {
   "cell_type": "code",
   "execution_count": null,
   "id": "11c82566-2b3d-4acf-a577-28ca3b05c940",
   "metadata": {},
   "outputs": [],
   "source": [
    "grades[grades[\"english\"].notnull()]"
   ]
  },
  {
   "cell_type": "markdown",
   "id": "061e65eb-5c74-475c-94da-5d201912d45c",
   "metadata": {},
   "source": [
    "Nous pouvons combiner plusieurs critères séparés avec les opérateurs `|` et `&`. Attention, il est indispensable d'ajouter les parenthèqes pour la priorité."
   ]
  },
  {
   "cell_type": "code",
   "execution_count": null,
   "id": "8c9436b5-2ed1-4cc0-aa75-04499528eb78",
   "metadata": {},
   "outputs": [],
   "source": [
    "grades[(grades[\"english\"] > 10) & (grades[\"math\"] > 10)]"
   ]
  },
  {
   "cell_type": "markdown",
   "id": "3c8e9757-d816-452e-8060-7f13f56ac9c0",
   "metadata": {},
   "source": [
    "## Grouper et aggréger des données\n",
    "\n",
    "Les Series étant construites sur les array NumPy, elles disposent des même possibilités de calcul."
   ]
  },
  {
   "cell_type": "code",
   "execution_count": null,
   "id": "c1791c4d-420e-4ea3-af45-72b2180d817b",
   "metadata": {},
   "outputs": [],
   "source": [
    "grades_english + 2"
   ]
  },
  {
   "cell_type": "markdown",
   "id": "ca7adf68-5b00-434e-8337-db4dd4e74f14",
   "metadata": {},
   "source": [
    "Les colonnes mais également les lignes sont des séries ce qui permet d'extraire une ligne et de faire le calcul dessus."
   ]
  },
  {
   "cell_type": "code",
   "execution_count": null,
   "id": "4ed8bc48-37b3-4091-874a-8cf3fb1c342e",
   "metadata": {},
   "outputs": [],
   "source": [
    "grades.loc['Nicolas'].mean()"
   ]
  },
  {
   "cell_type": "code",
   "execution_count": null,
   "id": "58bc046c-31aa-480d-9710-f25795cd3518",
   "metadata": {},
   "outputs": [],
   "source": [
    "grades.fillna(value=0).mean(1) "
   ]
  },
  {
   "cell_type": "code",
   "execution_count": null,
   "id": "b0505a36-ed1d-4aa6-8b91-f87fdf9ee304",
   "metadata": {},
   "outputs": [],
   "source": []
  }
 ],
 "metadata": {
  "kernelspec": {
   "display_name": "Python 3 (ipykernel)",
   "language": "python",
   "name": "python3"
  },
  "language_info": {
   "codemirror_mode": {
    "name": "ipython",
    "version": 3
   },
   "file_extension": ".py",
   "mimetype": "text/x-python",
   "name": "python",
   "nbconvert_exporter": "python",
   "pygments_lexer": "ipython3",
   "version": "3.12.2"
  }
 },
 "nbformat": 4,
 "nbformat_minor": 5
}

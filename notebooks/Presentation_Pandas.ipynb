{
 "cells": [
  {
   "cell_type": "markdown",
   "metadata": {},
   "source": [
    "# Découvrons Pandas\n",
    "\n",
    "Pandas est une librairie qui permet de préparer, arranger, combiner, et analyser de grands volumes de données. Pandas repose sur NumPy ce qui permet de travailler facilement avec des tableaux (Series dans Pandas) ou des matrices (DataFrames). Ces derniers sont plus *optimisés* que le type natif. Pandas et NumPy sont donc habituellement utilisés conjointement.\n",
    "\n",
    "Note : la déclaration suivante sert à importer les fichiers ressources utilisés plus bas."
   ]
  },
  {
   "cell_type": "code",
   "execution_count": null,
   "metadata": {},
   "outputs": [],
   "source": [
    "comptage_path = '../assets/comptage-voyageurs-trains-transilien.csv'\n",
    "trips_path = '../assets/Horaires_lignes_transilien/trips.csv'\n",
    "routes_path = '../assets/Horaires_lignes_transilien/routes.csv'"
   ]
  },
  {
   "cell_type": "markdown",
   "metadata": {},
   "source": [
    "## Installation de Pandas\n",
    "Pandas est une librairie scientifique Python. Sous un système Linux, vous pouvez l’installer avec `pip`. Sous Windows ou Mac Os, vous utiliserez [Anaconda](https://www.anaconda.com).\n",
    "Les modules qui utilisent Pandas commencent habituellement par les lignes :"
   ]
  },
  {
   "cell_type": "code",
   "execution_count": null,
   "metadata": {},
   "outputs": [],
   "source": [
    "import pandas as pd\n",
    "import numpy as np"
   ]
  },
  {
   "cell_type": "markdown",
   "metadata": {},
   "source": [
    "## Pandas, les DataFrames, Series et les indexes\n",
    "Dans Pandas, un `DataFrame` est une matrice qui peut être comparée à un tableur. Les lignes ou colonnes sont des `Series`.\n",
    "Un index est une liste d’entiers (`int`) ou labels (`str`) qui identifie de manière unique une ligne ou une colonne. Les Series sont toujours indexées.\n",
    "Une série est un objet créé à l’aide d’un constructeur qui accepte en paramètre une collection. La série créée de cette manière voit ses valeurs indexés avec un entier."
   ]
  },
  {
   "cell_type": "code",
   "execution_count": null,
   "metadata": {},
   "outputs": [],
   "source": [
    "pd.Series(range(1, 5))"
   ]
  },
  {
   "cell_type": "markdown",
   "metadata": {},
   "source": [
    "L’index peut être spécifié ainsi que le nom de la série."
   ]
  },
  {
   "cell_type": "code",
   "execution_count": null,
   "metadata": {},
   "outputs": [],
   "source": [
    "pd.Series(range(1, 5), index=[\"un\", \"deux\", \"trois\", \"quatre\"], name=\"ma_serie\")"
   ]
  },
  {
   "cell_type": "markdown",
   "metadata": {},
   "source": [
    "## Accéder à un élément\n",
    "On peut accéder à un élément d’une série à partir de son label ou de son indice."
   ]
  },
  {
   "cell_type": "code",
   "execution_count": null,
   "metadata": {},
   "outputs": [],
   "source": [
    "my_serie = pd.Series(range(1, 5), index=[\"un\", \"deux\", \"trois\", \"quatre\"], name=\"ma_serie\")\n",
    "print(my_serie[0])\n",
    "print(my_serie['trois'])"
   ]
  },
  {
   "cell_type": "markdown",
   "metadata": {},
   "source": [
    "Il est également possible d’utiliser le slicing avec les Series."
   ]
  },
  {
   "cell_type": "code",
   "execution_count": null,
   "metadata": {},
   "outputs": [],
   "source": [
    "print(my_serie['un' : 'trois'])\n",
    "print(my_serie[0:3])"
   ]
  },
  {
   "cell_type": "markdown",
   "metadata": {},
   "source": [
    "Pandas permet également l'accès par les indices spécifiques."
   ]
  },
  {
   "cell_type": "code",
   "execution_count": null,
   "metadata": {},
   "outputs": [],
   "source": [
    "print(my_serie[[0,3]])\n",
    "print(my_serie[['un', 'trois', 'deux']])"
   ]
  },
  {
   "cell_type": "markdown",
   "metadata": {},
   "source": [
    "On peut appliquer des fonctions méthématiques directement sur les Series et certaines sont disponibles sous forme de *raccourcis*."
   ]
  },
  {
   "cell_type": "code",
   "execution_count": null,
   "metadata": {},
   "outputs": [],
   "source": [
    "my_serie.sum()"
   ]
  },
  {
   "cell_type": "markdown",
   "metadata": {},
   "source": [
    "On peut appliquer des opérations sur deux séries comme additionner deux séries, mais pour cela, leur indexes doivent être alignés."
   ]
  },
  {
   "cell_type": "code",
   "execution_count": null,
   "metadata": {},
   "outputs": [],
   "source": [
    "other_serie = pd.Series(np.random.rand(4), index=['trois', 'quatre', 'cinq', 'six'], name='Autre serie')\n",
    "\n",
    "my_serie + other_serie"
   ]
  },
  {
   "cell_type": "markdown",
   "metadata": {},
   "source": [
    "Pandas réalise l'union avant l'opération. Les valeurs manquantes ont été remplacées par un `NaN` (Not a number).\n",
    "\n",
    "Pandas propose des méthodes permétant par exemple de remplacer les valeur manquantes (ici par 0)"
   ]
  },
  {
   "cell_type": "code",
   "execution_count": null,
   "metadata": {},
   "outputs": [],
   "source": [
    "my_serie.add(other_serie, fill_value=0)"
   ]
  },
  {
   "cell_type": "markdown",
   "metadata": {},
   "source": [
    "Mais si les indexes sont insignifiants et seul les valeurs nous intéressent, alors on peut supprimer les indexes"
   ]
  },
  {
   "cell_type": "code",
   "execution_count": null,
   "metadata": {},
   "outputs": [],
   "source": [
    "my_serie.reset_index(drop=True) + other_serie.reset_index(drop=True)"
   ]
  },
  {
   "cell_type": "markdown",
   "metadata": {},
   "source": [
    "## Créer des DataFrames à partir de séries\n",
    "Un DataFrame est un *tableau*. On peut créer un DataFrame à partir de l'association de séries qui ont des indexes partagés. La classe DataFrame permet ceci par son constructeur."
   ]
  },
  {
   "cell_type": "code",
   "execution_count": null,
   "metadata": {},
   "outputs": [],
   "source": [
    "pd.DataFrame({'First':my_serie.reset_index(drop=True), 'Other':other_serie.reset_index(drop=True)})"
   ]
  },
  {
   "cell_type": "markdown",
   "metadata": {},
   "source": [
    "## L'import de données\n",
    "Pandas est capable d'importer des données à partie de la plupart des formats courants. Ci-dessous nous chargeons un fichier csv issu de l'OpenData de la SNCF en csv et affichons les 5 premières lignes."
   ]
  },
  {
   "cell_type": "code",
   "execution_count": null,
   "metadata": {},
   "outputs": [],
   "source": [
    "df = pd.read_csv(comptage_path,\n",
    "            sep=\";\")\n",
    "df.head()"
   ]
  },
  {
   "cell_type": "markdown",
   "metadata": {},
   "source": [
    "Chaque colonne est une `Serie` et peut être accédée comme un élément du DataFrame"
   ]
  },
  {
   "cell_type": "code",
   "execution_count": null,
   "metadata": {},
   "outputs": [],
   "source": [
    "df['Nom gare'].head()"
   ]
  },
  {
   "cell_type": "markdown",
   "metadata": {},
   "source": [
    "La méthode `describe` donne un apperçu rapide (sous forme d'une `Series`) : le nombre de données, la moyenne globale, la déviation standard, le minimum, les quartiles et le maximum de la Serie"
   ]
  },
  {
   "cell_type": "code",
   "execution_count": null,
   "metadata": {},
   "outputs": [],
   "source": [
    "df['Montants'].describe()"
   ]
  },
  {
   "cell_type": "markdown",
   "metadata": {},
   "source": [
    "Pour les valeurs autre que numériques, `describe` retourne le nombre de données, le nombre d'éléments uniques, la valeur la plus fréquente et son nombre d'occurences."
   ]
  },
  {
   "cell_type": "code",
   "execution_count": null,
   "metadata": {},
   "outputs": [],
   "source": [
    "df['Nom gare'].describe()"
   ]
  },
  {
   "cell_type": "markdown",
   "metadata": {},
   "source": [
    "Pandas permet de grouper les données"
   ]
  },
  {
   "cell_type": "code",
   "execution_count": null,
   "metadata": {},
   "outputs": [],
   "source": [
    "df.groupby(['Nom gare', 'Type de jour']).aggregate([np.mean, np.sum]).head()"
   ]
  },
  {
   "cell_type": "markdown",
   "metadata": {},
   "source": [
    "Ici, nous avons la création d'un *MultiIndex* qui permet d'organiser les données par catégorie/niveau."
   ]
  },
  {
   "cell_type": "markdown",
   "metadata": {},
   "source": [
    "Pandas permet de créer de nouveaux `DataFrame` à partir des données d'un DataFrame."
   ]
  },
  {
   "cell_type": "code",
   "execution_count": null,
   "metadata": {},
   "outputs": [],
   "source": [
    "pd.DataFrame(df.groupby(['Nom gare'])['Montants'].count()) \\\n",
    "    .sort_values('Montants', ascending=False).head()"
   ]
  },
  {
   "cell_type": "markdown",
   "metadata": {},
   "source": [
    "Pandas permet également d'extraire des informations de ce nouveau DataFrame"
   ]
  },
  {
   "cell_type": "code",
   "execution_count": null,
   "metadata": {},
   "outputs": [],
   "source": [
    "df.groupby(['Nom gare'])['Montants'].describe()"
   ]
  },
  {
   "cell_type": "markdown",
   "metadata": {},
   "source": [
    "Bien entendu, on peut réaliser des opérations sur ces extractions"
   ]
  },
  {
   "cell_type": "code",
   "execution_count": null,
   "metadata": {},
   "outputs": [],
   "source": [
    "pd.DataFrame(df.groupby(['Nom gare'])['Montants'].sum()) \\\n",
    "    .sort_values('Montants', ascending=False).head()"
   ]
  },
  {
   "cell_type": "code",
   "execution_count": null,
   "metadata": {},
   "outputs": [],
   "source": [
    "pd.DataFrame(df.groupby(['Date de comptage', 'Nom gare'])['Montants'].sum()) \\\n",
    "    .sort_values('Montants', ascending=False).head()"
   ]
  },
  {
   "cell_type": "code",
   "execution_count": null,
   "metadata": {
    "scrolled": true
   },
   "outputs": [],
   "source": [
    "tripsDF = pd.read_csv(trips_path)\n",
    "tripsDF.head(10)"
   ]
  },
  {
   "cell_type": "code",
   "execution_count": null,
   "metadata": {},
   "outputs": [],
   "source": [
    "routesDF = pd.read_csv(routes_path)\n",
    "routesDF.head(10)"
   ]
  },
  {
   "cell_type": "code",
   "execution_count": null,
   "metadata": {},
   "outputs": [],
   "source": [
    "top_routes = pd.DataFrame(tripsDF.groupby(['route_id'])['service_id'].count()) \\\n",
    "    .sort_values('service_id', ascending=False)\n",
    "top_routes.head()"
   ]
  },
  {
   "cell_type": "code",
   "execution_count": null,
   "metadata": {},
   "outputs": [],
   "source": [
    "pd.merge(tripsDF, routesDF, on='route_id')"
   ]
  },
  {
   "cell_type": "code",
   "execution_count": null,
   "metadata": {},
   "outputs": [],
   "source": [
    "pd.DataFrame(pd.merge(tripsDF, routesDF, on='route_id').groupby(('route_long_name'))['service_id'].count())\\\n",
    " .sort_values('service_id', ascending=False)"
   ]
  },
  {
   "cell_type": "markdown",
   "metadata": {},
   "source": [
    "## Graphiques avec Matplotlib"
   ]
  },
  {
   "cell_type": "code",
   "execution_count": null,
   "metadata": {},
   "outputs": [],
   "source": [
    "import matplotlib\n",
    "import seaborn\n",
    "\n",
    "%matplotlib inline\n",
    "matplotlib.rcParams['figure.figsize'] = 5, 4\n",
    "seaborn.set_style('whitegrid')"
   ]
  },
  {
   "cell_type": "code",
   "execution_count": null,
   "metadata": {},
   "outputs": [],
   "source": [
    "df['Montants'].plot()"
   ]
  },
  {
   "cell_type": "code",
   "execution_count": null,
   "metadata": {},
   "outputs": [],
   "source": [
    "pd.DataFrame(df.groupby('Nom gare')['Montants'].sum()) \\\n",
    "    .sort_values('Montants', ascending=False).plot()"
   ]
  },
  {
   "cell_type": "code",
   "execution_count": null,
   "metadata": {},
   "outputs": [],
   "source": []
  }
 ],
 "metadata": {
  "kernelspec": {
   "display_name": "Python 3",
   "language": "python",
   "name": "python3"
  },
  "language_info": {
   "codemirror_mode": {
    "name": "ipython",
    "version": 3
   },
   "file_extension": ".py",
   "mimetype": "text/x-python",
   "name": "python",
   "nbconvert_exporter": "python",
   "pygments_lexer": "ipython3",
   "version": "3.6.4"
  }
 },
 "nbformat": 4,
 "nbformat_minor": 2
}

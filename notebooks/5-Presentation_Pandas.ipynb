{
 "cells": [
  {
   "cell_type": "markdown",
   "metadata": {},
   "source": [
    "# Découvrons Pandas\n",
    "\n",
    "Pandas est une librairie qui permet de préparer, arranger, combiner, et analyser de grands volumes de données. Pandas repose sur NumPy ce qui permet de travailler facilement avec des tableaux (Series dans Pandas) ou des matrices (DataFrames). Ces derniers sont plus *optimisés* que le type natif. Pandas et NumPy sont donc habituellement utilisés conjointement.\n",
    "\n",
    "Note : la déclaration suivante sert à importer les fichiers ressources utilisés plus bas."
   ]
  },
  {
   "cell_type": "code",
   "execution_count": null,
   "metadata": {},
   "outputs": [],
   "source": [
    "comptage_path = '../assets/comptage-voyageurs-trains-transilien.csv'\n",
    "museum_path = \"../assets/frequentation-des-musees-de-france.csv\""
   ]
  },
  {
   "cell_type": "markdown",
   "metadata": {},
   "source": [
    "## Installation de Pandas\n",
    "Pandas est une librairie scientifique Python. Sous un système Linux, vous pouvez l’installer avec `pip`. Sous Windows ou Mac Os, vous utiliserez [Anaconda](https://www.anaconda.com).\n",
    "Les modules qui utilisent Pandas commencent habituellement par les lignes :"
   ]
  },
  {
   "cell_type": "code",
   "execution_count": null,
   "metadata": {},
   "outputs": [],
   "source": [
    "import pandas as pd\n",
    "import numpy as np"
   ]
  },
  {
   "cell_type": "markdown",
   "metadata": {},
   "source": [
    "## Pandas, les DataFrames, Series et les indexes\n",
    "Dans Pandas, un `DataFrame` est une matrice qui peut être comparée à un tableur. Les lignes ou colonnes sont des `Series`.\n",
    "Un index est une liste d’entiers (`int`) ou labels (`str`) qui identifie de manière unique une ligne ou une colonne. Les Series sont toujours indexées.\n",
    "Une série est un objet créé à l’aide d’un constructeur qui accepte en paramètre une collection. La série créée de cette manière voit ses valeurs indexés avec un entier."
   ]
  },
  {
   "cell_type": "code",
   "execution_count": null,
   "metadata": {},
   "outputs": [],
   "source": [
    "pd.Series(range(1, 5))"
   ]
  },
  {
   "cell_type": "markdown",
   "metadata": {},
   "source": [
    "L’index peut être spécifié ainsi que le nom de la série."
   ]
  },
  {
   "cell_type": "code",
   "execution_count": null,
   "metadata": {},
   "outputs": [],
   "source": [
    "pd.Series(range(1, 5), index=[\"un\", \"deux\", \"trois\", \"quatre\"], name=\"ma_serie\")"
   ]
  },
  {
   "cell_type": "markdown",
   "metadata": {},
   "source": [
    "## Accéder à un élément\n",
    "On peut accéder à un élément d’une série à partir de son label ou de son indice."
   ]
  },
  {
   "cell_type": "code",
   "execution_count": null,
   "metadata": {},
   "outputs": [],
   "source": [
    "my_serie = pd.Series(range(1, 5), index=[\"un\", \"deux\", \"trois\", \"quatre\"], name=\"ma_serie\")\n",
    "print(my_serie[0])\n",
    "print(my_serie['trois'])"
   ]
  },
  {
   "cell_type": "markdown",
   "metadata": {},
   "source": [
    "Mais les labels peuvent aussi être des attributs"
   ]
  },
  {
   "cell_type": "code",
   "execution_count": null,
   "metadata": {},
   "outputs": [],
   "source": [
    "my_serie.trois"
   ]
  },
  {
   "cell_type": "markdown",
   "metadata": {},
   "source": [
    "Il est également possible d’utiliser le slicing avec les Series."
   ]
  },
  {
   "cell_type": "code",
   "execution_count": null,
   "metadata": {},
   "outputs": [],
   "source": [
    "print(my_serie['un' : 'trois'])\n",
    "print(my_serie[0:3])"
   ]
  },
  {
   "cell_type": "markdown",
   "metadata": {},
   "source": [
    "Pandas permet également l'accès par les indices spécifiques."
   ]
  },
  {
   "cell_type": "code",
   "execution_count": null,
   "metadata": {},
   "outputs": [],
   "source": [
    "print(my_serie[[0,3]])\n",
    "print(my_serie[['un', 'trois', 'deux']])"
   ]
  },
  {
   "cell_type": "markdown",
   "metadata": {},
   "source": [
    "On peut appliquer des fonctions méthématiques directement sur les Series et certaines sont disponibles sous forme de *raccourcis*."
   ]
  },
  {
   "cell_type": "code",
   "execution_count": null,
   "metadata": {},
   "outputs": [],
   "source": [
    "my_serie.sum()"
   ]
  },
  {
   "cell_type": "markdown",
   "metadata": {},
   "source": [
    "On peut appliquer des opérations sur deux séries comme additionner deux séries, mais pour cela, leur indexes doivent être alignés."
   ]
  },
  {
   "cell_type": "code",
   "execution_count": null,
   "metadata": {},
   "outputs": [],
   "source": [
    "other_serie = pd.Series(np.random.rand(4), index=['trois', 'quatre', 'cinq', 'six'], name='Autre serie')\n",
    "\n",
    "my_serie + other_serie"
   ]
  },
  {
   "cell_type": "markdown",
   "metadata": {},
   "source": [
    "Pandas réalise l'union avant l'opération. Les valeurs manquantes ont été remplacées par un `NaN` (Not a number).\n",
    "\n",
    "Pandas propose des méthodes permétant par exemple de remplacer les valeur manquantes (ici par 0)"
   ]
  },
  {
   "cell_type": "code",
   "execution_count": null,
   "metadata": {},
   "outputs": [],
   "source": [
    "my_serie.add(other_serie, fill_value=0)"
   ]
  },
  {
   "cell_type": "markdown",
   "metadata": {},
   "source": [
    "Mais si les indexes sont insignifiants et seul les valeurs nous intéressent, alors on peut supprimer les indexes"
   ]
  },
  {
   "cell_type": "code",
   "execution_count": null,
   "metadata": {},
   "outputs": [],
   "source": [
    "my_serie.reset_index(drop=True) + other_serie.reset_index(drop=True)"
   ]
  },
  {
   "cell_type": "markdown",
   "metadata": {},
   "source": [
    "## Créer des DataFrames à partir de séries\n",
    "Un DataFrame est un *tableau*. On peut créer un DataFrame à partir de l'association de séries qui ont des indexes partagés. La classe DataFrame permet ceci par son constructeur."
   ]
  },
  {
   "cell_type": "code",
   "execution_count": null,
   "metadata": {},
   "outputs": [],
   "source": [
    "pd.DataFrame({'First':my_serie.reset_index(drop=True), 'Other':other_serie.reset_index(drop=True)})"
   ]
  },
  {
   "cell_type": "markdown",
   "metadata": {},
   "source": [
    "## Manipuler des données\n",
    "\n",
    "Un DataSet est disponible dans la librairie Seaborn"
   ]
  },
  {
   "cell_type": "code",
   "execution_count": null,
   "metadata": {},
   "outputs": [],
   "source": [
    "import numpy as np\n",
    "import pandas as pd\n",
    "import seaborn as sns\n",
    "\n",
    "titanic = sns.load_dataset('titanic')"
   ]
  },
  {
   "cell_type": "code",
   "execution_count": null,
   "metadata": {},
   "outputs": [],
   "source": [
    "titanic.head()"
   ]
  },
  {
   "cell_type": "code",
   "execution_count": null,
   "metadata": {},
   "outputs": [],
   "source": [
    "titanic.embark_town.unique()"
   ]
  },
  {
   "cell_type": "code",
   "execution_count": null,
   "metadata": {},
   "outputs": [],
   "source": [
    "titanic.age.unique()"
   ]
  },
  {
   "cell_type": "markdown",
   "metadata": {},
   "source": [
    "La méthode `describe` donne un apperçu rapide (sous forme d'une `Series`) : le nombre de données, la moyenne globale, la déviation standard, le minimum, les quartiles et le maximum de la Serie."
   ]
  },
  {
   "cell_type": "code",
   "execution_count": null,
   "metadata": {},
   "outputs": [],
   "source": [
    "titanic.describe()"
   ]
  },
  {
   "cell_type": "markdown",
   "metadata": {},
   "source": [
    "Pour les valeurs autre que numériques, `describe` retourne le nombre de données, le nombre d'éléments uniques, la valeur la plus fréquente et son nombre d'occurences. Lorsqu'il y a des données hétérogènes, `describe`n'affiche que les informations liées aux données quantifiées, on peut ajouter l'argument `include=\"all\"`pour tout afficher."
   ]
  },
  {
   "cell_type": "code",
   "execution_count": null,
   "metadata": {},
   "outputs": [],
   "source": [
    "titanic.describe(include=\"all\")"
   ]
  },
  {
   "cell_type": "markdown",
   "metadata": {},
   "source": [
    "Il manque des données âge, nus pouvons leur donner une valeur spécifique."
   ]
  },
  {
   "cell_type": "code",
   "execution_count": null,
   "metadata": {},
   "outputs": [],
   "source": [
    "titanic.age.head(10)"
   ]
  },
  {
   "cell_type": "code",
   "execution_count": null,
   "metadata": {},
   "outputs": [],
   "source": [
    "titanic.fillna(value={\"age\": 0}).age.head(10)"
   ]
  },
  {
   "cell_type": "markdown",
   "metadata": {},
   "source": [
    "Ou la valeur précédente"
   ]
  },
  {
   "cell_type": "code",
   "execution_count": null,
   "metadata": {},
   "outputs": [],
   "source": [
    "titanic.fillna(method=\"pad\").age.head(10)"
   ]
  },
  {
   "cell_type": "markdown",
   "metadata": {},
   "source": [
    "Ou supprimer la ligne"
   ]
  },
  {
   "cell_type": "code",
   "execution_count": null,
   "metadata": {},
   "outputs": [],
   "source": [
    "titanic.dropna().head(10)"
   ]
  },
  {
   "cell_type": "markdown",
   "metadata": {},
   "source": [
    "## Les *tableaux croisés dynamiques*\n",
    "Pour voir la répartition des survivants en fonction de leurs sexes et de leur type de billet, nous n'avons besoin que d'une seule ligne"
   ]
  },
  {
   "cell_type": "code",
   "execution_count": null,
   "metadata": {},
   "outputs": [],
   "source": [
    "titanic.pivot_table('survived', index='sex', columns='class')"
   ]
  },
  {
   "cell_type": "markdown",
   "metadata": {},
   "source": [
    "Les données sont groupées en fonction des critères que nous spécifions, et les résultats aggrégés en moyenne. Nous pouvons spécifier d'autres fonctions. Par exemple, si nous voulons savoir quelle est le nombre total de survivants dans chaque cas, nous utiliserons la fonction `sum`."
   ]
  },
  {
   "cell_type": "code",
   "execution_count": null,
   "metadata": {},
   "outputs": [],
   "source": [
    "titanic.pivot_table('survived', index='sex', columns='class', aggfunc=\"sum\")"
   ]
  },
  {
   "cell_type": "markdown",
   "metadata": {},
   "source": [
    "Nous pouvons aussi créer un dataframe multi-indexé où l'âge est une dimension suplémentaire grâce à la fonction `cut`."
   ]
  },
  {
   "cell_type": "code",
   "execution_count": null,
   "metadata": {},
   "outputs": [],
   "source": [
    "titanic.dropna(inplace=True)\n",
    "age = pd.cut(titanic['age'], [0, 18, 80])\n",
    "titanic.pivot_table('survived', ['sex', age], 'class')"
   ]
  },
  {
   "cell_type": "markdown",
   "metadata": {},
   "source": [
    "## L'import de données\n",
    "Pandas est capable d'importer des données à partie de la plupart des formats courants. Ci-dessous nous chargeons un fichier csv issu de l'OpenData de la SNCF en csv et affichons les 5 premières lignes."
   ]
  },
  {
   "cell_type": "code",
   "execution_count": null,
   "metadata": {},
   "outputs": [],
   "source": [
    "df = pd.read_csv(comptage_path,\n",
    "            sep=\";\")\n",
    "df.head()"
   ]
  },
  {
   "cell_type": "markdown",
   "metadata": {},
   "source": [
    "Chaque colonne est une `Serie` et peut être accédée comme un élément du DataFrame"
   ]
  },
  {
   "cell_type": "code",
   "execution_count": null,
   "metadata": {},
   "outputs": [],
   "source": [
    "df['Nom gare'].head()"
   ]
  },
  {
   "cell_type": "markdown",
   "metadata": {},
   "source": [
    "Utilisons la méthode `describe` pour un apperçu rapide (sous forme d'une `Series`)"
   ]
  },
  {
   "cell_type": "code",
   "execution_count": null,
   "metadata": {},
   "outputs": [],
   "source": [
    "df['Montants'].describe()"
   ]
  },
  {
   "cell_type": "code",
   "execution_count": null,
   "metadata": {},
   "outputs": [],
   "source": [
    "df['Nom gare'].describe()"
   ]
  },
  {
   "cell_type": "markdown",
   "metadata": {},
   "source": [
    "Pandas permet de trier les données"
   ]
  },
  {
   "cell_type": "code",
   "execution_count": null,
   "metadata": {},
   "outputs": [],
   "source": [
    "df.sort_values(\"Nom gare\")"
   ]
  },
  {
   "cell_type": "markdown",
   "metadata": {},
   "source": [
    "Pandas permet de grouper les données"
   ]
  },
  {
   "cell_type": "code",
   "execution_count": null,
   "metadata": {},
   "outputs": [],
   "source": [
    "df.groupby(['Nom gare', 'Type jour']).aggregate([np.mean, np.sum]).head(6)"
   ]
  },
  {
   "cell_type": "markdown",
   "metadata": {},
   "source": [
    "Ici, nous avons la création d'un *MultiIndex* qui permet d'organiser les données par catégorie/niveau et précisions 6 lignes d'affichage pour avoir tous les éléments."
   ]
  },
  {
   "cell_type": "markdown",
   "metadata": {},
   "source": [
    "Pandas permet de créer de nouveaux `DataFrame` à partir des données d'un DataFrame."
   ]
  },
  {
   "cell_type": "code",
   "execution_count": null,
   "metadata": {},
   "outputs": [],
   "source": [
    "pd.DataFrame(df.groupby(['Nom gare'])['Montants'].count()) \\\n",
    "    .sort_values('Montants', ascending=False).head()"
   ]
  },
  {
   "cell_type": "markdown",
   "metadata": {},
   "source": [
    "Pandas permet également d'extraire des informations de ce nouveau DataFrame"
   ]
  },
  {
   "cell_type": "code",
   "execution_count": null,
   "metadata": {},
   "outputs": [],
   "source": [
    "df.groupby(['Nom gare'])['Montants'].describe()"
   ]
  },
  {
   "cell_type": "markdown",
   "metadata": {},
   "source": [
    "Bien entendu, on peut réaliser des opérations sur ces extractions"
   ]
  },
  {
   "cell_type": "code",
   "execution_count": null,
   "metadata": {},
   "outputs": [],
   "source": [
    "pd.DataFrame(df.groupby(['Nom gare'])['Montants'].sum()) \\\n",
    "    .sort_values('Montants', ascending=False).head()"
   ]
  },
  {
   "cell_type": "code",
   "execution_count": null,
   "metadata": {},
   "outputs": [],
   "source": [
    "pd.DataFrame(df.groupby(['Date de comptage', 'Nom gare'])['Montants'].sum()) \\\n",
    "    .sort_values('Montants', ascending=False).head()"
   ]
  },
  {
   "cell_type": "markdown",
   "metadata": {},
   "source": [
    "## Graphiques avec Matplotlib"
   ]
  },
  {
   "cell_type": "code",
   "execution_count": null,
   "metadata": {},
   "outputs": [],
   "source": [
    "import matplotlib\n",
    "import seaborn\n",
    "\n",
    "matplotlib.rcParams['figure.figsize'] = 5, 4\n",
    "seaborn.set_style('whitegrid')"
   ]
  },
  {
   "cell_type": "code",
   "execution_count": null,
   "metadata": {},
   "outputs": [],
   "source": [
    "df['Montants'].plot()"
   ]
  },
  {
   "cell_type": "code",
   "execution_count": null,
   "metadata": {},
   "outputs": [],
   "source": [
    "pd.DataFrame(df.groupby('Nom gare')['Montants'].sum()) \\\n",
    "    .sort_values('Montants', ascending=False).plot()"
   ]
  },
  {
   "cell_type": "code",
   "execution_count": null,
   "metadata": {},
   "outputs": [],
   "source": []
  }
 ],
 "metadata": {
  "kernelspec": {
   "display_name": "Python 3",
   "language": "python",
   "name": "python3"
  },
  "language_info": {
   "codemirror_mode": {
    "name": "ipython",
    "version": 3
   },
   "file_extension": ".py",
   "mimetype": "text/x-python",
   "name": "python",
   "nbconvert_exporter": "python",
   "pygments_lexer": "ipython3",
   "version": "3.7.4"
  }
 },
 "nbformat": 4,
 "nbformat_minor": 2
}

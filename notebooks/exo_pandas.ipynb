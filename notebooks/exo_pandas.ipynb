{
 "cells": [
  {
   "cell_type": "markdown",
   "id": "b845239f-009f-45c6-bdef-c63bfc255890",
   "metadata": {},
   "source": [
    "# Exercices Pandas\n",
    "\n",
    "## Découverte du jeu de données\n",
    "\n",
    "Nous avons un fichier de comptage de voyageurs dans le transilien que nous allons utiliser avec Pandas."
   ]
  },
  {
   "cell_type": "code",
   "execution_count": null,
   "id": "e1713cbe-9fe4-426f-b0cd-ad11cacd92a7",
   "metadata": {},
   "outputs": [],
   "source": [
    "import pandas as pd\n",
    "file_path = '../assets/comptage-voyageurs-trains-transilien.csv'"
   ]
  },
  {
   "cell_type": "markdown",
   "id": "3730a928-c22c-474d-aceb-506ec74012c5",
   "metadata": {},
   "source": [
    "Chargez le fichier et consultez le pour prendre connaissance de sa structure (colonnes), son contenu, son type de données.\n",
    "\n",
    "N'hésiter pas à ajouter des cellules ci-dessous si nécessaire."
   ]
  },
  {
   "cell_type": "code",
   "execution_count": null,
   "id": "7fb140de-63e7-4c56-8bff-ed7cca867883",
   "metadata": {},
   "outputs": [],
   "source": []
  },
  {
   "cell_type": "code",
   "execution_count": null,
   "id": "dda39fce-ca66-4cb5-bcb0-372bcc8446cd",
   "metadata": {},
   "outputs": [],
   "source": []
  },
  {
   "cell_type": "code",
   "execution_count": null,
   "id": "2180436f-a582-417d-86a7-d562352babd8",
   "metadata": {},
   "outputs": [],
   "source": []
  },
  {
   "cell_type": "markdown",
   "id": "6b46bacb-435f-4697-919a-ccffc3ac2b93",
   "metadata": {},
   "source": [
    "Vous devez être capable de répondre aux questions suivantes :\n",
    " * Quelles sont les données étudiées\n",
    " * Combien avons nous de lignes ?\n",
    " * Ces données semblent-elles correctes et si non, combien de lignes incorrectes ?\n",
    " * Ces mesures ont été réalisées entre quelles années ?\n",
    " * Quel a été le nombre maximum de montants ?\n",
    " * Ces mesures ont été effectuées dans combien de gares ?\n",
    " * Dans quelle gare y a-t-il eu le plus de comptages (et combien) ?\n",
    " * Combien de jours de comptage y a-t-il eu ?\n",
    "\n",
    "Remarquons qu'une donnée a été mal interprétée…"
   ]
  },
  {
   "cell_type": "code",
   "execution_count": null,
   "id": "3e479a92-a7c5-424c-bae7-08b40b73dc5e",
   "metadata": {},
   "outputs": [],
   "source": []
  },
  {
   "cell_type": "markdown",
   "id": "561c1c9f-1a2f-4a01-8ff0-ea0ecf6e0d62",
   "metadata": {},
   "source": []
  },
  {
   "cell_type": "markdown",
   "id": "514e0386-f267-4f97-b303-0a5c0d686057",
   "metadata": {},
   "source": [
    "## Les Series\n",
    "\n",
    "Grâce aux outils permettant d'explorer les Series vous devez être en mesure de répondre aux questions suivantes :\n",
    " * Pouvez-vous avoir la liste des lignes étudiées ?\n",
    " * Pouvez-vous avoir le nombre de comptages par gare ?\n",
    " * Pouvez-vous vérifier visuellement si la répartition des comptages par tranche horaire est uniforme ?"
   ]
  },
  {
   "cell_type": "code",
   "execution_count": null,
   "id": "3ccfc27c-af7c-4a0c-8890-f16235e0eae3",
   "metadata": {},
   "outputs": [],
   "source": []
  },
  {
   "cell_type": "markdown",
   "id": "7a2fee3e-e97b-4b9a-abfc-3d56c4f1c6bc",
   "metadata": {},
   "source": [
    "## Manipulation des données\n",
    "Essayez de pratiquer les outils que nous venons de voir et essayez de :\n",
    " * compter le nombre de comptages par gare\n",
    " * générer un nouveau jeu de données des lignes de Paris Nord avec leur moyenne de montants\n",
    " * avoir la moyenne des comptages par jour pour la ligne B à Gare du Nord\n",
    " * tracer un graphique en barres de l'une ou l'autre des mesures précédentes."
   ]
  },
  {
   "cell_type": "code",
   "execution_count": null,
   "id": "0898d70a",
   "metadata": {},
   "outputs": [],
   "source": []
  }
 ],
 "metadata": {
  "kernelspec": {
   "display_name": "Python 3 (ipykernel)",
   "language": "python",
   "name": "python3"
  },
  "language_info": {
   "codemirror_mode": {
    "name": "ipython",
    "version": 3
   },
   "file_extension": ".py",
   "mimetype": "text/x-python",
   "name": "python",
   "nbconvert_exporter": "python",
   "pygments_lexer": "ipython3",
   "version": "3.11.2"
  }
 },
 "nbformat": 4,
 "nbformat_minor": 5
}

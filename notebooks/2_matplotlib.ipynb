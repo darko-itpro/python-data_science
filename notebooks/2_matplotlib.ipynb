{
 "cells": [
  {
   "cell_type": "markdown",
   "metadata": {},
   "source": [
    "# Introduction à Matplotlib\n",
    "\n",
    "Matplotlib est une bibliothèque permettant de tracer des graphes 2D. En particulier, `pyplot` est le framework MATLAB-like. Les fonctions utilisées par matplotlib nécessitent des données de type `np.array`. Il est donc nécessaire d'importer les deux bibliothèques."
   ]
  },
  {
   "cell_type": "code",
   "execution_count": null,
   "metadata": {},
   "outputs": [],
   "source": [
    "import matplotlib.pyplot as plt\n",
    "import numpy as np"
   ]
  },
  {
   "cell_type": "markdown",
   "metadata": {},
   "source": [
    "`pyplot` propose une fonction `plot` qui permet de tracer facilement des graphes."
   ]
  },
  {
   "cell_type": "code",
   "execution_count": null,
   "metadata": {},
   "outputs": [],
   "source": [
    "x = np.arange(0, 5, 0.1);\n",
    "y = np.sin(x)\n",
    "plt.plot(x, y)"
   ]
  },
  {
   "cell_type": "markdown",
   "metadata": {},
   "source": [
    "`plot` peut être configurée pour modifier l'apparence."
   ]
  },
  {
   "cell_type": "code",
   "execution_count": null,
   "metadata": {},
   "outputs": [],
   "source": [
    "x = np.arange(0, 5, 0.1);\n",
    "y = np.sin(x)\n",
    "plt.plot(x, y, 'g*-')"
   ]
  },
  {
   "cell_type": "markdown",
   "metadata": {},
   "source": [
    "Il est possibe de tracer plusieurs courbes sur le même graphe. Pour cela, il suffit d'appeler la fonction `plot` pllusieurs fois."
   ]
  },
  {
   "cell_type": "code",
   "execution_count": null,
   "metadata": {},
   "outputs": [],
   "source": [
    "plt.plot(x, y)\n",
    "plt.plot(x, np.cos(x))"
   ]
  },
  {
   "cell_type": "markdown",
   "metadata": {},
   "source": [
    "Matplotlib propose un certain nombre de *styles* pour les graphiques qu'il est possible de configurer avant de dessiner le graphe."
   ]
  },
  {
   "cell_type": "code",
   "execution_count": null,
   "metadata": {},
   "outputs": [],
   "source": [
    "plt.style.use('seaborn-dark')\n",
    "plt.plot(x, y)"
   ]
  },
  {
   "cell_type": "code",
   "execution_count": null,
   "metadata": {},
   "outputs": [],
   "source": [
    "plt.plot(x, y)"
   ]
  },
  {
   "cell_type": "markdown",
   "metadata": {},
   "source": [
    "Un graphe peut être renseigné avec le nom des axes et la légende."
   ]
  },
  {
   "cell_type": "code",
   "execution_count": null,
   "metadata": {},
   "outputs": [],
   "source": [
    "x = np.linspace(0, 2, 100)\n",
    "\n",
    "plt.plot(x, x, label='linear')\n",
    "plt.plot(x, x**2, label='quadratic')\n",
    "plt.plot(x, x**3, label='cubic')\n",
    "\n",
    "plt.xlabel('x label')\n",
    "plt.ylabel('y label')\n",
    "\n",
    "plt.title(\"Simple Plot\")\n",
    "\n",
    "plt.legend()\n",
    "\n",
    "plt.show()"
   ]
  },
  {
   "cell_type": "markdown",
   "metadata": {},
   "source": [
    "La fonction `subplots` permet de tracer plusieurs graphes. Pour cela, subplots crée un objet *figure* qui est un conteneur. Cette fonction crée également des *axes* (autant que spécifiés en paramètre). Chaque axe est un conteneur pour un graphe."
   ]
  },
  {
   "cell_type": "code",
   "execution_count": null,
   "metadata": {},
   "outputs": [],
   "source": [
    "fig, ax_lst = plt.subplots(1, 3)  # a figure with a 2x2 grid of Axes\n",
    "\n",
    "x = np.linspace(0, 2, 100)\n",
    "\n",
    "ax_lst[0].plot(x, x, 'r-', label='linear')\n",
    "ax_lst[1].plot(x, x**2, 'g-', label='quadratic')\n",
    "ax_lst[2].plot(x, x**3, label='cubic')\n",
    "\n",
    "fig.suptitle(\"Simple Plot\")\n",
    "ax_lst[0].legend()\n",
    "ax_lst[1].legend()\n",
    "ax_lst[2].legend()"
   ]
  },
  {
   "cell_type": "markdown",
   "metadata": {},
   "source": [
    "Par défaut, matplotlib adaptera l'affichage au mieux. On peut évidemment configurer la présentation, ici en fixant la limite de l'axe y."
   ]
  },
  {
   "cell_type": "code",
   "execution_count": null,
   "metadata": {},
   "outputs": [],
   "source": [
    "fig, ax_lst = plt.subplots(1, 3)  # a figure with a 2x2 grid of Axes\n",
    "\n",
    "ax_lst[0].plot(x, x, 'r-', label='linear')\n",
    "ax_lst[1].plot(x, x**2, 'g-', label='quadratic')\n",
    "ax_lst[2].plot(x, x**3, label='cubic')\n",
    "\n",
    "fig.suptitle(\"Simple Plot\")\n",
    "fig.legend()\n",
    "\n",
    "for ax in ax_lst:\n",
    "    ax.legend()\n",
    "    ax.set_ylim(0, 8)"
   ]
  },
  {
   "cell_type": "markdown",
   "metadata": {},
   "source": [
    "## Autre type de graphe"
   ]
  },
  {
   "cell_type": "markdown",
   "metadata": {},
   "source": [
    "La fonction `scatter` se comporte comme `plot` mais ne relie pas les points entre eux."
   ]
  },
  {
   "cell_type": "code",
   "execution_count": null,
   "metadata": {},
   "outputs": [],
   "source": [
    "x = np.arange(0, 5, 0.1);\n",
    "y = np.sin(x)\n",
    "plt.scatter(x, y)"
   ]
  },
  {
   "cell_type": "markdown",
   "metadata": {},
   "source": [
    "Exemple de représentation de graphiques"
   ]
  },
  {
   "cell_type": "code",
   "execution_count": null,
   "metadata": {},
   "outputs": [],
   "source": [
    "plt.rcParams.update({'font.size': 15}) # Chanegr la taille de police par défaut\n",
    "\n",
    "fig = plt.figure()\n",
    "ax = plt.axes()\n",
    "plt.plot(x, np.sin(x - 0), color='blue', linestyle='solid', label='bleu')\n",
    "plt.plot(x, np.sin(x - 1), color='g', linestyle='dashed', label='vert')\n",
    "plt.plot(x, np.sin(x - 2), color='0.75', linestyle='dashdot', label='gris')\n",
    "plt.plot(x, np.sin(x - 3), color='#FF0000', linestyle='dotted', label='rouge')\n",
    "\n",
    "plt.axis([-1, 11, -1.5, 1.5]);\n",
    "\n",
    "plt.title(\"Un exemple de graphe\")\n",
    "\n",
    "plt.legend(loc='lower right');\n",
    "\n",
    "ax = ax.set(xlabel='x', ylabel='sin(x)')"
   ]
  },
  {
   "cell_type": "markdown",
   "metadata": {},
   "source": [
    "Visualiser l'incertitude avec des barres d'erreur"
   ]
  },
  {
   "cell_type": "code",
   "execution_count": null,
   "metadata": {},
   "outputs": [],
   "source": [
    "x = np.linspace(0, 10, 50)\n",
    "dy = 0.8\n",
    "y = np.sin(x) + dy * np.random.randn(50)\n",
    "\n",
    "plt.errorbar(x, y, yerr=dy, fmt='.k');"
   ]
  }
 ],
 "metadata": {
  "kernelspec": {
   "display_name": "Python 3",
   "language": "python",
   "name": "python3"
  },
  "language_info": {
   "codemirror_mode": {
    "name": "ipython",
    "version": 3
   },
   "file_extension": ".py",
   "mimetype": "text/x-python",
   "name": "python",
   "nbconvert_exporter": "python",
   "pygments_lexer": "ipython3",
   "version": "3.7.4"
  }
 },
 "nbformat": 4,
 "nbformat_minor": 2
}

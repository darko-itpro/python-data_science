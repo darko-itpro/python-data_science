{
 "cells": [
  {
   "cell_type": "markdown",
   "metadata": {},
   "source": [
    "# Introduction à Matplotlib\n",
    "\n",
    "Matplotlib est une bibliothèque permettant de tracer des graphes 2D. En particulier, `pyplot` est le framework MATLAB-like. Les fonctions utilisées par matplotlib nécessitent des données de type `np.array`. Il est donc nécessaire d'importer les deux bibliothèques."
   ]
  },
  {
   "cell_type": "code",
   "metadata": {},
   "source": [
    "import matplotlib.pyplot as plt\n",
    "import numpy as np"
   ],
   "outputs": [],
   "execution_count": null
  },
  {
   "cell_type": "markdown",
   "metadata": {},
   "source": [
    "`pyplot` propose une fonction `plot` qui permet de tracer facilement des graphes. Cette fonction accepte deux arguments : la liste des abscisses et la liste des ordonnées. Cette fonction relie les points par des segments de droite.\n",
    "\n",
    "Le graphique sera affiché par la fonction `show()`."
   ]
  },
  {
   "cell_type": "code",
   "metadata": {},
   "source": [
    "x = np.linspace(0, 5)\n",
    "y = np.sin(x)\n",
    "\n",
    "plt.plot(x, y)\n",
    "plt.show()"
   ],
   "outputs": [],
   "execution_count": null
  },
  {
   "metadata": {},
   "cell_type": "markdown",
   "source": "Il n'y a besoin de rien de plus pour tracer des graphiques *de base*. La fonction `plot` permet de tracer un graph de points reliés par des lignes. D'autres fonctions permettent de représenter d'autres types de graphes plus adaptés pour vos données. Par exemple, ci-dessous, des notes sous forme de barres."
  },
  {
   "metadata": {},
   "cell_type": "code",
   "source": [
    "grades = np.array([20, 8, 2, 17, 15, 9, 16, 14, 13])\n",
    "students = ['Agnan', 'Alceste', 'Clotaire', 'Eudes', 'Geoffroy', 'Joachim', 'Maixent', 'Nicolas', 'Rufus']\n",
    "\n",
    "plt.bar(students, grades)\n",
    "plt.show()"
   ],
   "outputs": [],
   "execution_count": null
  },
  {
   "metadata": {},
   "cell_type": "markdown",
   "source": "Ou des camemberts."
  },
  {
   "metadata": {},
   "cell_type": "code",
   "source": [
    "sizes = [15, 30, 45, 10]\n",
    "labels = ['Something', 'Something else', 'A stuff', 'Must mean something']\n",
    "\n",
    "plt.pie(sizes, labels=labels)\n",
    "plt.show()"
   ],
   "outputs": [],
   "execution_count": null
  },
  {
   "cell_type": "markdown",
   "metadata": {},
   "source": [
    "## Apparence avec plot\n",
    "\n",
    "Nous allons rester sur les lignes.\n",
    "\n",
    "L'apparence des graphes peut être modifié en paramétrant `plot`."
   ]
  },
  {
   "cell_type": "code",
   "metadata": {},
   "source": [
    "plt.plot(x, y, 'r*-')\n",
    "plt.show()"
   ],
   "outputs": [],
   "execution_count": null
  },
  {
   "cell_type": "markdown",
   "metadata": {},
   "source": [
    "Vous pouvez trouver la [documentation des marqueurs](https://matplotlib.org/stable/api/markers_api.html) et la [documentaiton des couleurs](https://matplotlib.org/stable/api/colors_api.html).\n",
    "\n",
    "Il est possibe de tracer plusieurs courbes sur le même graphe. Pour cela, il suffit d'appeler la fonction `plot` pllusieurs fois."
   ]
  },
  {
   "cell_type": "code",
   "metadata": {},
   "source": [
    "plt.plot(x, np.sin(x))\n",
    "plt.plot(x, np.cos(x))\n",
    "plt.show()"
   ],
   "outputs": [],
   "execution_count": null
  },
  {
   "cell_type": "markdown",
   "metadata": {},
   "source": [
    "Ou tout simplement de passer en un seul appel à la fonction. C'est une option *pratique* à réserver à certains cas."
   ]
  },
  {
   "cell_type": "code",
   "metadata": {},
   "source": [
    "plt.plot(x, np.sin(x), x, np.cos(x))\n",
    "plt.show()"
   ],
   "outputs": [],
   "execution_count": null
  },
  {
   "cell_type": "markdown",
   "metadata": {},
   "source": [
    "Un graphe peut être renseigné avec le nom des axes et la légende."
   ]
  },
  {
   "cell_type": "code",
   "metadata": {},
   "source": [
    "plt.plot(x, x, label='linear')\n",
    "plt.plot(x, x**2, label='quadratic')\n",
    "plt.plot(x, x**3, label='cubic')\n",
    "\n",
    "plt.xlabel('x label')\n",
    "plt.ylabel('y label')\n",
    "\n",
    "plt.title(\"Simple Plot\")\n",
    "\n",
    "plt.legend()\n",
    "\n",
    "plt.show()"
   ],
   "outputs": [],
   "execution_count": null
  },
  {
   "cell_type": "markdown",
   "metadata": {},
   "source": [
    "La fonction `plt.plot()` simplifie la structure manipulée. En effet, un graphique matplotlib consiste en une **figure** contenant au moins un **Axes** (notez la première lettre en capital, à ne pas confondre avec un axe, *axis*).\n",
    "Jusqu'ici, nous avons laissé la fonction créer une figure et un Axes.\n",
    "\n",
    "Mais si nous avons besoin de présenter des *graphes* distincts, nous allons devoir les déclarer.\n",
    "\n",
    "Le code suivant crée 2 Axes en tant que `plt.subplot()`."
   ]
  },
  {
   "cell_type": "code",
   "metadata": {},
   "source": [
    "plt.figure()\n",
    "plt.subplot(2, 1, 1)\n",
    "plt.plot(x, np.sin(x))\n",
    "plt.subplot(2, 1, 2)\n",
    "plt.plot(x, np.cos(x))\n",
    "\n",
    "plt.show()"
   ],
   "outputs": [],
   "execution_count": null
  },
  {
   "cell_type": "markdown",
   "metadata": {},
   "source": [
    "Mais pour plus de souplesse, il matplotlib offre aussi une syntaxe objet.\n",
    "\n",
    "## La syntaxe objet\n",
    "La fonction `plt.subplots()` nous retourn un N-uplet de 2 données : la figure et les Axes.\n",
    "\n",
    "Commençons par revoir le graphe légendé sous forme objet"
   ]
  },
  {
   "cell_type": "code",
   "metadata": {},
   "source": [
    "fig, ax = plt.subplots(1, 1)\n",
    "\n",
    "ax.plot(x, x, label='linear')\n",
    "ax.plot(x, x**2, label='quadratic')\n",
    "ax.plot(x, x**3, label='cubic')\n",
    "\n",
    "ax.set_xlabel('x label')\n",
    "ax.set_ylabel('y label')\n",
    "\n",
    "ax.set_title(\"Simple Plot\")\n",
    "\n",
    "ax.legend()\n",
    "plt.show()"
   ],
   "outputs": [],
   "execution_count": null
  },
  {
   "cell_type": "markdown",
   "metadata": {},
   "source": [
    "Nous pouvons aussi travailler sur plusieurs *Axes* dans une même figure."
   ]
  },
  {
   "cell_type": "code",
   "metadata": {},
   "source": [
    "fig, ax_lst = plt.subplots(1, 3)\n",
    "\n",
    "ax_lst[0].plot(x, x, 'r-', label='linear')\n",
    "ax_lst[1].plot(x, x**2, 'g-', label='quadratic')\n",
    "ax_lst[2].plot(x, x**3, label='cubic')\n",
    "\n",
    "fig.suptitle(\"Simple Plot\")\n",
    "ax_lst[0].legend()\n",
    "ax_lst[1].legend()\n",
    "ax_lst[2].legend()\n",
    "plt.show()"
   ],
   "outputs": [],
   "execution_count": null
  },
  {
   "cell_type": "markdown",
   "metadata": {},
   "source": [
    "Par défaut, matplotlib adaptera l'affichage au mieux. On peut évidemment configurer la présentation, ici en fixant la limite de l'axe y."
   ]
  },
  {
   "cell_type": "code",
   "metadata": {},
   "source": [
    "fig, ax_lst = plt.subplots(1, 3)\n",
    "\n",
    "ax_lst[0].plot(x, x, 'r-', label='linear')\n",
    "ax_lst[1].plot(x, x**2, 'g-', label='quadratic')\n",
    "ax_lst[2].plot(x, x**3, label='cubic')\n",
    "\n",
    "fig.suptitle(\"Simple Plot\")\n",
    "#fig.legend()\n",
    "\n",
    "for ax in ax_lst:\n",
    "    ax.legend()\n",
    "    ax.set_ylim(0, 50)"
   ],
   "outputs": [],
   "execution_count": null
  },
  {
   "cell_type": "markdown",
   "metadata": {},
   "source": [
    "Vous pouvez donc créer une fonction *helper* qui vous permet de prendre en charge l'affichage des données"
   ]
  },
  {
   "cell_type": "code",
   "metadata": {},
   "source": [
    "def my_plotter(ax, data1, data2, params: dict):\n",
    "    ax.plot(data1, data2, **params)\n",
    "    ax.legend()\n",
    "    ax.set_ylim(0, 50)\n",
    "    \n",
    "fig, ax_lst = plt.subplots(1, 3)\n",
    "\n",
    "x2 = x**2\n",
    "x3 = x**3\n",
    "\n",
    "my_plotter(ax_lst[0], x, x, {'color': 'red', 'label': 'linear'})\n",
    "my_plotter(ax_lst[1], x, x2, {'color': 'green', 'label': 'quadratic'})\n",
    "my_plotter(ax_lst[2], x, x3, {'label': 'cubic'})\n",
    "\n",
    "fig.suptitle(\"Simple Plot\")"
   ],
   "outputs": [],
   "execution_count": null
  },
  {
   "cell_type": "markdown",
   "metadata": {},
   "source": [
    "## Autre type de graphe"
   ]
  },
  {
   "cell_type": "markdown",
   "metadata": {},
   "source": [
    "### Exemple de paramétrage de l'affichage"
   ]
  },
  {
   "cell_type": "code",
   "metadata": {},
   "source": [
    "fig = plt.figure()\n",
    "ax = plt.axes()\n",
    "plt.plot(x, np.sin(x - 0), color='blue', linestyle='solid', label='bleu')\n",
    "plt.plot(x, np.sin(x - 1), color='g', linestyle='dashed', label='vert')\n",
    "plt.plot(x, np.sin(x - 2), color='0.75', linestyle='dashdot', label='gris')\n",
    "plt.plot(x, np.sin(x - 3), color='#FF0000', linestyle='dotted', label='rouge')\n",
    "\n",
    "plt.axis((-1, 11, -1.5, 1.5))\n",
    "\n",
    "plt.title(\"Un exemple de graphe\")\n",
    "\n",
    "plt.legend(loc='lower right')\n",
    "\n",
    "ax = ax.set(xlabel='x', ylabel='sin(x)')"
   ],
   "outputs": [],
   "execution_count": null
  },
  {
   "cell_type": "markdown",
   "metadata": {},
   "source": [
    "### La fonction `scatter`"
   ]
  },
  {
   "cell_type": "code",
   "metadata": {},
   "source": [
    "np.random.seed(19680801)\n",
    "\n",
    "data = {'a': np.arange(50),\n",
    "        'c': np.random.randint(0, 50, 50),\n",
    "        'd': np.random.randn(50)}\n",
    "data['b'] = data['a'] + 10 * np.random.randn(50)\n",
    "data['d'] = np.abs(data['d']) * 100\n",
    "\n",
    "fig, ax = plt.subplots(figsize=(5, 2.7), layout='constrained')\n",
    "\n",
    "ax.scatter('a', 'b', s='d', data=data)\n",
    "\n",
    "ax.set_xlabel('entry a')\n",
    "ax.set_ylabel('entry b')"
   ],
   "outputs": [],
   "execution_count": null
  },
  {
   "cell_type": "markdown",
   "metadata": {},
   "source": [
    "### Une représentation statistique avec marge d'erreur"
   ]
  },
  {
   "cell_type": "code",
   "metadata": {},
   "source": [
    "x = np.linspace(0, 10, 50)\n",
    "y_err = np.random.randn(50) * 0.4\n",
    "y = np.sin(x) + y_err\n",
    "\n",
    "plt.errorbar(x, y, yerr=abs(y_err), fmt='.k')\n",
    "#plt.plot(x, np.sin(x))\n",
    "plt.show()"
   ],
   "outputs": [],
   "execution_count": null
  },
  {
   "cell_type": "markdown",
   "metadata": {},
   "source": [
    "### Les camemberts (parce que c'est mieux que les tartes)"
   ]
  },
  {
   "cell_type": "code",
   "metadata": {},
   "source": [
    "sizes = [15, 30, 45, 10]\n",
    "labels = ['Something', 'Something else', 'A stuff', 'Must mean something']"
   ],
   "outputs": [],
   "execution_count": null
  },
  {
   "cell_type": "code",
   "metadata": {},
   "source": [
    "plt.pie(sizes, labels=labels, autopct=\"%1.1f%%\")\n",
    "plt.show()"
   ],
   "outputs": [],
   "execution_count": null
  },
  {
   "cell_type": "code",
   "metadata": {},
   "source": [
    "plt.pie(sizes, labels=labels, autopct=\"%1.1f%%\")\n",
    "circle = plt.Circle((0, 0), 0.8, color='white')\n",
    "plt.gca().add_artist(circle)\n",
    "plt.show()"
   ],
   "outputs": [],
   "execution_count": null
  },
  {
   "cell_type": "code",
   "metadata": {},
   "source": [
    "explode = (0, 0.1, 0, 0)\n",
    "\n",
    "plt.pie(sizes, explode=explode, labels=labels, autopct='%1.1f%%',\n",
    "       shadow=True, startangle=90)\n",
    "\n",
    "plt.show()"
   ],
   "outputs": [],
   "execution_count": null
  },
  {
   "metadata": {},
   "cell_type": "code",
   "source": "",
   "outputs": [],
   "execution_count": null
  }
 ],
 "metadata": {
  "kernelspec": {
   "display_name": "Python 3 (ipykernel)",
   "language": "python",
   "name": "python3"
  },
  "language_info": {
   "codemirror_mode": {
    "name": "ipython",
    "version": 3
   },
   "file_extension": ".py",
   "mimetype": "text/x-python",
   "name": "python",
   "nbconvert_exporter": "python",
   "pygments_lexer": "ipython3",
   "version": "3.13.1"
  }
 },
 "nbformat": 4,
 "nbformat_minor": 4
}

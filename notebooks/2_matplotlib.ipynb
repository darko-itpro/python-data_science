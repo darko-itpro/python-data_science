{
 "cells": [
  {
   "cell_type": "markdown",
   "metadata": {},
   "source": [
    "# Introduction à Matplotlib\n",
    "\n",
    "Matplotlib est une bibliothèque permettant de tracer des graphes 2D. En particulier, `pyplot` est le framework MATLAB-like. Les fonctions utilisées par matplotlib nécessitent des données de type `np.array`. Il est donc nécessaire d'importer les deux bibliothèques."
   ]
  },
  {
   "cell_type": "code",
   "execution_count": null,
   "metadata": {},
   "outputs": [],
   "source": [
    "import matplotlib.pyplot as plt\n",
    "import numpy as np"
   ]
  },
  {
   "cell_type": "markdown",
   "metadata": {},
   "source": [
    "`pyplot` propose une fonction `plot` qui permet de tracer facilement des graphes. Cette fonction accepte deux arguments : la liste des abscisses et la liste des ordonnées. Cette fonction relie les points par des segments de droite.\n",
    "\n",
    "Le graphique sera affiché par la fonction `show()`."
   ]
  },
  {
   "cell_type": "code",
   "execution_count": null,
   "metadata": {},
   "outputs": [],
   "source": [
    "x = np.arange(0, 5, 0.1)\n",
    "y = np.sin(x)\n",
    "plt.plot(x, y)\n",
    "plt.show()"
   ]
  },
  {
   "cell_type": "markdown",
   "metadata": {},
   "source": [
    "L'apparence des graphes peut être modifié en paramétrant `plot`."
   ]
  },
  {
   "cell_type": "code",
   "execution_count": null,
   "metadata": {},
   "outputs": [],
   "source": [
    "x = np.arange(0, 5, 0.1)\n",
    "y = np.sin(x)\n",
    "plt.plot(x, y, 'r*-')\n",
    "plt.show()"
   ]
  },
  {
   "cell_type": "markdown",
   "metadata": {},
   "source": [
    "Vous pouvez trouver la [documentation des marqueurs](https://matplotlib.org/stable/api/markers_api.html) et la [documentaiton des couleurs](https://matplotlib.org/stable/api/colors_api.html).\n",
    "\n",
    "Il est possibe de tracer plusieurs courbes sur le même graphe. Pour cela, il suffit d'appeler la fonction `plot` pllusieurs fois."
   ]
  },
  {
   "cell_type": "code",
   "execution_count": null,
   "metadata": {},
   "outputs": [],
   "source": [
    "plt.plot(x, np.sin(x))\n",
    "plt.plot(x, np.cos(x))\n",
    "plt.show()"
   ]
  },
  {
   "cell_type": "markdown",
   "metadata": {},
   "source": [
    "Ou tout simplement de passer en un seul appel à la fonction. C'est une option *pratique* à réserver à certains cas."
   ]
  },
  {
   "cell_type": "code",
   "execution_count": null,
   "metadata": {},
   "outputs": [],
   "source": [
    "plt.plot(x, np.sin(x), x, np.cos(x))\n",
    "plt.show()"
   ]
  },
  {
   "cell_type": "markdown",
   "metadata": {},
   "source": [
    "Matplotlib propose un certain nombre de *styles* pour les graphiques qu'il est possible de configurer avant de dessiner le graphe."
   ]
  },
  {
   "cell_type": "code",
   "execution_count": null,
   "metadata": {},
   "outputs": [],
   "source": [
    "plt.style.use('seaborn-dark')\n",
    "plt.plot(x, y)\n",
    "plt.show()"
   ]
  },
  {
   "cell_type": "markdown",
   "metadata": {},
   "source": [
    "Les styles disponibles sont :"
   ]
  },
  {
   "cell_type": "code",
   "execution_count": null,
   "metadata": {},
   "outputs": [],
   "source": [
    "print(plt.style.available)"
   ]
  },
  {
   "cell_type": "markdown",
   "metadata": {},
   "source": [
    "Un graphe peut être renseigné avec le nom des axes et la légende."
   ]
  },
  {
   "cell_type": "code",
   "execution_count": null,
   "metadata": {},
   "outputs": [],
   "source": [
    "x = np.linspace(0, 2, 100)\n",
    "\n",
    "plt.plot(x, x, label='linear')\n",
    "plt.plot(x, x**2, label='quadratic')\n",
    "plt.plot(x, x**3, label='cubic')\n",
    "\n",
    "plt.xlabel('x label')\n",
    "plt.ylabel('y label')\n",
    "\n",
    "plt.title(\"Simple Plot\")\n",
    "\n",
    "plt.legend()\n",
    "\n",
    "plt.show()"
   ]
  },
  {
   "cell_type": "markdown",
   "metadata": {},
   "source": [
    "La fonction `plt.plot()` simplifie la structure manipulée. En effet, un graphique matplotlib consiste en une **figure** contenant au moins un **axes** (à ne pas confondre avec un axe, *axis*).\n",
    "Jusqu'ici, nous avons laissé la fonction créer une figure et un axes.\n",
    "\n",
    "Mais si nous avons besoin de présenter des *graphes* distincts, nous allons devoir les déclarer.\n",
    "\n",
    "Le code suivant crée 2 axes en tant que `plt.subplot()`."
   ]
  },
  {
   "cell_type": "code",
   "execution_count": null,
   "metadata": {},
   "outputs": [],
   "source": [
    "x = np.arange(0, 5, 0.1)\n",
    "\n",
    "plt.figure()\n",
    "plt.subplot(2, 1, 1)\n",
    "plt.plot(x, np.sin(x))\n",
    "plt.subplot(2, 1, 2)\n",
    "plt.plot(x, np.cos(x))\n",
    "\n",
    "plt.show()"
   ]
  },
  {
   "cell_type": "markdown",
   "metadata": {},
   "source": [
    "Mais pour plus de souplesse, il matplotlib offre aussi une syntaxe objet.\n",
    "\n",
    "## La syntaxe objet\n",
    "Nous n'allons plus déléguer à un wrapper de faire les choses pour nous mais allons travailler sur les objets retournés par la fonction `plt.subplots()`. Celle-ci retourne deux données : la figure et les axes.\n",
    "\n",
    "Commençons par revoir le graphe légendé sous forme objet"
   ]
  },
  {
   "cell_type": "code",
   "execution_count": null,
   "metadata": {},
   "outputs": [],
   "source": [
    "x = np.linspace(0, 2, 100)\n",
    "\n",
    "fig, ax = plt.subplots(1, 1)\n",
    "\n",
    "ax.plot(x, x, label='linear')\n",
    "ax.plot(x, x**2, label='quadratic')\n",
    "ax.plot(x, x**3, label='cubic')\n",
    "\n",
    "ax.set_xlabel('x label')\n",
    "ax.set_ylabel('y label')\n",
    "\n",
    "ax.set_title(\"Simple Plot\")\n",
    "\n",
    "ax.legend()"
   ]
  },
  {
   "cell_type": "markdown",
   "metadata": {},
   "source": [
    "Nous pouvons aussi travailler sur plusieurs *axes* dans une même figure."
   ]
  },
  {
   "cell_type": "code",
   "execution_count": null,
   "metadata": {},
   "outputs": [],
   "source": [
    "fig, ax_lst = plt.subplots(1, 3)\n",
    "\n",
    "x = np.linspace(0, 2, 100)\n",
    "\n",
    "ax_lst[0].plot(x, x, 'r-', label='linear')\n",
    "ax_lst[1].plot(x, x**2, 'g-', label='quadratic')\n",
    "ax_lst[2].plot(x, x**3, label='cubic')\n",
    "\n",
    "fig.suptitle(\"Simple Plot\")\n",
    "ax_lst[0].legend()\n",
    "ax_lst[1].legend()\n",
    "ax_lst[2].legend()\n",
    "plt.show()"
   ]
  },
  {
   "cell_type": "markdown",
   "metadata": {},
   "source": [
    "Par défaut, matplotlib adaptera l'affichage au mieux. On peut évidemment configurer la présentation, ici en fixant la limite de l'axe y."
   ]
  },
  {
   "cell_type": "code",
   "execution_count": null,
   "metadata": {},
   "outputs": [],
   "source": [
    "fig, ax_lst = plt.subplots(1, 3)\n",
    "\n",
    "ax_lst[0].plot(x, x, 'r-', label='linear')\n",
    "ax_lst[1].plot(x, x**2, 'g-', label='quadratic')\n",
    "ax_lst[2].plot(x, x**3, label='cubic')\n",
    "\n",
    "fig.suptitle(\"Simple Plot\")\n",
    "#fig.legend()\n",
    "\n",
    "for ax in ax_lst:\n",
    "    ax.legend()\n",
    "    ax.set_ylim(0, 8)"
   ]
  },
  {
   "cell_type": "markdown",
   "metadata": {},
   "source": [
    "Vous pouvez donc créer une fonction *helper* qui vous permet de prendre en charge l'affichage des données"
   ]
  },
  {
   "cell_type": "code",
   "execution_count": null,
   "metadata": {},
   "outputs": [],
   "source": [
    "def my_plotter(ax, data1, data2, params: dict):\n",
    "    ax.plot(data1, data2, **params)\n",
    "    ax.legend()\n",
    "    ax.set_ylim(0, 8)\n",
    "    \n",
    "fig, ax_lst = plt.subplots(1, 3)\n",
    "\n",
    "x2 = x**2\n",
    "x3 = x**3\n",
    "\n",
    "my_plotter(ax_lst[0], x, x, {'color': 'red', 'label': 'linear'})\n",
    "my_plotter(ax_lst[1], x, x2, {'color': 'green', 'label': 'quadratic'})\n",
    "my_plotter(ax_lst[2], x, x3, {'label': 'cubic'})\n",
    "\n",
    "fig.suptitle(\"Simple Plot\")"
   ]
  },
  {
   "cell_type": "markdown",
   "metadata": {},
   "source": [
    "## Autre type de graphe"
   ]
  },
  {
   "cell_type": "markdown",
   "metadata": {},
   "source": [
    "Exemple de représentation de graphiques"
   ]
  },
  {
   "cell_type": "code",
   "execution_count": null,
   "metadata": {},
   "outputs": [],
   "source": [
    "plt.rcParams.update({'font.size': 15}) # Changer la taille de police par défaut\n",
    "\n",
    "fig = plt.figure()\n",
    "ax = plt.axes()\n",
    "plt.plot(x, np.sin(x - 0), color='blue', linestyle='solid', label='bleu')\n",
    "plt.plot(x, np.sin(x - 1), color='g', linestyle='dashed', label='vert')\n",
    "plt.plot(x, np.sin(x - 2), color='0.75', linestyle='dashdot', label='gris')\n",
    "plt.plot(x, np.sin(x - 3), color='#FF0000', linestyle='dotted', label='rouge')\n",
    "\n",
    "plt.axis([-1, 11, -1.5, 1.5])\n",
    "\n",
    "plt.title(\"Un exemple de graphe\")\n",
    "\n",
    "plt.legend(loc='lower right')\n",
    "\n",
    "ax = ax.set(xlabel='x', ylabel='sin(x)')"
   ]
  },
  {
   "cell_type": "markdown",
   "metadata": {},
   "source": [
    "La fonction `scatter` se comporte comme `plot` mais ne relie pas les points entre eux."
   ]
  },
  {
   "cell_type": "code",
   "execution_count": null,
   "metadata": {},
   "outputs": [],
   "source": [
    "np.random.seed(19680801)\n",
    "\n",
    "data = {'a': np.arange(50),\n",
    "        'c': np.random.randint(0, 50, 50),\n",
    "        'd': np.random.randn(50)}\n",
    "data['b'] = data['a'] + 10 * np.random.randn(50)\n",
    "data['d'] = np.abs(data['d']) * 100\n",
    "\n",
    "fig, ax = plt.subplots(figsize=(5, 2.7), layout='constrained')\n",
    "\n",
    "ax.scatter('a', 'b', s='d', data=data)\n",
    "\n",
    "ax.set_xlabel('entry a')\n",
    "ax.set_ylabel('entry b')"
   ]
  },
  {
   "cell_type": "markdown",
   "metadata": {},
   "source": [
    "Visualiser l'incertitude avec des barres d'erreur"
   ]
  },
  {
   "cell_type": "code",
   "execution_count": null,
   "metadata": {},
   "outputs": [],
   "source": [
    "x = np.linspace(0, 10, 50)\n",
    "y_err = np.random.randn(50) * 0.4\n",
    "y = np.sin(x) + y_err\n",
    "\n",
    "plt.errorbar(x, y, yerr=abs(y_err), fmt='.k')\n",
    "#plt.plot(x, np.sin(x))\n",
    "plt.show()"
   ]
  },
  {
   "cell_type": "code",
   "execution_count": null,
   "metadata": {},
   "outputs": [],
   "source": []
  }
 ],
 "metadata": {
  "kernelspec": {
   "display_name": "Python 3 (ipykernel)",
   "language": "python",
   "name": "python3"
  },
  "language_info": {
   "codemirror_mode": {
    "name": "ipython",
    "version": 3
   },
   "file_extension": ".py",
   "mimetype": "text/x-python",
   "name": "python",
   "nbconvert_exporter": "python",
   "pygments_lexer": "ipython3",
   "version": "3.12.3"
  }
 },
 "nbformat": 4,
 "nbformat_minor": 4
}

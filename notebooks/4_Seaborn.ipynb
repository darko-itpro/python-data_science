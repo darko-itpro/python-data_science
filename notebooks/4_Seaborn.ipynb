{
 "cells": [
  {
   "metadata": {},
   "cell_type": "markdown",
   "source": [
    "# Seaborn\n",
    "\n",
    "Seaborn est une bibliothèque graphique basée sur matplotlib plus orientée statistiques."
   ],
   "id": "639fad2b7a5dcf50"
  },
  {
   "metadata": {},
   "cell_type": "code",
   "source": [
    "import numpy as np\n",
    "import pandas as pd\n",
    "\n",
    "import seaborn as sns"
   ],
   "id": "f16c3f897a7a7dc",
   "outputs": [],
   "execution_count": null
  },
  {
   "metadata": {},
   "cell_type": "code",
   "source": [
    "from pathlib import Path\n",
    "file_path = Path('__file__').resolve().parent.parent / 'assets' / 'comptage-voyageurs-trains-transilien-old.csv'"
   ],
   "id": "9728481f8c57b430",
   "outputs": [],
   "execution_count": null
  },
  {
   "cell_type": "code",
   "id": "4e760308-b070-4d8a-a1a8-f090afb4f118",
   "metadata": {},
   "source": [
    "sns.set_theme()"
   ],
   "outputs": [],
   "execution_count": null
  },
  {
   "cell_type": "code",
   "id": "dbda7817-1066-4694-a353-88c4e4a25458",
   "metadata": {},
   "source": [
    "x = np.linspace(0, 5)\n",
    "y = np.sin(x)\n",
    "\n",
    "sns.lineplot(x=x, y=y)"
   ],
   "outputs": [],
   "execution_count": null
  },
  {
   "cell_type": "code",
   "id": "4dc5a46d-4ae5-4d42-afc9-3d686401ea1d",
   "metadata": {},
   "source": [
    "tips = sns.load_dataset('tips')"
   ],
   "outputs": [],
   "execution_count": null
  },
  {
   "cell_type": "code",
   "id": "2f75f67c-0e3c-4c22-8937-9cecb3cab8e1",
   "metadata": {},
   "source": [
    "tips.head()"
   ],
   "outputs": [],
   "execution_count": null
  },
  {
   "metadata": {},
   "cell_type": "code",
   "source": [
    "sns.relplot(data=tips,\n",
    "            x=\"total_bill\", y=\"tip\", col=\"time\",\n",
    "            hue=\"smoker\", style=\"smoker\",\n",
    "            size=\"size\")"
   ],
   "id": "2a0d7d503fcf0d77",
   "outputs": [],
   "execution_count": null
  },
  {
   "metadata": {},
   "cell_type": "code",
   "source": "train_data = pd.read_csv(file_path, sep=\";\")",
   "id": "91a76700b677e11c",
   "outputs": [],
   "execution_count": null
  },
  {
   "metadata": {},
   "cell_type": "code",
   "source": [
    "horaires = {\n",
    "    \"Avant 6h\": 0,\n",
    "    \"De 6h à 10h\": 1,\n",
    "    \"De 10h à 16h\": 2,\n",
    "    \"De 16h à 20h\": 3,\n",
    "    \"Après 20h\": 4,\n",
    "}\n",
    "\n",
    "psl_values = train_data.loc[(train_data[\"Nom gare\"] == \"PARIS SAINT-LAZARE\") & (train_data['Type jour'] == \"JOB\")] \\\n",
    "          .sort_values(by=[\"Date de comptage\", \"Tranche horaire\"], key=lambda val: val if val.name != \"Tranche horaire\" else val.map(horaires))[[\"Nom gare\", \"Date de comptage\", \"Tranche horaire\", \"Ligne\", \"Montants\"]]"
   ],
   "id": "973118deeda4fc3f",
   "outputs": [],
   "execution_count": null
  },
  {
   "cell_type": "code",
   "id": "8407501d-91aa-430b-b1e1-b877b288fd44",
   "metadata": {},
   "source": [
    "p = pd.DataFrame(psl_values.groupby(['Date de comptage', \"Tranche horaire\"])['Montants']).reset_index()"
   ],
   "outputs": [],
   "execution_count": null
  },
  {
   "cell_type": "code",
   "id": "92c7e9a2-4216-43fd-9a9c-91a922984eb7",
   "metadata": {},
   "source": [
    "p"
   ],
   "outputs": [],
   "execution_count": null
  },
  {
   "cell_type": "code",
   "id": "61ce0279-9a5c-4e77-abc3-5666fec4e003",
   "metadata": {},
   "source": [],
   "outputs": [],
   "execution_count": null
  }
 ],
 "metadata": {
  "kernelspec": {
   "display_name": "Python 3 (ipykernel)",
   "language": "python",
   "name": "python3"
  },
  "language_info": {
   "codemirror_mode": {
    "name": "ipython",
    "version": 3
   },
   "file_extension": ".py",
   "mimetype": "text/x-python",
   "name": "python",
   "nbconvert_exporter": "python",
   "pygments_lexer": "ipython3",
   "version": "3.13.1"
  }
 },
 "nbformat": 4,
 "nbformat_minor": 5
}

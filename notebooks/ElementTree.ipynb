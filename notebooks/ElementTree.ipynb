{
 "cells": [
  {
   "cell_type": "markdown",
   "id": "905f80ae-dfc2-4745-8538-c3abed2c98c8",
   "metadata": {},
   "source": [
    "# ElementTree, présentation\n",
    "\n",
    "ElementTree est la bibliothèque de la distribution standard qui a une approche _pythonique_ pour traiter les fichiers XML. Il s'agit aussi de la bibliothèque à jour.\n",
    "\n",
    "Nous allons commencer par importer les dépendances nécessaires."
   ]
  },
  {
   "cell_type": "code",
   "execution_count": null,
   "id": "39d0b08f-5376-4086-b590-6c84bf2fb4a2",
   "metadata": {},
   "outputs": [],
   "source": [
    "import xml.etree.ElementTree as ET\n",
    "from pathlib import Path"
   ]
  },
  {
   "cell_type": "markdown",
   "id": "2d957512-037f-4125-b5c5-3b330185db34",
   "metadata": {},
   "source": [
    "Et définir le chemin vers le fichier que nous allons utiliser."
   ]
  },
  {
   "cell_type": "code",
   "execution_count": null,
   "id": "27379b7d-8409-4129-ab4c-e8de00814fa1",
   "metadata": {},
   "outputs": [],
   "source": [
    "countries_file = Path('__file__').resolve().parent.parent / 'assets' / 'countries.xml'"
   ]
  },
  {
   "cell_type": "markdown",
   "id": "503094eb-3fad-4857-b87a-096cec74cc10",
   "metadata": {},
   "source": [
    "ElementTree permet de charger les données avec plusieurs stratégies. `ET.parse()` et `ET.fromstring()` sont _non incrémentales_ et chargent le document en mémoire à la manière de DOM. Cette stratégie convient à notre fichier qui est court."
   ]
  },
  {
   "cell_type": "code",
   "execution_count": null,
   "id": "19547309-0957-4daf-8c76-cbe1c14a1c57",
   "metadata": {},
   "outputs": [],
   "source": [
    "tree = ET.parse(countries_file)\n",
    "root = tree.getroot()"
   ]
  },
  {
   "cell_type": "markdown",
   "id": "0a212a04-9a9c-4484-90a6-978deb3d0540",
   "metadata": {},
   "source": [
    "`ET.parse()` peut recevoir en argument aussi bien un chemin qu'un fichier. Ceci retourne une instance de la classe `ET.ElementTree` qui représente l'ensemble de la hierarchie. Ci-dessus, nous avons récupéré l'élément racine.\n",
    "\n",
    "`ET.fromstring()` est destiné à recevoir directement une chaine de caratères XML et retourne une instance de `ET.Element` représentant la racine."
   ]
  },
  {
   "cell_type": "code",
   "execution_count": null,
   "id": "f9be65f2-9756-48e8-9d48-81d4397fc9c5",
   "metadata": {},
   "outputs": [],
   "source": [
    "type(tree)"
   ]
  },
  {
   "cell_type": "code",
   "execution_count": null,
   "id": "62fd228d-c566-4f78-95b7-655a3cd5aabe",
   "metadata": {},
   "outputs": [],
   "source": [
    "type(root)"
   ]
  },
  {
   "cell_type": "markdown",
   "id": "bee7bd29-2c6a-418e-9479-f2eb4266204b",
   "metadata": {},
   "source": [
    "Les deux autres fonctions pour charger un document XML sont :\n",
    " * `ET.iterparse()` qui est incrémental bloquant, ce qui le rends inadapté au code asynchrone.\n",
    " * `ET.XMLPullParser()` qui est incrémental non-bloquant mais plus verbeux que le précédent.\n",
    "\n",
    "## Le type Element\n",
    "\n",
    "Un élément est une séquence mutable, itérable et indexable. Elle a une taille correspondant au nombre de ses _enfants_ immédiats."
   ]
  },
  {
   "cell_type": "code",
   "execution_count": null,
   "id": "129bf953-d5c3-455f-9817-a4a716cf0991",
   "metadata": {},
   "outputs": [],
   "source": [
    "len(root)"
   ]
  },
  {
   "cell_type": "code",
   "execution_count": null,
   "id": "ffc550b8-a5f0-4ed3-8909-ff7d05ee88c0",
   "metadata": {},
   "outputs": [],
   "source": [
    "root[0]"
   ]
  },
  {
   "cell_type": "code",
   "execution_count": null,
   "id": "b5c7f6ca-fac0-4571-9c9c-e0f03f6687e8",
   "metadata": {},
   "outputs": [],
   "source": [
    "for child in root:\n",
    "    print(child)"
   ]
  },
  {
   "cell_type": "markdown",
   "id": "72c7055f-2fbb-4e67-9162-1f5dc5c71d5e",
   "metadata": {},
   "source": [
    "Un objet `Element` possède un certain nombre d'attributs. Pour commencer, le _type_ de l'élément."
   ]
  },
  {
   "cell_type": "code",
   "execution_count": null,
   "id": "e9ff0835-f9b3-44a2-a52c-fd166d754c72",
   "metadata": {},
   "outputs": [],
   "source": [
    "country = root[0]\n",
    "country.tag"
   ]
  },
  {
   "cell_type": "code",
   "execution_count": null,
   "id": "506f600f-62bc-4480-8b95-99f63a232170",
   "metadata": {},
   "outputs": [],
   "source": [
    "for child in country:\n",
    "    print(child.tag)"
   ]
  },
  {
   "cell_type": "markdown",
   "id": "674f2581-af87-460f-8b9e-2594273d128d",
   "metadata": {},
   "source": [
    "Il possède également un dictionnaire contenant les attributs de l'élément."
   ]
  },
  {
   "cell_type": "code",
   "execution_count": null,
   "id": "51cfae92-41a9-4914-a39d-b689a0d12284",
   "metadata": {},
   "outputs": [],
   "source": [
    "country.attrib"
   ]
  },
  {
   "cell_type": "markdown",
   "id": "b50bd5a6-d9ce-4392-b095-1dabd4e91852",
   "metadata": {},
   "source": [
    "Les attributs `Element.text` et `Element.tail` permettent d'accéder aux données supplémentaires qui sont souvent des chaines de caractères. _text_ contient le texte entre la balise ouvrante et soit le premier enfant soit la balise fermante. Il peut aussi contenir `None`. _tail_ contient le texte entre le tag fermant et le suivant."
   ]
  },
  {
   "cell_type": "code",
   "execution_count": null,
   "id": "5ec48e16-6eef-42e3-ac41-d3243a217d9c",
   "metadata": {},
   "outputs": [],
   "source": [
    "for child in country:\n",
    "    print(child.tag, child.text, child.attrib, sep=\" | \")"
   ]
  },
  {
   "cell_type": "markdown",
   "id": "47131f25-0292-4d14-bb3e-ae20edeb8920",
   "metadata": {},
   "source": [
    "On peut récupérer le contenu d'un attribut directement à partir de l'élément."
   ]
  },
  {
   "cell_type": "code",
   "execution_count": null,
   "id": "d05a2b1e-6699-43a6-88e8-5590e0584bab",
   "metadata": {},
   "outputs": [],
   "source": [
    "country.get('name')"
   ]
  },
  {
   "cell_type": "markdown",
   "id": "e1407045-448a-47d4-97a8-39dd18a30e77",
   "metadata": {},
   "source": [
    "## Itération\n",
    "Un élément est un intérable, on itère donc sur les enfants de l'élément."
   ]
  },
  {
   "cell_type": "code",
   "execution_count": null,
   "id": "72c4314d-2519-4334-85b1-4ca7e8b33b83",
   "metadata": {},
   "outputs": [],
   "source": [
    "for child in root:\n",
    "    print(child.tag, child.get('name'))"
   ]
  },
  {
   "cell_type": "markdown",
   "id": "8e71d384-01f7-4437-ae00-01462931538c",
   "metadata": {},
   "source": [
    "Mais on peut aussi descendre dans l'arborescence avec la méthode `.iter()`."
   ]
  },
  {
   "cell_type": "code",
   "execution_count": null,
   "id": "e68053d9-7a9f-4da9-807f-c2fc38f946c6",
   "metadata": {},
   "outputs": [],
   "source": [
    "for descendents in root.iter():\n",
    "    print(descendents.tag)"
   ]
  },
  {
   "cell_type": "markdown",
   "id": "429d96c9-6aa9-4b12-b1ae-3b7a17309af4",
   "metadata": {},
   "source": [
    "Il est aussi possible de filtrer les descednants."
   ]
  },
  {
   "cell_type": "code",
   "execution_count": null,
   "id": "54c44f7b-974c-4023-b68b-31e45661c874",
   "metadata": {},
   "outputs": [],
   "source": [
    "for descendents in root.iter(\"year\"):\n",
    "    print(descendents.tag, descendents.text)"
   ]
  },
  {
   "cell_type": "markdown",
   "id": "b9ebdc47-a01d-4006-8d9a-11e57b5107bd",
   "metadata": {},
   "source": [
    "## Modification\n"
   ]
  },
  {
   "cell_type": "code",
   "execution_count": null,
   "id": "3a8f2d41-0cab-4cad-a12c-1be2253dc3be",
   "metadata": {},
   "outputs": [],
   "source": [
    "new_country = ET.Element(\"country\")\n",
    "new_country.set(\"name\", \"France\")\n",
    "new_country.append(ET.Element(\"neighbor\", attrib={\"name\": \"Switzerland\", \"direction\":\"E\"}))\n",
    "\n",
    "root.append(new_country)"
   ]
  },
  {
   "cell_type": "markdown",
   "id": "3fa52acf-5917-4da6-aa8f-38d37eefe4cf",
   "metadata": {},
   "source": [
    "Ce qui nous donne :"
   ]
  },
  {
   "cell_type": "code",
   "execution_count": null,
   "id": "ef1e4600-3c75-4674-92dc-89d203a642e3",
   "metadata": {},
   "outputs": [],
   "source": [
    "ET.dump(root)"
   ]
  },
  {
   "cell_type": "markdown",
   "id": "4d0a906f-9eac-482b-83cd-36d57c2314f2",
   "metadata": {},
   "source": [
    "Il est alors possible de sauvegarder le document avec `tree.write('output.xml')`"
   ]
  }
 ],
 "metadata": {
  "kernelspec": {
   "display_name": "Python 3 (ipykernel)",
   "language": "python",
   "name": "python3"
  },
  "language_info": {
   "codemirror_mode": {
    "name": "ipython",
    "version": 3
   },
   "file_extension": ".py",
   "mimetype": "text/x-python",
   "name": "python",
   "nbconvert_exporter": "python",
   "pygments_lexer": "ipython3",
   "version": "3.11.7"
  }
 },
 "nbformat": 4,
 "nbformat_minor": 5
}

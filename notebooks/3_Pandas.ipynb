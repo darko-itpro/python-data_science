{
 "cells": [
  {
   "cell_type": "markdown",
   "id": "8065b7fc-f04b-4f0c-b022-5b691d9cc76b",
   "metadata": {},
   "source": [
    "# Présentation de Pandas\n",
    "\n",
    "Cette présentation est destinée à donner un aperçu de Pandas\n",
    "\n",
    "Vous pouvez consuler [la documentation de Pandas](https://pandas.pydata.org/pandas-docs/stable/) en ligne.\n",
    "\n",
    "Nous commençons par construire la référence vers le fichier à utiliser et charger Pandas."
   ]
  },
  {
   "cell_type": "code",
   "execution_count": null,
   "id": "f01b1601-581b-4085-b306-762b067d099c",
   "metadata": {
    "tags": []
   },
   "outputs": [],
   "source": [
    "from pathlib import Path\n",
    "file_path = Path('__file__').resolve().parent.parent / 'assets' / 'showslist.csv'"
   ]
  },
  {
   "cell_type": "code",
   "execution_count": null,
   "id": "112faf5a-1b58-42e7-ab27-d519f39802af",
   "metadata": {},
   "outputs": [],
   "source": [
    "import pandas as pd"
   ]
  },
  {
   "cell_type": "markdown",
   "id": "2f928bb0-069c-4d3f-a23f-1bd9d1279d6f",
   "metadata": {},
   "source": [
    "## Données à partir d'un fichier\n",
    "Pandas propose une méthode `.read_csv()` pour lire les données dans un csv. Pandas propose également d'autres méthodes pour d'autres sources tel que `.read_json()` ou `.read_sql_table()`."
   ]
  },
  {
   "cell_type": "code",
   "execution_count": null,
   "id": "e4805069-2436-48f0-a7f4-c823ba6d16be",
   "metadata": {},
   "outputs": [],
   "source": [
    "shows = pd.read_csv(file_path, sep=\";\")"
   ]
  },
  {
   "cell_type": "markdown",
   "id": "ff5b04a6-38c3-4b73-a9c2-baea44e4df42",
   "metadata": {},
   "source": [
    "## Structure d'une données Pandas\n",
    "Nous pouvons vérifier que le type de donnée récupéré par Pandas est `DataFrame`."
   ]
  },
  {
   "cell_type": "code",
   "execution_count": null,
   "id": "f2713881-0a90-48a4-9c6c-61709edcb81d",
   "metadata": {},
   "outputs": [],
   "source": [
    "type(shows)"
   ]
  },
  {
   "cell_type": "markdown",
   "id": "05143601-ed15-48f7-bb88-c92fed716753",
   "metadata": {},
   "source": [
    "Un `DataFrame` est une donnée structurée. Elle possède des **colonnes**, des **indices** et des **données**."
   ]
  },
  {
   "cell_type": "code",
   "execution_count": null,
   "id": "bd4b8d93-838e-45a9-aa8c-8a8ca41943b9",
   "metadata": {},
   "outputs": [],
   "source": [
    "shows"
   ]
  },
  {
   "cell_type": "markdown",
   "id": "94245b5e-bbcd-4701-88ca-f08a7fea72ca",
   "metadata": {},
   "source": [
    "Nous pouvons consulter le contenu des colonnes, des indices et des valeurs."
   ]
  },
  {
   "cell_type": "code",
   "execution_count": null,
   "id": "11978915-a7e5-46bf-80d6-35a86b735289",
   "metadata": {},
   "outputs": [],
   "source": [
    "shows.columns"
   ]
  },
  {
   "cell_type": "code",
   "execution_count": null,
   "id": "193554d9-4bb5-47c4-9702-628e822ab976",
   "metadata": {},
   "outputs": [],
   "source": [
    "shows.index"
   ]
  },
  {
   "cell_type": "code",
   "execution_count": null,
   "id": "819a8b10-3070-4e2b-b040-6bf6d901a805",
   "metadata": {},
   "outputs": [],
   "source": [
    "shows.values"
   ]
  },
  {
   "cell_type": "markdown",
   "id": "e1dc2580-ad13-4d8f-b764-e975bb87d851",
   "metadata": {},
   "source": [
    "Les dimensions d'un DataFrame sont des **axes**"
   ]
  },
  {
   "cell_type": "code",
   "execution_count": null,
   "id": "6222a292-d455-4de5-b438-699200c5dd9a",
   "metadata": {},
   "outputs": [],
   "source": [
    "shows.axes"
   ]
  },
  {
   "cell_type": "markdown",
   "id": "eba3911a-e298-4079-9c9e-215a413a02ab",
   "metadata": {},
   "source": [
    "Un DataFrame peut être manipulé comme un dictionnaire pour lequel les clefs seront les colonnes."
   ]
  },
  {
   "cell_type": "code",
   "execution_count": null,
   "id": "d7d644cc-5cbe-4d23-997e-912a5b8e02bc",
   "metadata": {},
   "outputs": [],
   "source": [
    "shows.keys()"
   ]
  },
  {
   "cell_type": "markdown",
   "id": "0b278468-a3eb-435a-99b9-fe57248fc63f",
   "metadata": {},
   "source": [
    "La *valeur* associée à la clef *colonne* est le contenu de cette colonne."
   ]
  },
  {
   "cell_type": "code",
   "execution_count": null,
   "id": "f0dbebc6-84eb-4ff4-9889-5046f720c1a0",
   "metadata": {},
   "outputs": [],
   "source": [
    "show_names = shows[\"tvshow\"]\n",
    "show_names"
   ]
  },
  {
   "cell_type": "markdown",
   "id": "02c43d74-624b-4b80-9bc8-b2709b330da4",
   "metadata": {},
   "source": [
    "Il ne s'agit pas uniquement d'une *liste* de données. Elles sont indéxées. Un `DataFrame` est composés d'objets de type `Series` qui est, comme nous le verrons, comparable au type `List` ou plutôt les `ndarray` Numpy."
   ]
  },
  {
   "cell_type": "code",
   "execution_count": null,
   "id": "807992bc-6a54-42e6-9e52-6b388c893f6d",
   "metadata": {},
   "outputs": [],
   "source": [
    "type(show_names)"
   ]
  },
  {
   "cell_type": "markdown",
   "id": "61640b17-c1ac-44eb-bced-023b75769a40",
   "metadata": {},
   "source": [
    "Nous pouvons également vérifier le nombre d'élément et le *shape* du DataFrame."
   ]
  },
  {
   "cell_type": "code",
   "execution_count": null,
   "id": "9f043f9d-86d4-4cf8-b6a9-b6f5459538dc",
   "metadata": {},
   "outputs": [],
   "source": [
    "print(len(shows))\n",
    "print(shows.shape)"
   ]
  },
  {
   "cell_type": "markdown",
   "id": "183bb52a-7295-49be-bd55-ae37995a1fe1",
   "metadata": {},
   "source": [
    "## Explorons nos données\n",
    "\n",
    "Une variable contenant un DataFrame rertourne celui-ci et Jupyter formatera l'affichage. Pour vérifier le contenu, l'habitude est de consulter que les quelques (5) premiers avec la méthode `.head()`."
   ]
  },
  {
   "cell_type": "code",
   "execution_count": null,
   "id": "fa966e26-b81d-4421-8413-54d01699c9e4",
   "metadata": {},
   "outputs": [],
   "source": [
    "shows.head()"
   ]
  },
  {
   "cell_type": "markdown",
   "id": "2860de95-134b-41c6-a1eb-decc299feb7b",
   "metadata": {},
   "source": [
    "De même on peut afficher la fin du DataFrame."
   ]
  },
  {
   "cell_type": "code",
   "execution_count": null,
   "id": "b5f03f02-b634-413b-b70f-667fcdd63418",
   "metadata": {},
   "outputs": [],
   "source": [
    "shows.tail()"
   ]
  },
  {
   "cell_type": "markdown",
   "id": "1fde8ec8-67c1-4e02-b056-b23bed9356a3",
   "metadata": {},
   "source": [
    "Ces deux méthodes prennent un paramètre optionnel de type `int` qui est le nombre de lignes à afficher (5 par défaut).\n",
    "\n",
    "Les colonnes d'un DataFrame contiennent des valeurs d'un type spécifique. Leur parcours est donc bien plus performant qu'une liste Python.\n",
    "\n",
    "Nous pouvons afficher les colonnes et leur type avec la méthode `.info()`."
   ]
  },
  {
   "cell_type": "code",
   "execution_count": null,
   "id": "2cf96f80-0aa4-466e-b87d-e26ddf42bbbd",
   "metadata": {},
   "outputs": [],
   "source": [
    "shows.info()"
   ]
  },
  {
   "cell_type": "markdown",
   "id": "f94111d0-02d4-4e29-a481-d218e426c495",
   "metadata": {},
   "source": [
    "Pandas utilise NumPy pour travailler avec ces types.\n",
    "\n",
    "## Statistiques de base\n",
    "Nous pouvons obtenir des statistiques de base grâce à la méthode `.describe()`. Celle-ci décrit toutes les colonnes *numériques*. Nous obtenons le nombre de données, la moyenne globale, la déviation standard, le minimum, les quartiles et le maximum de la Serie"
   ]
  },
  {
   "cell_type": "code",
   "execution_count": null,
   "id": "c5415248-4651-4491-93b0-e0dfcb766521",
   "metadata": {},
   "outputs": [],
   "source": [
    "shows.describe()"
   ]
  },
  {
   "cell_type": "markdown",
   "id": "32755f21-7b82-48a0-b953-b9bd6147da01",
   "metadata": {},
   "source": [
    "Avec le paramètre `include`, nous pouvons décrire d'autres données."
   ]
  },
  {
   "cell_type": "code",
   "execution_count": null,
   "id": "bdcc81e4-0a32-4547-a534-25d4b745e3af",
   "metadata": {},
   "outputs": [],
   "source": [
    "shows.describe(include=object)"
   ]
  },
  {
   "cell_type": "code",
   "execution_count": null,
   "id": "c710fc73-107c-4e8a-876e-7d6e490b7448",
   "metadata": {},
   "outputs": [],
   "source": [
    "shows.describe(include=\"all\")"
   ]
  },
  {
   "cell_type": "markdown",
   "id": "38ddee3c-3703-4bb2-a812-14b7f0e8da25",
   "metadata": {
    "tags": []
   },
   "source": [
    "## Explorer le DataSet\n",
    "### Les Series\n",
    "\n",
    "Nous allons explorer le contenu d'une colonne. Une colonne (ou une ligne) est une `Serie`. Une `Serie` est comparable au type `list`.\n",
    "\n",
    "Il y a deux méthodes pour accéder à une colonne, toujours par son nom : avec une syntaxe de dictionnaire ou d'attribut."
   ]
  },
  {
   "cell_type": "code",
   "execution_count": null,
   "id": "f58c0a37-9563-47f0-96e4-9b0eae34f413",
   "metadata": {},
   "outputs": [],
   "source": [
    "shows.tvshow"
   ]
  },
  {
   "cell_type": "code",
   "execution_count": null,
   "id": "f5549ffc-8260-4eeb-9910-f0c5a9a492aa",
   "metadata": {},
   "outputs": [],
   "source": [
    "shows['tvshow']"
   ]
  },
  {
   "cell_type": "code",
   "execution_count": null,
   "id": "3287af3a-39c3-4d79-9d16-93965f9bfed3",
   "metadata": {},
   "outputs": [],
   "source": [
    "type(shows.tvshow)"
   ]
  },
  {
   "cell_type": "markdown",
   "id": "0eb2624c-50bb-4d9a-9f57-5ce24838efbc",
   "metadata": {},
   "source": [
    "Nous avons plusieurs méthodes qui permettent d'explorer la série"
   ]
  },
  {
   "cell_type": "code",
   "execution_count": null,
   "id": "5c9b4178-e1eb-46c7-8079-8c72a744f4a0",
   "metadata": {},
   "outputs": [],
   "source": [
    "shows.tvshow.unique()"
   ]
  },
  {
   "cell_type": "code",
   "execution_count": null,
   "id": "3079201d-92e0-47e9-a688-dca97ff810e1",
   "metadata": {},
   "outputs": [],
   "source": [
    "shows[\"tvshow\"].value_counts()"
   ]
  },
  {
   "cell_type": "markdown",
   "id": "b6544a42-b8b5-40ae-9486-2bb315e73562",
   "metadata": {},
   "source": [
    "## Trier les données\n",
    "La méthode `.sort_values()` permet de trier les données en fonction des paramètres"
   ]
  },
  {
   "cell_type": "code",
   "execution_count": null,
   "id": "39caa3bd-78f7-48e2-a7f4-25efdd969302",
   "metadata": {},
   "outputs": [],
   "source": [
    "shows.sort_values(by=\"year\")"
   ]
  },
  {
   "cell_type": "code",
   "execution_count": null,
   "id": "ef57c51e-7d4a-4333-a605-79eb080c707c",
   "metadata": {},
   "outputs": [],
   "source": [
    "shows.sort_values(by=[\"tvshow\", \"season\"])"
   ]
  },
  {
   "cell_type": "markdown",
   "id": "f1ac48d6-5130-4ac2-b63c-7a27e8cb755c",
   "metadata": {},
   "source": [
    "## Filtre des données\n",
    "\n",
    "Nous pouvons filtrer des entrées avec la structure `.loc[]`"
   ]
  },
  {
   "cell_type": "code",
   "execution_count": null,
   "id": "18cfa51d-0462-4217-80e7-9d9b51d3def5",
   "metadata": {},
   "outputs": [],
   "source": [
    "shows.loc[shows['tvshow'] == \"Supergirl\"]"
   ]
  },
  {
   "cell_type": "markdown",
   "id": "590117da-c737-47ce-b163-1e1f55ccf28f",
   "metadata": {},
   "source": [
    "Cette structure permet également d'extraire des colonnes du DataFrame. Attention à la syntaxe lors de l'extraction d'une colonne. La syntaxe suivante retourne un objet de type Series"
   ]
  },
  {
   "cell_type": "code",
   "execution_count": null,
   "id": "487f9a11-195c-450d-a6f9-27a864dcca51",
   "metadata": {},
   "outputs": [],
   "source": [
    "shows.loc[shows['tvshow'] == \"Supergirl\", \"ep_title\"]"
   ]
  },
  {
   "cell_type": "markdown",
   "id": "4f2fab4a-a108-4d3f-81b1-331d8897b761",
   "metadata": {},
   "source": [
    "Pour obtenir des DataFrame, il faut préciser un tableau."
   ]
  },
  {
   "cell_type": "code",
   "execution_count": null,
   "id": "21f9c1ab-5c12-4c57-948b-90526a61ba77",
   "metadata": {},
   "outputs": [],
   "source": [
    "shows.loc[shows['tvshow'] == \"Supergirl\", [\"ep_title\"]]"
   ]
  },
  {
   "cell_type": "markdown",
   "id": "ac621ec3-e96c-4c05-b4c3-b9d566edeef5",
   "metadata": {},
   "source": [
    "Et donc avec la possibilité de préciser plusieurs colonnes."
   ]
  },
  {
   "cell_type": "code",
   "execution_count": null,
   "id": "f795df47-a9c4-40f6-b2e3-e71f9a8b6265",
   "metadata": {},
   "outputs": [],
   "source": [
    "shows.loc[shows['tvshow'] == \"Supergirl\", [\"ep_title\", \"year\"]]"
   ]
  },
  {
   "cell_type": "markdown",
   "id": "28012675-5bb5-4911-8dec-3afb598fab7e",
   "metadata": {},
   "source": [
    "## Un DataSet à partir de Series\n",
    "\n",
    "Un objet Serie peut être créé à partir d'une liste. "
   ]
  },
  {
   "cell_type": "code",
   "execution_count": null,
   "id": "2694ca4a-f11d-4c28-b380-8ec4c311cc9d",
   "metadata": {},
   "outputs": [],
   "source": [
    "grades = pd.Series([12, 15, 8, 17, 15, 6, 9, 10, 18, 17, 12, 13])\n",
    "grades"
   ]
  },
  {
   "cell_type": "markdown",
   "id": "cd14a77f-e91b-448c-9f13-aaecefc678f2",
   "metadata": {},
   "source": [
    "Une Series a deux composants : les valeurs et les identifiants (les indices)."
   ]
  },
  {
   "cell_type": "code",
   "execution_count": null,
   "id": "37d6510f-ab86-4c98-b0ce-8db686942a6e",
   "metadata": {},
   "outputs": [],
   "source": [
    "grades.values"
   ]
  },
  {
   "cell_type": "code",
   "execution_count": null,
   "id": "06f19fd2-043f-453f-9b35-293dbf14bfe2",
   "metadata": {},
   "outputs": [],
   "source": [
    "grades.index"
   ]
  },
  {
   "cell_type": "markdown",
   "id": "c08a4c62-f3c8-473a-ae63-aa40b49ff154",
   "metadata": {},
   "source": [
    "Les indices (identifiants) peuvent être définis par un nom arbitraire."
   ]
  },
  {
   "cell_type": "code",
   "execution_count": null,
   "id": "3bf53bdc-6a9d-4008-9587-2330cb1ddb7e",
   "metadata": {},
   "outputs": [],
   "source": [
    "students_all = [\"Paul\", \"Michel\", \"Ducobu\", \"Marie\", \"Paddle\", \"Carmen\", \"Marysa\"]\n",
    "grades_math = pd.Series([12, 15, 8, 17, 15, 6, 9], index=students_all)"
   ]
  },
  {
   "cell_type": "code",
   "execution_count": null,
   "id": "894b9f7f-00da-47b6-a031-d8ce53ace276",
   "metadata": {},
   "outputs": [],
   "source": [
    "grades_math"
   ]
  },
  {
   "cell_type": "markdown",
   "id": "b3ebef73-2b6c-42b3-b3f0-9178a73a4c71",
   "metadata": {},
   "source": [
    "On peut donc accétrer à un élément par son label ou son indice."
   ]
  },
  {
   "cell_type": "code",
   "execution_count": null,
   "id": "264c7f5b-c944-4596-87af-5ef763450077",
   "metadata": {},
   "outputs": [],
   "source": [
    "print(grades_math[\"Paddle\"])\n",
    "print(grades_math[4])"
   ]
  },
  {
   "cell_type": "markdown",
   "id": "38a22f62-cf52-400e-b505-a3fc18a3ecfa",
   "metadata": {},
   "source": [
    "Nous pouvons composer un DataFrame à partir de plusieurs Series. Pandas utilisera les indices pour aligner les Series. Nous allons donc ajouter les notes d'anglais."
   ]
  },
  {
   "cell_type": "code",
   "execution_count": null,
   "id": "b771936d-ea2e-436b-9091-1ce4f53be131",
   "metadata": {},
   "outputs": [],
   "source": [
    "class_english = [\"Michel\", \"Ducobu\", \"Marie\", \"Paddle\", \"Carmen\", \"Marysa\"]\n",
    "grades_english = pd.Series([9, 14, 17, 15, 8, 12], index=class_english)"
   ]
  },
  {
   "cell_type": "markdown",
   "id": "8704c8d0-ed41-4465-91c4-31b9eb776765",
   "metadata": {},
   "source": [
    "L'exemple suivant montre la construction d'un DataFrame à partir d'un dictionnaire. Les clefs en deviennent les colonnes."
   ]
  },
  {
   "cell_type": "code",
   "execution_count": null,
   "id": "80ed6d9b-c008-466d-8712-73f8f9a1d9ef",
   "metadata": {},
   "outputs": [],
   "source": [
    "grades = pd.DataFrame({\"math\": grades_math, \"english\": grades_english})\n",
    "grades"
   ]
  },
  {
   "cell_type": "markdown",
   "id": "4359eb96-a4ca-44ec-8930-0e4c7b45ed78",
   "metadata": {},
   "source": [
    "Nous pouvons accéder aux valeurs qui sont un ndarray"
   ]
  },
  {
   "cell_type": "markdown",
   "id": "7c61c5da-e762-4521-b2bb-7af74b7db9d3",
   "metadata": {},
   "source": [
    "## Explorer les series\n",
    "### Accéder aux élements d'une série\n",
    "\n",
    "On peut accéder à la valeur s'une série par sa position (indice) ou le label :"
   ]
  },
  {
   "cell_type": "code",
   "execution_count": null,
   "id": "03da5902-9ba0-443d-91e8-4bf1c16f10d2",
   "metadata": {},
   "outputs": [],
   "source": [
    "print(grades_english[\"Paddle\"])\n",
    "print(grades_english[3])"
   ]
  },
  {
   "cell_type": "markdown",
   "id": "5347aef8-1f25-43e0-a88d-fd20b0050d77",
   "metadata": {},
   "source": [
    "Attention cependant, accéder par l'opérateur d'indice (`[]`) peut avoir des limites comme utiliser des entiers comme clef. Il est impossible de différencier le label de l'indice.\n",
    "\n",
    "C'est là où les méthodes `.loc` et `.iloc` sont utilies. Le premier recherche les labels, le second les indices.\n",
    "\n",
    "Ces méthodes sont comparables aux expressions standard Python mais elles sont plus *optimisées*."
   ]
  },
  {
   "cell_type": "code",
   "execution_count": null,
   "id": "f43673e2-129e-4174-a0e8-001122fdebda",
   "metadata": {},
   "outputs": [],
   "source": [
    "grades_english.iloc[3]"
   ]
  },
  {
   "cell_type": "code",
   "execution_count": null,
   "id": "b445103b-05a1-4202-9166-fa213fadff93",
   "metadata": {},
   "outputs": [],
   "source": [
    "grades_english.loc[\"Paddle\"]"
   ]
  },
  {
   "cell_type": "markdown",
   "id": "92f6ee10-a3ad-4c3c-b54b-bbd5a9703b3d",
   "metadata": {},
   "source": [
    "Le slicing exise aussi avec `.loc` et `.iloc`. Attention, avec `.loc`, l'ensemble est fermé."
   ]
  },
  {
   "cell_type": "code",
   "execution_count": null,
   "id": "4b8308a7-d706-43fe-a349-6f47da64db16",
   "metadata": {},
   "outputs": [],
   "source": [
    "print(grades_english.loc[\"Ducobu\" : \"Paddle\"])\n",
    "print()\n",
    "print(grades_english.iloc[1 : 3])"
   ]
  },
  {
   "cell_type": "markdown",
   "id": "a9a8745f-34a4-4855-af26-42a02d4bd7b7",
   "metadata": {},
   "source": [
    "Comme nous l'avons vu précédemment, nous pouvons aussi utiliser `.loc` et `.iloc` pour accéder aux données d'un DataFrame"
   ]
  },
  {
   "cell_type": "code",
   "execution_count": null,
   "id": "cf043c29-c9cd-4696-a039-fbb107313ff8",
   "metadata": {},
   "outputs": [],
   "source": [
    "grades.loc[\"Paddle\"]"
   ]
  },
  {
   "cell_type": "code",
   "execution_count": null,
   "id": "83874cc3-5cef-4e48-ba33-2144dbcf3b96",
   "metadata": {},
   "outputs": [],
   "source": [
    "grades.loc[\"Ducobu\":\"Paddle\"]"
   ]
  },
  {
   "cell_type": "markdown",
   "id": "c1c65585-240d-4352-8b67-1c6f9e2557f6",
   "metadata": {},
   "source": [
    "`.loc` et `.iloc` peuvent prendre un second paramètre qui est la colonne ce qui permet de sélectionner une donnée"
   ]
  },
  {
   "cell_type": "code",
   "execution_count": null,
   "id": "cf471c24-5355-43bd-8ba9-8f767bafe547",
   "metadata": {},
   "outputs": [],
   "source": [
    "grades.loc[\"Ducobu\":\"Paddle\", \"english\"]"
   ]
  },
  {
   "cell_type": "markdown",
   "id": "a49352ad-d7ab-434d-b0c8-4bd797a4ec00",
   "metadata": {},
   "source": [
    "## Faire des reqêtes\n",
    "\n",
    "Nous pouvons faire des requêtes dans le DataSet pour ne sélectionner que des éléments d'intérêt"
   ]
  },
  {
   "cell_type": "code",
   "execution_count": null,
   "id": "c9b8ef87-0806-4b39-92ab-01ccb943557e",
   "metadata": {},
   "outputs": [],
   "source": [
    "grades[grades[\"english\"] > 10]"
   ]
  },
  {
   "cell_type": "code",
   "execution_count": null,
   "id": "fd74fd30-c290-47d4-bacb-9ec129c22294",
   "metadata": {},
   "outputs": [],
   "source": [
    "grades[grades[\"english\"].notnull()]"
   ]
  },
  {
   "cell_type": "markdown",
   "id": "193df213-2b9b-4ca3-a918-c652e826896d",
   "metadata": {},
   "source": [
    "Nous pouvons combiner plusieurs critères séparés avec les opérateurs `|` et `&`. Attention, il est indispensable d'ajouter les parenthèqes pour la priorité."
   ]
  },
  {
   "cell_type": "code",
   "execution_count": null,
   "id": "90f975cb-675a-41da-9f48-655253fe859e",
   "metadata": {},
   "outputs": [],
   "source": [
    "grades[(grades[\"english\"] > 10) & (grades[\"math\"] > 10)]"
   ]
  },
  {
   "cell_type": "markdown",
   "id": "467782f2-1ec4-4b11-bcbc-4e7288c607f7",
   "metadata": {},
   "source": [
    "## Grouper et aggréger des données\n",
    "\n",
    "Les Series étant construites sur les array NumPy, elles disposent des même possibilités de calcul."
   ]
  },
  {
   "cell_type": "code",
   "execution_count": null,
   "id": "a552bf55-1604-4cb6-a8af-b6dbf40186c6",
   "metadata": {},
   "outputs": [],
   "source": [
    "grades_english * 2"
   ]
  },
  {
   "cell_type": "markdown",
   "id": "d9a1926a-ad7e-4e10-a70f-38c936441acb",
   "metadata": {},
   "source": [
    "Les colonnes mais également les lignes sont des séries ce qui permet d'extraire une ligne et de faire le calcul dessus."
   ]
  },
  {
   "cell_type": "code",
   "execution_count": null,
   "id": "ecad0288-766b-4c5c-9373-04f005943247",
   "metadata": {},
   "outputs": [],
   "source": [
    "grades.loc[\"Ducobu\"].mean()"
   ]
  },
  {
   "cell_type": "markdown",
   "id": "ce294b80-ec77-4afe-a4d8-f2655f0f02d1",
   "metadata": {},
   "source": [
    "La méthode `groupby` permet de créer des groupes de données. Attention, le type obtenu n'est pas un `DataFrame` mais un `DataFrameGroupBy`."
   ]
  },
  {
   "cell_type": "code",
   "execution_count": null,
   "id": "f9887ada-104a-48c6-ad60-1fd4cf5f60fd",
   "metadata": {},
   "outputs": [],
   "source": [
    "grouped_shows = shows.groupby('tvshow')\n",
    "type(grouped_shows)"
   ]
  },
  {
   "cell_type": "markdown",
   "id": "da3e3d12-d87a-400e-9891-1308b219b3a8",
   "metadata": {},
   "source": [
    "Ce type est un itérable retournant un N-uplet de 2 valeurs :"
   ]
  },
  {
   "cell_type": "code",
   "execution_count": null,
   "id": "4b425e13-34a7-4456-bd12-66bc268ccd30",
   "metadata": {},
   "outputs": [],
   "source": [
    "for name, group in grouped_shows:\n",
    "    print(name)\n",
    "    print(group)\n",
    "    print(type(group))"
   ]
  },
  {
   "cell_type": "markdown",
   "id": "314fc020-4a57-499c-81dd-515fcec3b0d8",
   "metadata": {},
   "source": [
    "Pandas fournit des opération d'aggrégation, c'est à dire qu'elles permettent une opération sur l'ensemble du groupe."
   ]
  },
  {
   "cell_type": "code",
   "execution_count": null,
   "id": "e84da311-b265-4645-bcd5-3680cb1c7b9f",
   "metadata": {},
   "outputs": [],
   "source": [
    "grouped_shows[\"duration\"].sum()"
   ]
  },
  {
   "cell_type": "code",
   "execution_count": null,
   "id": "26a6ba17-9ba7-435e-a9f0-1aaae69369d6",
   "metadata": {},
   "outputs": [],
   "source": [
    "grouped_shows[\"duration\"].mean()"
   ]
  },
  {
   "cell_type": "code",
   "execution_count": null,
   "id": "11f1331a-ee6a-4f83-900d-2ae3da4a084e",
   "metadata": {},
   "outputs": [],
   "source": [
    "grouped_shows[\"duration\"].std()"
   ]
  },
  {
   "cell_type": "markdown",
   "id": "03d5ecd7-9cfa-44de-8227-a75337fb1c92",
   "metadata": {},
   "source": [
    "Il est possible de créer des groupes sur plusieurs colonnes."
   ]
  },
  {
   "cell_type": "code",
   "execution_count": null,
   "id": "1691b591-e713-4bde-a4d6-3346e909e7f1",
   "metadata": {},
   "outputs": [],
   "source": [
    "grouped_seasons = shows.groupby(['tvshow', \"season\"])\n",
    "for name, group in grouped_seasons:\n",
    "    print(name)\n",
    "    print(group)\n",
    "    break # Juste pour voir le premier"
   ]
  },
  {
   "cell_type": "code",
   "execution_count": null,
   "id": "9c54ada5-d01f-4c67-a625-4a81fd277cdd",
   "metadata": {},
   "outputs": [],
   "source": [
    "grouped_seasons[\"duration\"].count()"
   ]
  },
  {
   "cell_type": "markdown",
   "id": "94262ace-f84e-4f13-885c-3e5ec83aa12f",
   "metadata": {},
   "source": [
    "Nous pouvons travailler sur un groupe en le sélectionnant :"
   ]
  },
  {
   "cell_type": "code",
   "execution_count": null,
   "id": "cdd19333-b9c2-4c9a-b676-6dcc81cf772a",
   "metadata": {},
   "outputs": [],
   "source": [
    "(grouped_seasons).get_group(('Supergirl', 1))"
   ]
  },
  {
   "cell_type": "markdown",
   "id": "64465f9a-e7ca-4d26-b5ee-488360506f0b",
   "metadata": {},
   "source": [
    "## Gérer les NaN"
   ]
  },
  {
   "cell_type": "code",
   "execution_count": null,
   "id": "1b06951e-207b-462d-925c-6fa7dce2389e",
   "metadata": {},
   "outputs": [],
   "source": [
    "grades"
   ]
  },
  {
   "cell_type": "markdown",
   "id": "1f82329b-a22e-4834-917b-1d11fa6227d5",
   "metadata": {},
   "source": [
    "Nous pouvons gérer les valeurs manquantes. Voici ci-dessous comment supprimer les lignes ayant une valeur absente ou comment la remplacer par une valeur par défaut. Note : le paramètre `inplace=True` permet de modifier la valeur d'origine."
   ]
  },
  {
   "cell_type": "code",
   "execution_count": null,
   "id": "78bcbb0e-dd4a-4ae9-98f2-aff4d37526e6",
   "metadata": {},
   "outputs": [],
   "source": [
    "grades.dropna()"
   ]
  },
  {
   "cell_type": "code",
   "execution_count": null,
   "id": "11fdea56-ae9c-4b2f-9a15-a7716e5e0d13",
   "metadata": {},
   "outputs": [],
   "source": [
    "grades.fillna(value=0)\n",
    "grades"
   ]
  },
  {
   "cell_type": "markdown",
   "id": "1fc1c83b-0657-4e2a-aeb6-1445d1eedfe1",
   "metadata": {},
   "source": [
    "Ci dessous, nous allons rajouter une matière qui a également une valeur absente."
   ]
  },
  {
   "cell_type": "code",
   "execution_count": null,
   "id": "28471de7-4ac9-428c-8f67-c8a770db386c",
   "metadata": {},
   "outputs": [],
   "source": [
    "class_physics = [\"Michel\", \"Paul\", \"Marie\", \"Paddle\", \"Carmen\", \"Marysa\"]\n",
    "grades_physics = pd.Series([12, 12, 18, 13, 6, 14], index=class_physics)\n",
    "\n",
    "grades = pd.DataFrame({\"math\": grades_math, \"english\": grades_english, \"physics\": grades_physics})\n",
    "grades"
   ]
  },
  {
   "cell_type": "markdown",
   "id": "999cf856-e8cd-4645-8fd3-950474e869d1",
   "metadata": {},
   "source": [
    "Nous pouvons spécifier par colonne les valeurs de remplacement."
   ]
  },
  {
   "cell_type": "code",
   "execution_count": null,
   "id": "deba5e0b-8639-4884-bcb8-2e39b028f4e5",
   "metadata": {},
   "outputs": [],
   "source": [
    "grades.fillna(value={\"physics\":0, \"english\":10})"
   ]
  },
  {
   "cell_type": "markdown",
   "id": "26fec2ef-827b-4b88-82ae-af406ad69ee2",
   "metadata": {},
   "source": [
    "Une méthode comme `.mean()` a un paramètre `skipna=True` et l'axe par défaut est `0` soit les colonnes."
   ]
  },
  {
   "cell_type": "code",
   "execution_count": null,
   "id": "df291ddf-3719-4231-9d98-690315df2335",
   "metadata": {},
   "outputs": [],
   "source": [
    "grades.mean() "
   ]
  },
  {
   "cell_type": "code",
   "execution_count": null,
   "id": "680a9070-338f-4135-97ef-f7e0fece1fde",
   "metadata": {},
   "outputs": [],
   "source": [
    "grades.fillna(value=0).mean(1) "
   ]
  },
  {
   "cell_type": "markdown",
   "id": "c7eed7fc-dda3-422b-a0fc-6656ffbb3606",
   "metadata": {},
   "source": [
    "## Filtrer les données\n",
    "Pandas, comme NumPy, permet de filtrer les données. Les opérateurs de comparaison retournent des Series ou DataFrames de booléens."
   ]
  },
  {
   "cell_type": "code",
   "execution_count": null,
   "id": "1dbd35f3-de89-4902-abbe-08eb674f6e24",
   "metadata": {},
   "outputs": [],
   "source": [
    "grades.fillna(value=0).mean(1) >= 10"
   ]
  },
  {
   "cell_type": "markdown",
   "id": "45c503db-602c-4d81-83d9-b4c5f54e5628",
   "metadata": {},
   "source": [
    "Nous pouvons définir cette structure comme filtre et l'utilser pour filtrer les données de notre DataFrame en produisant un nouveau DataFrame"
   ]
  },
  {
   "cell_type": "code",
   "execution_count": null,
   "id": "902cb40c-712b-408e-998b-8c27f04594ab",
   "metadata": {},
   "outputs": [],
   "source": [
    "filtre = grades.fillna(value=0).mean(1) >= 10\n",
    "grades[filtre]"
   ]
  },
  {
   "cell_type": "markdown",
   "id": "41d06961-abdf-4087-9c26-ac754ee5b539",
   "metadata": {},
   "source": [
    "## Exemple d'insertion de graphes simples"
   ]
  },
  {
   "cell_type": "code",
   "execution_count": null,
   "id": "55bbdccf-6bac-4f28-b586-29e2a61e99ce",
   "metadata": {},
   "outputs": [],
   "source": [
    "import matplotlib"
   ]
  },
  {
   "cell_type": "code",
   "execution_count": null,
   "id": "212f1d4f-14cd-4ee4-984c-bd81fd5aea19",
   "metadata": {},
   "outputs": [],
   "source": [
    "shows[\"tvshow\"].value_counts().plot(kind=\"bar\")"
   ]
  },
  {
   "cell_type": "code",
   "execution_count": null,
   "id": "89b1c75d-1170-4489-b12c-19fccb00818f",
   "metadata": {},
   "outputs": [],
   "source": [
    "grades.fillna(value=0).mean(1).plot(kind=\"bar\")"
   ]
  },
  {
   "cell_type": "code",
   "execution_count": null,
   "id": "f85425e6-5c6f-4530-80ee-e3a6cf4c69d2",
   "metadata": {},
   "outputs": [],
   "source": [
    "shows.loc[shows['tvshow'] == \"Silicon Valley\"][\"duration\"].plot()"
   ]
  },
  {
   "cell_type": "code",
   "execution_count": null,
   "id": "29669130-fd7d-43fc-8f95-b24897e7d643",
   "metadata": {},
   "outputs": [],
   "source": []
  }
 ],
 "metadata": {
  "kernelspec": {
   "display_name": "Python 3 (ipykernel)",
   "language": "python",
   "name": "python3"
  },
  "language_info": {
   "codemirror_mode": {
    "name": "ipython",
    "version": 3
   },
   "file_extension": ".py",
   "mimetype": "text/x-python",
   "name": "python",
   "nbconvert_exporter": "python",
   "pygments_lexer": "ipython3",
   "version": "3.12.0"
  }
 },
 "nbformat": 4,
 "nbformat_minor": 5
}

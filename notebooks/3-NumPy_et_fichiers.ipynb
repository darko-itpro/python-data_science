{
 "cells": [
  {
   "cell_type": "markdown",
   "metadata": {},
   "source": [
    "# NumPy : charger des données à partir de fichiers"
   ]
  },
  {
   "cell_type": "code",
   "execution_count": null,
   "metadata": {},
   "outputs": [],
   "source": [
    "import numpy as np\n",
    "file_path = '../assets/comptage-voyageurs-trains-transilien.csv'"
   ]
  },
  {
   "cell_type": "markdown",
   "metadata": {},
   "source": [
    "## Avec loadtxt()\n",
    "\n",
    "Les paramètres de la fonction `loadtxt()` utilisés ici sont :\n",
    "* le path vers le fichier à charger\n",
    "* `delimiter` informe sur le délimiteur entre les données\n",
    "* `skiprows` permet d'ignorer un certain nombre de lignes, par défaut à 0, ici ce paramètre permet d'ignorer l'en-tête\n",
    "* `usecols` est une liste des colonnes à utiliser, c'est à dire des données à charger."
   ]
  },
  {
   "cell_type": "code",
   "execution_count": null,
   "metadata": {},
   "outputs": [],
   "source": [
    "sncf_data = np.loadtxt(file_path, delimiter=\";\", skiprows=1, usecols=[-1])"
   ]
  },
  {
   "cell_type": "code",
   "execution_count": null,
   "metadata": {},
   "outputs": [],
   "source": [
    "sncf_data"
   ]
  },
  {
   "cell_type": "code",
   "execution_count": null,
   "metadata": {},
   "outputs": [],
   "source": [
    "sncf_data.dtype"
   ]
  },
  {
   "cell_type": "markdown",
   "metadata": {},
   "source": [
    "## Avec nunmpy.genfromtxt\n",
    "`genfromtxt` offre plus de souplesse sur le chargement des données en effectuant deux boucles : la prmière charge les données sous la sorme d'une séquence de chaines de caractères et la seconde les convertit dans le type adapté.\n",
    "\n",
    "La cellule suivante montre un chargement de base."
   ]
  },
  {
   "cell_type": "code",
   "execution_count": null,
   "metadata": {},
   "outputs": [],
   "source": [
    "np.genfromtxt(file_path, delimiter=\";\", names=True)"
   ]
  },
  {
   "cell_type": "markdown",
   "metadata": {},
   "source": [
    "Il est possible d'inposer le datatype par colonne afin de retrouver toutes nos informations."
   ]
  },
  {
   "cell_type": "code",
   "execution_count": null,
   "metadata": {},
   "outputs": [],
   "source": [
    "datatype = ['U50', 'f8', 'U10', 'U50', 'U50', 'U50', 'f8']\n",
    "np.genfromtxt(file_path, delimiter=\";\", names=True, dtype=datatype)"
   ]
  },
  {
   "cell_type": "markdown",
   "metadata": {},
   "source": [
    "Numpy propose également une fonction de tri qui retourne une copie de l'array."
   ]
  },
  {
   "cell_type": "code",
   "execution_count": null,
   "metadata": {},
   "outputs": [],
   "source": [
    "np.sort(np.genfromtxt(file_path, delimiter=\";\", names=True, dtype=datatype), order=('Date_de_comptage', 'Nom_gare'))"
   ]
  },
  {
   "cell_type": "markdown",
   "metadata": {},
   "source": [
    "Il est également possible au chargement de filtrer les colonnes"
   ]
  },
  {
   "cell_type": "code",
   "execution_count": null,
   "metadata": {},
   "outputs": [],
   "source": [
    "np.genfromtxt(file_path, delimiter=\";\", names=True, dtype=datatype, usecols=(0, -1))"
   ]
  },
  {
   "cell_type": "code",
   "execution_count": null,
   "metadata": {},
   "outputs": [],
   "source": [
    "import matplotlib.pyplot as plt\n",
    "\n",
    "plt.style.use('seaborn-dark')\n",
    "plt.plot(np.arange(len(sncf_data)), sncf_data)"
   ]
  },
  {
   "cell_type": "code",
   "execution_count": null,
   "metadata": {},
   "outputs": [],
   "source": [
    "s_data = np.genfromtxt(file_path, delimiter=\";\", names=True, dtype=datatype, usecols=(0, -1))\n",
    "\n",
    "plt.plot(np.arange(len(s_data)), s_data['Montants'])"
   ]
  },
  {
   "cell_type": "code",
   "execution_count": null,
   "metadata": {},
   "outputs": [],
   "source": []
  }
 ],
 "metadata": {
  "kernelspec": {
   "display_name": "Python 3",
   "language": "python",
   "name": "python3"
  },
  "language_info": {
   "codemirror_mode": {
    "name": "ipython",
    "version": 3
   },
   "file_extension": ".py",
   "mimetype": "text/x-python",
   "name": "python",
   "nbconvert_exporter": "python",
   "pygments_lexer": "ipython3",
   "version": "3.7.4"
  }
 },
 "nbformat": 4,
 "nbformat_minor": 2
}

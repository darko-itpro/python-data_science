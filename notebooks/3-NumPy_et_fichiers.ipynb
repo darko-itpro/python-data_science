{
 "cells": [
  {
   "cell_type": "markdown",
   "metadata": {},
   "source": [
    "# NumPy : charger des données à partir de fichiers\n",
    "La cellule suivante importe NumPy et déclare une variable vers le fichier à utiliser. Nous allons utiliser le fichier de comptage de la SNCF."
   ]
  },
  {
   "cell_type": "code",
   "execution_count": null,
   "metadata": {},
   "outputs": [],
   "source": [
    "import numpy as np\n",
    "file_path = '../assets/comptage-voyageurs-trains-transilien.csv'\n",
    "museums_file_path = \"../assets/frequentation-des-musees-de-france.csv\""
   ]
  },
  {
   "cell_type": "markdown",
   "metadata": {},
   "source": [
    "Il s'agit maintenant de charger ce fichier. Il y a deux fonctions qui permettent de charger un fichier CSV.\n",
    "\n",
    "## Avec loadtxt()\n",
    "\n",
    "La fonction `loadtxt()` permet de charger un fichier dans un `narray`. Il est donc indispensable que toutes les données soient du même type.\n",
    "\n",
    "Les paramètres de la fonction `loadtxt()` utilisés ici sont :\n",
    "* le path vers le fichier à charger\n",
    "* `delimiter` informe sur le délimiteur entre les données\n",
    "* `skiprows` permet d'ignorer un certain nombre de lignes, par défaut à 0, ici ce paramètre permet d'ignorer l'en-tête\n",
    "* `usecols` est une liste des colonnes à utiliser, c'est à dire des données à charger."
   ]
  },
  {
   "cell_type": "code",
   "execution_count": null,
   "metadata": {},
   "outputs": [],
   "source": [
    "sncf_data = np.loadtxt(file_path, delimiter=\";\", skiprows=1, usecols=[-1])"
   ]
  },
  {
   "cell_type": "code",
   "execution_count": null,
   "metadata": {},
   "outputs": [],
   "source": [
    "sncf_data"
   ]
  },
  {
   "cell_type": "code",
   "execution_count": null,
   "metadata": {},
   "outputs": [],
   "source": [
    "sncf_data.dtype"
   ]
  },
  {
   "cell_type": "markdown",
   "metadata": {},
   "source": [
    "## Avec nunmpy.genfromtxt\n",
    "`genfromtxt` offre plus de souplesse sur le chargement des données en effectuant deux boucles : la première charge les données sous la sorme d'une séquence de chaines de caractères et la seconde réalise la convertion dans le type adapté. Il s'agit alors de *structured datatypes*.\n",
    "\n",
    "La cellule suivante montre un chargement de base."
   ]
  },
  {
   "cell_type": "code",
   "execution_count": null,
   "metadata": {},
   "outputs": [],
   "source": [
    "np.genfromtxt(file_path, delimiter=\";\", names=True)"
   ]
  },
  {
   "cell_type": "markdown",
   "metadata": {},
   "source": [
    "Par défaut, les données sont considérées être des `float`. Il est possible d'inposer le datatype par colonne afin de retrouver toutes nos informations."
   ]
  },
  {
   "cell_type": "code",
   "execution_count": null,
   "metadata": {},
   "outputs": [],
   "source": [
    "datatype = ('U50', 'f8', 'U10', 'f8', 'U50', 'U50', 'U50', 'f8')\n",
    "np.genfromtxt(file_path, delimiter=\";\", names=True, dtype=datatype)"
   ]
  },
  {
   "cell_type": "code",
   "execution_count": null,
   "metadata": {},
   "outputs": [],
   "source": [
    "np.genfromtxt(file_path, delimiter=\";\", names=True, dtype=datatype)['Montants']"
   ]
  },
  {
   "cell_type": "markdown",
   "metadata": {},
   "source": [
    "Numpy propose également une fonction de tri qui retourne une copie de l'array."
   ]
  },
  {
   "cell_type": "code",
   "execution_count": null,
   "metadata": {},
   "outputs": [],
   "source": [
    "np.sort(np.genfromtxt(file_path, delimiter=\";\", names=True, dtype=datatype), order=('Date_de_comptage', 'Nom_gare'))"
   ]
  },
  {
   "cell_type": "markdown",
   "metadata": {},
   "source": [
    "Il est également possible au chargement de filtrer les colonnes"
   ]
  },
  {
   "cell_type": "code",
   "execution_count": null,
   "metadata": {},
   "outputs": [],
   "source": [
    "np.genfromtxt(file_path, delimiter=\";\", names=True, dtype=datatype, usecols=(0, -1))"
   ]
  },
  {
   "cell_type": "code",
   "execution_count": null,
   "metadata": {},
   "outputs": [],
   "source": [
    "import matplotlib.pyplot as plt\n",
    "\n",
    "plt.style.use('seaborn-dark')\n",
    "plt.plot(np.arange(len(sncf_data)), sncf_data)"
   ]
  },
  {
   "cell_type": "code",
   "execution_count": null,
   "metadata": {},
   "outputs": [],
   "source": [
    "s_data = np.genfromtxt(file_path, delimiter=\";\", names=True, dtype=datatype, usecols=(0, -1))\n",
    "\n",
    "plt.plot(np.arange(len(s_data)), s_data['Montants'])"
   ]
  },
  {
   "cell_type": "code",
   "execution_count": null,
   "metadata": {},
   "outputs": [],
   "source": [
    "plt.scatter(np.arange(len(s_data)), s_data['Montants'])"
   ]
  },
  {
   "cell_type": "code",
   "execution_count": null,
   "metadata": {},
   "outputs": [],
   "source": [
    "user_param = None\n",
    "DEFAULT_PARAM = \"value\"\n",
    "print(user_param or DEFAULT_PARAM)"
   ]
  },
  {
   "cell_type": "markdown",
   "metadata": {},
   "source": [
    "genfromtxt peut aussi gérer les données manquantes. Le fichier du comptage des visites des musées contient des comptages vides. Par défaut, une valeur de type entier est remplacé par `-1`"
   ]
  },
  {
   "cell_type": "code",
   "execution_count": null,
   "metadata": {},
   "outputs": [],
   "source": [
    "datatype = (int, 'U50', 'U50', 'U50', 'U50', int, int)\n",
    "np.genfromtxt(museums_file_path, delimiter=\";\", names=True, dtype=datatype)"
   ]
  },
  {
   "cell_type": "markdown",
   "metadata": {},
   "source": [
    "Le paramètre `missing_values` permet d'identifier une valeur manquante. C'est principalement utile si il y a un identifiant tel que `N/A` ou `???`. `filling_values` permettent d'indiquer par quel valeur remplacer la valeur manquante."
   ]
  },
  {
   "cell_type": "code",
   "execution_count": null,
   "metadata": {},
   "outputs": [],
   "source": [
    "datatype = (int, 'U50', 'U50', 'U50', 'U50', int, int)\n",
    "np.genfromtxt(museums_file_path, delimiter=\";\", names=True, dtype=datatype,\n",
    "              missing_values={'Entrées':\"\"}, filling_values={'Entrées':0})"
   ]
  },
  {
   "cell_type": "code",
   "execution_count": null,
   "metadata": {},
   "outputs": [],
   "source": [
    "museum_data = np.genfromtxt(museums_file_path, delimiter=\";\", names=True, dtype=datatype,\n",
    "                            missing_values={'Entrées':\"\"}, filling_values={'Entrées':0})\n",
    "\n",
    "np.sort(museum_data, order=(\"REF_DU_MUSEE\", \"Année\"))"
   ]
  },
  {
   "cell_type": "code",
   "execution_count": null,
   "metadata": {},
   "outputs": [],
   "source": []
  }
 ],
 "metadata": {
  "kernelspec": {
   "display_name": "Python 3",
   "language": "python",
   "name": "python3"
  },
  "language_info": {
   "codemirror_mode": {
    "name": "ipython",
    "version": 3
   },
   "file_extension": ".py",
   "mimetype": "text/x-python",
   "name": "python",
   "nbconvert_exporter": "python",
   "pygments_lexer": "ipython3",
   "version": "3.7.4"
  }
 },
 "nbformat": 4,
 "nbformat_minor": 2
}

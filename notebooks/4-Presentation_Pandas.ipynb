{
 "cells": [
  {
   "cell_type": "markdown",
   "metadata": {},
   "source": [
    "# Découvrons Pandas\n",
    "\n",
    "Pandas est une librairie qui permet de préparer, arranger, combiner, et analyser de grands volumes de données. Pandas repose sur NumPy ce qui permet de travailler facilement avec des tableaux (Series dans Pandas) ou des matrices (DataFrames). Ces derniers sont plus *optimisés* que le type natif. Pandas et NumPy sont donc habituellement utilisés conjointement.\n",
    "\n",
    "Note : la déclaration suivante sert à importer les fichiers ressources utilisés plus bas."
   ]
  },
  {
   "cell_type": "code",
   "execution_count": 1,
   "metadata": {},
   "outputs": [],
   "source": [
    "comptage_path = '../assets/comptage-voyageurs-trains-transilien.csv'\n",
    "trips_path = '../assets/Horaires_lignes_transilien/trips.csv'\n",
    "routes_path = '../assets/Horaires_lignes_transilien/routes.csv'"
   ]
  },
  {
   "cell_type": "markdown",
   "metadata": {},
   "source": [
    "## Installation de Pandas\n",
    "Pandas est une librairie scientifique Python. Sous un système Linux, vous pouvez l’installer avec `pip`. Sous Windows ou Mac Os, vous utiliserez [Anaconda](https://www.anaconda.com).\n",
    "Les modules qui utilisent Pandas commencent habituellement par les lignes :"
   ]
  },
  {
   "cell_type": "code",
   "execution_count": 2,
   "metadata": {},
   "outputs": [],
   "source": [
    "import pandas as pd\n",
    "import numpy as np"
   ]
  },
  {
   "cell_type": "markdown",
   "metadata": {},
   "source": [
    "## Pandas, les DataFrames, Series et les indexes\n",
    "Dans Pandas, un `DataFrame` est une matrice qui peut être comparée à un tableur. Les lignes ou colonnes sont des `Series`.\n",
    "Un index est une liste d’entiers (`int`) ou labels (`str`) qui identifie de manière unique une ligne ou une colonne. Les Series sont toujours indexées.\n",
    "Une série est un objet créé à l’aide d’un constructeur qui accepte en paramètre une collection. La série créée de cette manière voit ses valeurs indexés avec un entier."
   ]
  },
  {
   "cell_type": "code",
   "execution_count": 3,
   "metadata": {},
   "outputs": [
    {
     "data": {
      "text/plain": [
       "0    1\n",
       "1    2\n",
       "2    3\n",
       "3    4\n",
       "dtype: int64"
      ]
     },
     "execution_count": 3,
     "metadata": {},
     "output_type": "execute_result"
    }
   ],
   "source": [
    "pd.Series(range(1, 5))"
   ]
  },
  {
   "cell_type": "markdown",
   "metadata": {},
   "source": [
    "L’index peut être spécifié ainsi que le nom de la série."
   ]
  },
  {
   "cell_type": "code",
   "execution_count": 4,
   "metadata": {},
   "outputs": [
    {
     "data": {
      "text/plain": [
       "un        1\n",
       "deux      2\n",
       "trois     3\n",
       "quatre    4\n",
       "Name: ma_serie, dtype: int64"
      ]
     },
     "execution_count": 4,
     "metadata": {},
     "output_type": "execute_result"
    }
   ],
   "source": [
    "pd.Series(range(1, 5), index=[\"un\", \"deux\", \"trois\", \"quatre\"], name=\"ma_serie\")"
   ]
  },
  {
   "cell_type": "markdown",
   "metadata": {},
   "source": [
    "## Accéder à un élément\n",
    "On peut accéder à un élément d’une série à partir de son label ou de son indice."
   ]
  },
  {
   "cell_type": "code",
   "execution_count": 5,
   "metadata": {},
   "outputs": [
    {
     "name": "stdout",
     "output_type": "stream",
     "text": [
      "1\n",
      "3\n"
     ]
    }
   ],
   "source": [
    "my_serie = pd.Series(range(1, 5), index=[\"un\", \"deux\", \"trois\", \"quatre\"], name=\"ma_serie\")\n",
    "print(my_serie[0])\n",
    "print(my_serie['trois'])"
   ]
  },
  {
   "cell_type": "markdown",
   "metadata": {},
   "source": [
    "Il est également possible d’utiliser le slicing avec les Series."
   ]
  },
  {
   "cell_type": "code",
   "execution_count": 6,
   "metadata": {},
   "outputs": [
    {
     "name": "stdout",
     "output_type": "stream",
     "text": [
      "un       1\n",
      "deux     2\n",
      "trois    3\n",
      "Name: ma_serie, dtype: int64\n",
      "un       1\n",
      "deux     2\n",
      "trois    3\n",
      "Name: ma_serie, dtype: int64\n"
     ]
    }
   ],
   "source": [
    "print(my_serie['un' : 'trois'])\n",
    "print(my_serie[0:3])"
   ]
  },
  {
   "cell_type": "markdown",
   "metadata": {},
   "source": [
    "Pandas permet également l'accès par les indices spécifiques."
   ]
  },
  {
   "cell_type": "code",
   "execution_count": 7,
   "metadata": {},
   "outputs": [
    {
     "name": "stdout",
     "output_type": "stream",
     "text": [
      "un        1\n",
      "quatre    4\n",
      "Name: ma_serie, dtype: int64\n",
      "un       1\n",
      "trois    3\n",
      "deux     2\n",
      "Name: ma_serie, dtype: int64\n"
     ]
    }
   ],
   "source": [
    "print(my_serie[[0,3]])\n",
    "print(my_serie[['un', 'trois', 'deux']])"
   ]
  },
  {
   "cell_type": "markdown",
   "metadata": {},
   "source": [
    "On peut appliquer des fonctions méthématiques directement sur les Series et certaines sont disponibles sous forme de *raccourcis*."
   ]
  },
  {
   "cell_type": "code",
   "execution_count": 8,
   "metadata": {},
   "outputs": [
    {
     "data": {
      "text/plain": [
       "10"
      ]
     },
     "execution_count": 8,
     "metadata": {},
     "output_type": "execute_result"
    }
   ],
   "source": [
    "my_serie.sum()"
   ]
  },
  {
   "cell_type": "markdown",
   "metadata": {},
   "source": [
    "On peut appliquer des opérations sur deux séries comme additionner deux séries, mais pour cela, leur indexes doivent être alignés."
   ]
  },
  {
   "cell_type": "code",
   "execution_count": 9,
   "metadata": {},
   "outputs": [
    {
     "data": {
      "text/plain": [
       "cinq           NaN\n",
       "deux           NaN\n",
       "quatre    4.121559\n",
       "six            NaN\n",
       "trois     3.313830\n",
       "un             NaN\n",
       "dtype: float64"
      ]
     },
     "execution_count": 9,
     "metadata": {},
     "output_type": "execute_result"
    }
   ],
   "source": [
    "other_serie = pd.Series(np.random.rand(4), index=['trois', 'quatre', 'cinq', 'six'], name='Autre serie')\n",
    "\n",
    "my_serie + other_serie"
   ]
  },
  {
   "cell_type": "markdown",
   "metadata": {},
   "source": [
    "Pandas réalise l'union avant l'opération. Les valeurs manquantes ont été remplacées par un `NaN` (Not a number).\n",
    "\n",
    "Pandas propose des méthodes permétant par exemple de remplacer les valeur manquantes (ici par 0)"
   ]
  },
  {
   "cell_type": "code",
   "execution_count": 10,
   "metadata": {},
   "outputs": [
    {
     "data": {
      "text/plain": [
       "cinq      0.764172\n",
       "deux      2.000000\n",
       "quatre    4.121559\n",
       "six       0.696084\n",
       "trois     3.313830\n",
       "un        1.000000\n",
       "dtype: float64"
      ]
     },
     "execution_count": 10,
     "metadata": {},
     "output_type": "execute_result"
    }
   ],
   "source": [
    "my_serie.add(other_serie, fill_value=0)"
   ]
  },
  {
   "cell_type": "markdown",
   "metadata": {},
   "source": [
    "Mais si les indexes sont insignifiants et seul les valeurs nous intéressent, alors on peut supprimer les indexes"
   ]
  },
  {
   "cell_type": "code",
   "execution_count": 11,
   "metadata": {},
   "outputs": [
    {
     "data": {
      "text/plain": [
       "0    1.313830\n",
       "1    2.121559\n",
       "2    3.764172\n",
       "3    4.696084\n",
       "dtype: float64"
      ]
     },
     "execution_count": 11,
     "metadata": {},
     "output_type": "execute_result"
    }
   ],
   "source": [
    "my_serie.reset_index(drop=True) + other_serie.reset_index(drop=True)"
   ]
  },
  {
   "cell_type": "markdown",
   "metadata": {},
   "source": [
    "## Créer des DataFrames à partir de séries\n",
    "Un DataFrame est un *tableau*. On peut créer un DataFrame à partir de l'association de séries qui ont des indexes partagés. La classe DataFrame permet ceci par son constructeur."
   ]
  },
  {
   "cell_type": "code",
   "execution_count": 12,
   "metadata": {},
   "outputs": [
    {
     "data": {
      "text/html": [
       "<div>\n",
       "<style scoped>\n",
       "    .dataframe tbody tr th:only-of-type {\n",
       "        vertical-align: middle;\n",
       "    }\n",
       "\n",
       "    .dataframe tbody tr th {\n",
       "        vertical-align: top;\n",
       "    }\n",
       "\n",
       "    .dataframe thead th {\n",
       "        text-align: right;\n",
       "    }\n",
       "</style>\n",
       "<table border=\"1\" class=\"dataframe\">\n",
       "  <thead>\n",
       "    <tr style=\"text-align: right;\">\n",
       "      <th></th>\n",
       "      <th>First</th>\n",
       "      <th>Other</th>\n",
       "    </tr>\n",
       "  </thead>\n",
       "  <tbody>\n",
       "    <tr>\n",
       "      <td>0</td>\n",
       "      <td>1</td>\n",
       "      <td>0.313830</td>\n",
       "    </tr>\n",
       "    <tr>\n",
       "      <td>1</td>\n",
       "      <td>2</td>\n",
       "      <td>0.121559</td>\n",
       "    </tr>\n",
       "    <tr>\n",
       "      <td>2</td>\n",
       "      <td>3</td>\n",
       "      <td>0.764172</td>\n",
       "    </tr>\n",
       "    <tr>\n",
       "      <td>3</td>\n",
       "      <td>4</td>\n",
       "      <td>0.696084</td>\n",
       "    </tr>\n",
       "  </tbody>\n",
       "</table>\n",
       "</div>"
      ],
      "text/plain": [
       "   First     Other\n",
       "0      1  0.313830\n",
       "1      2  0.121559\n",
       "2      3  0.764172\n",
       "3      4  0.696084"
      ]
     },
     "execution_count": 12,
     "metadata": {},
     "output_type": "execute_result"
    }
   ],
   "source": [
    "pd.DataFrame({'First':my_serie.reset_index(drop=True), 'Other':other_serie.reset_index(drop=True)})"
   ]
  },
  {
   "cell_type": "markdown",
   "metadata": {},
   "source": [
    "## L'import de données\n",
    "Pandas est capable d'importer des données à partie de la plupart des formats courants. Ci-dessous nous chargeons un fichier csv issu de l'OpenData de la SNCF en csv et affichons les 5 premières lignes."
   ]
  },
  {
   "cell_type": "code",
   "execution_count": 13,
   "metadata": {},
   "outputs": [
    {
     "data": {
      "text/html": [
       "<div>\n",
       "<style scoped>\n",
       "    .dataframe tbody tr th:only-of-type {\n",
       "        vertical-align: middle;\n",
       "    }\n",
       "\n",
       "    .dataframe tbody tr th {\n",
       "        vertical-align: top;\n",
       "    }\n",
       "\n",
       "    .dataframe thead th {\n",
       "        text-align: right;\n",
       "    }\n",
       "</style>\n",
       "<table border=\"1\" class=\"dataframe\">\n",
       "  <thead>\n",
       "    <tr style=\"text-align: right;\">\n",
       "      <th></th>\n",
       "      <th>Nom gare</th>\n",
       "      <th>Code gare</th>\n",
       "      <th>Type de jour</th>\n",
       "      <th>Date de comptage</th>\n",
       "      <th>Ligne</th>\n",
       "      <th>Tranche_horaire</th>\n",
       "      <th>Montants</th>\n",
       "    </tr>\n",
       "  </thead>\n",
       "  <tbody>\n",
       "    <tr>\n",
       "      <td>0</td>\n",
       "      <td>La Ferté sous Jouarre</td>\n",
       "      <td>87116517</td>\n",
       "      <td>Samedi</td>\n",
       "      <td>2010-06-05</td>\n",
       "      <td>P</td>\n",
       "      <td>Entre 16h et 20h</td>\n",
       "      <td>182</td>\n",
       "    </tr>\n",
       "    <tr>\n",
       "      <td>1</td>\n",
       "      <td>La Ferté sous Jouarre</td>\n",
       "      <td>87116517</td>\n",
       "      <td>Samedi</td>\n",
       "      <td>2010-06-05</td>\n",
       "      <td>P</td>\n",
       "      <td>Après 20h</td>\n",
       "      <td>72</td>\n",
       "    </tr>\n",
       "    <tr>\n",
       "      <td>2</td>\n",
       "      <td>La Frette Montigny</td>\n",
       "      <td>87381871</td>\n",
       "      <td>Dimanche</td>\n",
       "      <td>2012-06-17</td>\n",
       "      <td>J</td>\n",
       "      <td>Entre 16h et 20h</td>\n",
       "      <td>181</td>\n",
       "    </tr>\n",
       "    <tr>\n",
       "      <td>3</td>\n",
       "      <td>La Frette Montigny</td>\n",
       "      <td>87381871</td>\n",
       "      <td>Dimanche</td>\n",
       "      <td>2012-06-17</td>\n",
       "      <td>J</td>\n",
       "      <td>Après 20h</td>\n",
       "      <td>50</td>\n",
       "    </tr>\n",
       "    <tr>\n",
       "      <td>4</td>\n",
       "      <td>La Frette Montigny</td>\n",
       "      <td>87381871</td>\n",
       "      <td>Samedi</td>\n",
       "      <td>2012-06-16</td>\n",
       "      <td>J</td>\n",
       "      <td>Entre 10h et 16h</td>\n",
       "      <td>332</td>\n",
       "    </tr>\n",
       "  </tbody>\n",
       "</table>\n",
       "</div>"
      ],
      "text/plain": [
       "                Nom gare  Code gare Type de jour Date de comptage Ligne  \\\n",
       "0  La Ferté sous Jouarre   87116517       Samedi       2010-06-05     P   \n",
       "1  La Ferté sous Jouarre   87116517       Samedi       2010-06-05     P   \n",
       "2     La Frette Montigny   87381871     Dimanche       2012-06-17     J   \n",
       "3     La Frette Montigny   87381871     Dimanche       2012-06-17     J   \n",
       "4     La Frette Montigny   87381871       Samedi       2012-06-16     J   \n",
       "\n",
       "    Tranche_horaire  Montants  \n",
       "0  Entre 16h et 20h       182  \n",
       "1         Après 20h        72  \n",
       "2  Entre 16h et 20h       181  \n",
       "3         Après 20h        50  \n",
       "4  Entre 10h et 16h       332  "
      ]
     },
     "execution_count": 13,
     "metadata": {},
     "output_type": "execute_result"
    }
   ],
   "source": [
    "df = pd.read_csv(comptage_path,\n",
    "            sep=\";\")\n",
    "df.head()"
   ]
  },
  {
   "cell_type": "markdown",
   "metadata": {},
   "source": [
    "Chaque colonne est une `Serie` et peut être accédée comme un élément du DataFrame"
   ]
  },
  {
   "cell_type": "code",
   "execution_count": 14,
   "metadata": {},
   "outputs": [
    {
     "data": {
      "text/plain": [
       "0    La Ferté sous Jouarre\n",
       "1    La Ferté sous Jouarre\n",
       "2       La Frette Montigny\n",
       "3       La Frette Montigny\n",
       "4       La Frette Montigny\n",
       "Name: Nom gare, dtype: object"
      ]
     },
     "execution_count": 14,
     "metadata": {},
     "output_type": "execute_result"
    }
   ],
   "source": [
    "df['Nom gare'].head()"
   ]
  },
  {
   "cell_type": "markdown",
   "metadata": {},
   "source": [
    "La méthode `describe` donne un apperçu rapide (sous forme d'une `Series`) : le nombre de données, la moyenne globale, la déviation standard, le minimum, les quartiles et le maximum de la Serie"
   ]
  },
  {
   "cell_type": "code",
   "execution_count": 15,
   "metadata": {},
   "outputs": [
    {
     "data": {
      "text/plain": [
       "count     6376.000000\n",
       "mean       935.599906\n",
       "std       2705.164831\n",
       "min          0.000000\n",
       "25%         35.000000\n",
       "50%        178.500000\n",
       "75%        720.000000\n",
       "max      54000.000000\n",
       "Name: Montants, dtype: float64"
      ]
     },
     "execution_count": 15,
     "metadata": {},
     "output_type": "execute_result"
    }
   ],
   "source": [
    "df['Montants'].describe()"
   ]
  },
  {
   "cell_type": "markdown",
   "metadata": {},
   "source": [
    "Pour les valeurs autre que numériques, `describe` retourne le nombre de données, le nombre d'éléments uniques, la valeur la plus fréquente et son nombre d'occurences."
   ]
  },
  {
   "cell_type": "code",
   "execution_count": 16,
   "metadata": {},
   "outputs": [
    {
     "data": {
      "text/plain": [
       "count                   6376\n",
       "unique                   382\n",
       "top       Paris Saint-Lazare\n",
       "freq                      70\n",
       "Name: Nom gare, dtype: object"
      ]
     },
     "execution_count": 16,
     "metadata": {},
     "output_type": "execute_result"
    }
   ],
   "source": [
    "df['Nom gare'].describe()"
   ]
  },
  {
   "cell_type": "markdown",
   "metadata": {},
   "source": [
    "Pandas permet de grouper les données"
   ]
  },
  {
   "cell_type": "code",
   "execution_count": 17,
   "metadata": {},
   "outputs": [
    {
     "data": {
      "text/html": [
       "<div>\n",
       "<style scoped>\n",
       "    .dataframe tbody tr th:only-of-type {\n",
       "        vertical-align: middle;\n",
       "    }\n",
       "\n",
       "    .dataframe tbody tr th {\n",
       "        vertical-align: top;\n",
       "    }\n",
       "\n",
       "    .dataframe thead tr th {\n",
       "        text-align: left;\n",
       "    }\n",
       "\n",
       "    .dataframe thead tr:last-of-type th {\n",
       "        text-align: right;\n",
       "    }\n",
       "</style>\n",
       "<table border=\"1\" class=\"dataframe\">\n",
       "  <thead>\n",
       "    <tr>\n",
       "      <th></th>\n",
       "      <th></th>\n",
       "      <th colspan=\"2\" halign=\"left\">Code gare</th>\n",
       "      <th colspan=\"2\" halign=\"left\">Montants</th>\n",
       "    </tr>\n",
       "    <tr>\n",
       "      <th></th>\n",
       "      <th></th>\n",
       "      <th>mean</th>\n",
       "      <th>sum</th>\n",
       "      <th>mean</th>\n",
       "      <th>sum</th>\n",
       "    </tr>\n",
       "    <tr>\n",
       "      <th>Nom gare</th>\n",
       "      <th>Type de jour</th>\n",
       "      <th></th>\n",
       "      <th></th>\n",
       "      <th></th>\n",
       "      <th></th>\n",
       "    </tr>\n",
       "  </thead>\n",
       "  <tbody>\n",
       "    <tr>\n",
       "      <td rowspan=\"3\" valign=\"top\">Ablon</td>\n",
       "      <td>Dimanche</td>\n",
       "      <td>87545269</td>\n",
       "      <td>437726345</td>\n",
       "      <td>179.2</td>\n",
       "      <td>896</td>\n",
       "    </tr>\n",
       "    <tr>\n",
       "      <td>JOB</td>\n",
       "      <td>87545269</td>\n",
       "      <td>437726345</td>\n",
       "      <td>462.2</td>\n",
       "      <td>2311</td>\n",
       "    </tr>\n",
       "    <tr>\n",
       "      <td>Samedi</td>\n",
       "      <td>87545269</td>\n",
       "      <td>437726345</td>\n",
       "      <td>259.0</td>\n",
       "      <td>1295</td>\n",
       "    </tr>\n",
       "    <tr>\n",
       "      <td rowspan=\"3\" valign=\"top\">Achères Grand Cormier</td>\n",
       "      <td>Dimanche</td>\n",
       "      <td>87386052</td>\n",
       "      <td>436930260</td>\n",
       "      <td>38.6</td>\n",
       "      <td>193</td>\n",
       "    </tr>\n",
       "    <tr>\n",
       "      <td>JOB</td>\n",
       "      <td>87386052</td>\n",
       "      <td>436930260</td>\n",
       "      <td>82.0</td>\n",
       "      <td>410</td>\n",
       "    </tr>\n",
       "    <tr>\n",
       "      <td>Samedi</td>\n",
       "      <td>87386052</td>\n",
       "      <td>436930260</td>\n",
       "      <td>44.0</td>\n",
       "      <td>220</td>\n",
       "    </tr>\n",
       "  </tbody>\n",
       "</table>\n",
       "</div>"
      ],
      "text/plain": [
       "                                   Code gare            Montants      \n",
       "                                        mean        sum     mean   sum\n",
       "Nom gare              Type de jour                                    \n",
       "Ablon                 Dimanche      87545269  437726345    179.2   896\n",
       "                      JOB           87545269  437726345    462.2  2311\n",
       "                      Samedi        87545269  437726345    259.0  1295\n",
       "Achères Grand Cormier Dimanche      87386052  436930260     38.6   193\n",
       "                      JOB           87386052  436930260     82.0   410\n",
       "                      Samedi        87386052  436930260     44.0   220"
      ]
     },
     "execution_count": 17,
     "metadata": {},
     "output_type": "execute_result"
    }
   ],
   "source": [
    "df.groupby(['Nom gare', 'Type de jour']).aggregate([np.mean, np.sum]).head(6)"
   ]
  },
  {
   "cell_type": "markdown",
   "metadata": {},
   "source": [
    "Ici, nous avons la création d'un *MultiIndex* qui permet d'organiser les données par catégorie/niveau et précisions 6 lignes d'affichage pour avoir tous les éléments."
   ]
  },
  {
   "cell_type": "markdown",
   "metadata": {},
   "source": [
    "Pandas permet de créer de nouveaux `DataFrame` à partir des données d'un DataFrame."
   ]
  },
  {
   "cell_type": "code",
   "execution_count": 18,
   "metadata": {},
   "outputs": [
    {
     "data": {
      "text/html": [
       "<div>\n",
       "<style scoped>\n",
       "    .dataframe tbody tr th:only-of-type {\n",
       "        vertical-align: middle;\n",
       "    }\n",
       "\n",
       "    .dataframe tbody tr th {\n",
       "        vertical-align: top;\n",
       "    }\n",
       "\n",
       "    .dataframe thead th {\n",
       "        text-align: right;\n",
       "    }\n",
       "</style>\n",
       "<table border=\"1\" class=\"dataframe\">\n",
       "  <thead>\n",
       "    <tr style=\"text-align: right;\">\n",
       "      <th></th>\n",
       "      <th>Montants</th>\n",
       "    </tr>\n",
       "    <tr>\n",
       "      <th>Nom gare</th>\n",
       "      <th></th>\n",
       "    </tr>\n",
       "  </thead>\n",
       "  <tbody>\n",
       "    <tr>\n",
       "      <td>Paris Saint-Lazare</td>\n",
       "      <td>70</td>\n",
       "    </tr>\n",
       "    <tr>\n",
       "      <td>Mantes la Jolie</td>\n",
       "      <td>69</td>\n",
       "    </tr>\n",
       "    <tr>\n",
       "      <td>Paris Nord</td>\n",
       "      <td>58</td>\n",
       "    </tr>\n",
       "    <tr>\n",
       "      <td>Houilles Carrières sur Seine</td>\n",
       "      <td>46</td>\n",
       "    </tr>\n",
       "    <tr>\n",
       "      <td>Pontoise</td>\n",
       "      <td>45</td>\n",
       "    </tr>\n",
       "  </tbody>\n",
       "</table>\n",
       "</div>"
      ],
      "text/plain": [
       "                              Montants\n",
       "Nom gare                              \n",
       "Paris Saint-Lazare                  70\n",
       "Mantes la Jolie                     69\n",
       "Paris Nord                          58\n",
       "Houilles Carrières sur Seine        46\n",
       "Pontoise                            45"
      ]
     },
     "execution_count": 18,
     "metadata": {},
     "output_type": "execute_result"
    }
   ],
   "source": [
    "pd.DataFrame(df.groupby(['Nom gare'])['Montants'].count()) \\\n",
    "    .sort_values('Montants', ascending=False).head()"
   ]
  },
  {
   "cell_type": "markdown",
   "metadata": {},
   "source": [
    "Pandas permet également d'extraire des informations de ce nouveau DataFrame"
   ]
  },
  {
   "cell_type": "code",
   "execution_count": 19,
   "metadata": {},
   "outputs": [
    {
     "data": {
      "text/html": [
       "<div>\n",
       "<style scoped>\n",
       "    .dataframe tbody tr th:only-of-type {\n",
       "        vertical-align: middle;\n",
       "    }\n",
       "\n",
       "    .dataframe tbody tr th {\n",
       "        vertical-align: top;\n",
       "    }\n",
       "\n",
       "    .dataframe thead th {\n",
       "        text-align: right;\n",
       "    }\n",
       "</style>\n",
       "<table border=\"1\" class=\"dataframe\">\n",
       "  <thead>\n",
       "    <tr style=\"text-align: right;\">\n",
       "      <th></th>\n",
       "      <th>count</th>\n",
       "      <th>mean</th>\n",
       "      <th>std</th>\n",
       "      <th>min</th>\n",
       "      <th>25%</th>\n",
       "      <th>50%</th>\n",
       "      <th>75%</th>\n",
       "      <th>max</th>\n",
       "    </tr>\n",
       "    <tr>\n",
       "      <th>Nom gare</th>\n",
       "      <th></th>\n",
       "      <th></th>\n",
       "      <th></th>\n",
       "      <th></th>\n",
       "      <th></th>\n",
       "      <th></th>\n",
       "      <th></th>\n",
       "      <th></th>\n",
       "    </tr>\n",
       "  </thead>\n",
       "  <tbody>\n",
       "    <tr>\n",
       "      <td>Ablon</td>\n",
       "      <td>15.0</td>\n",
       "      <td>300.133333</td>\n",
       "      <td>305.015659</td>\n",
       "      <td>5.0</td>\n",
       "      <td>69.5</td>\n",
       "      <td>218.0</td>\n",
       "      <td>453.50</td>\n",
       "      <td>1135.0</td>\n",
       "    </tr>\n",
       "    <tr>\n",
       "      <td>Achères Grand Cormier</td>\n",
       "      <td>15.0</td>\n",
       "      <td>54.866667</td>\n",
       "      <td>44.085739</td>\n",
       "      <td>3.0</td>\n",
       "      <td>23.5</td>\n",
       "      <td>46.0</td>\n",
       "      <td>86.50</td>\n",
       "      <td>149.0</td>\n",
       "    </tr>\n",
       "    <tr>\n",
       "      <td>Achères Ville</td>\n",
       "      <td>18.0</td>\n",
       "      <td>593.611111</td>\n",
       "      <td>545.500864</td>\n",
       "      <td>2.0</td>\n",
       "      <td>161.0</td>\n",
       "      <td>564.5</td>\n",
       "      <td>806.25</td>\n",
       "      <td>1990.0</td>\n",
       "    </tr>\n",
       "    <tr>\n",
       "      <td>Allée de la Tour Rendez-Vous</td>\n",
       "      <td>15.0</td>\n",
       "      <td>160.266667</td>\n",
       "      <td>158.469225</td>\n",
       "      <td>3.0</td>\n",
       "      <td>38.0</td>\n",
       "      <td>114.0</td>\n",
       "      <td>274.00</td>\n",
       "      <td>427.0</td>\n",
       "    </tr>\n",
       "    <tr>\n",
       "      <td>Andrésy</td>\n",
       "      <td>15.0</td>\n",
       "      <td>98.933333</td>\n",
       "      <td>128.755841</td>\n",
       "      <td>2.0</td>\n",
       "      <td>20.0</td>\n",
       "      <td>49.0</td>\n",
       "      <td>125.00</td>\n",
       "      <td>502.0</td>\n",
       "    </tr>\n",
       "    <tr>\n",
       "      <td>...</td>\n",
       "      <td>...</td>\n",
       "      <td>...</td>\n",
       "      <td>...</td>\n",
       "      <td>...</td>\n",
       "      <td>...</td>\n",
       "      <td>...</td>\n",
       "      <td>...</td>\n",
       "      <td>...</td>\n",
       "    </tr>\n",
       "    <tr>\n",
       "      <td>Viry Châtillon</td>\n",
       "      <td>15.0</td>\n",
       "      <td>379.466667</td>\n",
       "      <td>306.647277</td>\n",
       "      <td>9.0</td>\n",
       "      <td>130.0</td>\n",
       "      <td>346.0</td>\n",
       "      <td>641.00</td>\n",
       "      <td>1025.0</td>\n",
       "    </tr>\n",
       "    <tr>\n",
       "      <td>Vitry sur Seine</td>\n",
       "      <td>15.0</td>\n",
       "      <td>1069.533333</td>\n",
       "      <td>916.113364</td>\n",
       "      <td>56.0</td>\n",
       "      <td>355.5</td>\n",
       "      <td>851.0</td>\n",
       "      <td>1502.50</td>\n",
       "      <td>3264.0</td>\n",
       "    </tr>\n",
       "    <tr>\n",
       "      <td>Vosves</td>\n",
       "      <td>13.0</td>\n",
       "      <td>4.461538</td>\n",
       "      <td>6.983497</td>\n",
       "      <td>0.0</td>\n",
       "      <td>0.0</td>\n",
       "      <td>2.0</td>\n",
       "      <td>4.00</td>\n",
       "      <td>25.0</td>\n",
       "    </tr>\n",
       "    <tr>\n",
       "      <td>Vulaines sur Seine Samoreau</td>\n",
       "      <td>15.0</td>\n",
       "      <td>13.066667</td>\n",
       "      <td>13.408242</td>\n",
       "      <td>0.0</td>\n",
       "      <td>3.0</td>\n",
       "      <td>9.0</td>\n",
       "      <td>15.50</td>\n",
       "      <td>49.0</td>\n",
       "    </tr>\n",
       "    <tr>\n",
       "      <td>Yerres</td>\n",
       "      <td>15.0</td>\n",
       "      <td>767.866667</td>\n",
       "      <td>1078.190605</td>\n",
       "      <td>26.0</td>\n",
       "      <td>143.0</td>\n",
       "      <td>608.0</td>\n",
       "      <td>755.50</td>\n",
       "      <td>4287.0</td>\n",
       "    </tr>\n",
       "  </tbody>\n",
       "</table>\n",
       "<p>382 rows × 8 columns</p>\n",
       "</div>"
      ],
      "text/plain": [
       "                              count         mean          std   min    25%  \\\n",
       "Nom gare                                                                     \n",
       "Ablon                          15.0   300.133333   305.015659   5.0   69.5   \n",
       "Achères Grand Cormier          15.0    54.866667    44.085739   3.0   23.5   \n",
       "Achères Ville                  18.0   593.611111   545.500864   2.0  161.0   \n",
       "Allée de la Tour Rendez-Vous   15.0   160.266667   158.469225   3.0   38.0   \n",
       "Andrésy                        15.0    98.933333   128.755841   2.0   20.0   \n",
       "...                             ...          ...          ...   ...    ...   \n",
       "Viry Châtillon                 15.0   379.466667   306.647277   9.0  130.0   \n",
       "Vitry sur Seine                15.0  1069.533333   916.113364  56.0  355.5   \n",
       "Vosves                         13.0     4.461538     6.983497   0.0    0.0   \n",
       "Vulaines sur Seine Samoreau    15.0    13.066667    13.408242   0.0    3.0   \n",
       "Yerres                         15.0   767.866667  1078.190605  26.0  143.0   \n",
       "\n",
       "                                50%      75%     max  \n",
       "Nom gare                                              \n",
       "Ablon                         218.0   453.50  1135.0  \n",
       "Achères Grand Cormier          46.0    86.50   149.0  \n",
       "Achères Ville                 564.5   806.25  1990.0  \n",
       "Allée de la Tour Rendez-Vous  114.0   274.00   427.0  \n",
       "Andrésy                        49.0   125.00   502.0  \n",
       "...                             ...      ...     ...  \n",
       "Viry Châtillon                346.0   641.00  1025.0  \n",
       "Vitry sur Seine               851.0  1502.50  3264.0  \n",
       "Vosves                          2.0     4.00    25.0  \n",
       "Vulaines sur Seine Samoreau     9.0    15.50    49.0  \n",
       "Yerres                        608.0   755.50  4287.0  \n",
       "\n",
       "[382 rows x 8 columns]"
      ]
     },
     "execution_count": 19,
     "metadata": {},
     "output_type": "execute_result"
    }
   ],
   "source": [
    "df.groupby(['Nom gare'])['Montants'].describe()"
   ]
  },
  {
   "cell_type": "markdown",
   "metadata": {},
   "source": [
    "Bien entendu, on peut réaliser des opérations sur ces extractions"
   ]
  },
  {
   "cell_type": "code",
   "execution_count": 20,
   "metadata": {},
   "outputs": [
    {
     "data": {
      "text/html": [
       "<div>\n",
       "<style scoped>\n",
       "    .dataframe tbody tr th:only-of-type {\n",
       "        vertical-align: middle;\n",
       "    }\n",
       "\n",
       "    .dataframe tbody tr th {\n",
       "        vertical-align: top;\n",
       "    }\n",
       "\n",
       "    .dataframe thead th {\n",
       "        text-align: right;\n",
       "    }\n",
       "</style>\n",
       "<table border=\"1\" class=\"dataframe\">\n",
       "  <thead>\n",
       "    <tr style=\"text-align: right;\">\n",
       "      <th></th>\n",
       "      <th>Montants</th>\n",
       "    </tr>\n",
       "    <tr>\n",
       "      <th>Nom gare</th>\n",
       "      <th></th>\n",
       "    </tr>\n",
       "  </thead>\n",
       "  <tbody>\n",
       "    <tr>\n",
       "      <td>Paris Nord</td>\n",
       "      <td>673992</td>\n",
       "    </tr>\n",
       "    <tr>\n",
       "      <td>Paris Saint-Lazare</td>\n",
       "      <td>327838</td>\n",
       "    </tr>\n",
       "    <tr>\n",
       "      <td>Paris Gare de Lyon</td>\n",
       "      <td>212767</td>\n",
       "    </tr>\n",
       "    <tr>\n",
       "      <td>Magenta</td>\n",
       "      <td>155686</td>\n",
       "    </tr>\n",
       "    <tr>\n",
       "      <td>Haussmann Saint-Lazare</td>\n",
       "      <td>139537</td>\n",
       "    </tr>\n",
       "  </tbody>\n",
       "</table>\n",
       "</div>"
      ],
      "text/plain": [
       "                        Montants\n",
       "Nom gare                        \n",
       "Paris Nord                673992\n",
       "Paris Saint-Lazare        327838\n",
       "Paris Gare de Lyon        212767\n",
       "Magenta                   155686\n",
       "Haussmann Saint-Lazare    139537"
      ]
     },
     "execution_count": 20,
     "metadata": {},
     "output_type": "execute_result"
    }
   ],
   "source": [
    "pd.DataFrame(df.groupby(['Nom gare'])['Montants'].sum()) \\\n",
    "    .sort_values('Montants', ascending=False).head()"
   ]
  },
  {
   "cell_type": "code",
   "execution_count": 21,
   "metadata": {},
   "outputs": [
    {
     "data": {
      "text/html": [
       "<div>\n",
       "<style scoped>\n",
       "    .dataframe tbody tr th:only-of-type {\n",
       "        vertical-align: middle;\n",
       "    }\n",
       "\n",
       "    .dataframe tbody tr th {\n",
       "        vertical-align: top;\n",
       "    }\n",
       "\n",
       "    .dataframe thead th {\n",
       "        text-align: right;\n",
       "    }\n",
       "</style>\n",
       "<table border=\"1\" class=\"dataframe\">\n",
       "  <thead>\n",
       "    <tr style=\"text-align: right;\">\n",
       "      <th></th>\n",
       "      <th></th>\n",
       "      <th>Montants</th>\n",
       "    </tr>\n",
       "    <tr>\n",
       "      <th>Date de comptage</th>\n",
       "      <th>Nom gare</th>\n",
       "      <th></th>\n",
       "    </tr>\n",
       "  </thead>\n",
       "  <tbody>\n",
       "    <tr>\n",
       "      <td>2014-03-27</td>\n",
       "      <td>Paris Nord</td>\n",
       "      <td>161746</td>\n",
       "    </tr>\n",
       "    <tr>\n",
       "      <td>2014-03-29</td>\n",
       "      <td>Paris Nord</td>\n",
       "      <td>107128</td>\n",
       "    </tr>\n",
       "    <tr>\n",
       "      <td>2011-01-27</td>\n",
       "      <td>Paris Gare de Lyon</td>\n",
       "      <td>84653</td>\n",
       "    </tr>\n",
       "    <tr>\n",
       "      <td>2014-03-30</td>\n",
       "      <td>Paris Nord</td>\n",
       "      <td>80988</td>\n",
       "    </tr>\n",
       "    <tr>\n",
       "      <td>2012-09-13</td>\n",
       "      <td>Haussmann Saint-Lazare</td>\n",
       "      <td>78341</td>\n",
       "    </tr>\n",
       "  </tbody>\n",
       "</table>\n",
       "</div>"
      ],
      "text/plain": [
       "                                         Montants\n",
       "Date de comptage Nom gare                        \n",
       "2014-03-27       Paris Nord                161746\n",
       "2014-03-29       Paris Nord                107128\n",
       "2011-01-27       Paris Gare de Lyon         84653\n",
       "2014-03-30       Paris Nord                 80988\n",
       "2012-09-13       Haussmann Saint-Lazare     78341"
      ]
     },
     "execution_count": 21,
     "metadata": {},
     "output_type": "execute_result"
    }
   ],
   "source": [
    "pd.DataFrame(df.groupby(['Date de comptage', 'Nom gare'])['Montants'].sum()) \\\n",
    "    .sort_values('Montants', ascending=False).head()"
   ]
  },
  {
   "cell_type": "code",
   "execution_count": 22,
   "metadata": {
    "scrolled": true
   },
   "outputs": [
    {
     "data": {
      "text/html": [
       "<div>\n",
       "<style scoped>\n",
       "    .dataframe tbody tr th:only-of-type {\n",
       "        vertical-align: middle;\n",
       "    }\n",
       "\n",
       "    .dataframe tbody tr th {\n",
       "        vertical-align: top;\n",
       "    }\n",
       "\n",
       "    .dataframe thead th {\n",
       "        text-align: right;\n",
       "    }\n",
       "</style>\n",
       "<table border=\"1\" class=\"dataframe\">\n",
       "  <thead>\n",
       "    <tr style=\"text-align: right;\">\n",
       "      <th></th>\n",
       "      <th>route_id</th>\n",
       "      <th>service_id</th>\n",
       "      <th>trip_id</th>\n",
       "      <th>trip_headsign</th>\n",
       "      <th>direction_id</th>\n",
       "      <th>block_id</th>\n",
       "    </tr>\n",
       "  </thead>\n",
       "  <tbody>\n",
       "    <tr>\n",
       "      <td>0</td>\n",
       "      <td>DUA800853021</td>\n",
       "      <td>9309</td>\n",
       "      <td>DUASN124687F05002-1_442440</td>\n",
       "      <td>POVA</td>\n",
       "      <td>0</td>\n",
       "      <td>NaN</td>\n",
       "    </tr>\n",
       "    <tr>\n",
       "      <td>1</td>\n",
       "      <td>DUA800853021</td>\n",
       "      <td>9310</td>\n",
       "      <td>DUASN124699F02001-1_442441</td>\n",
       "      <td>POVA</td>\n",
       "      <td>0</td>\n",
       "      <td>NaN</td>\n",
       "    </tr>\n",
       "    <tr>\n",
       "      <td>2</td>\n",
       "      <td>DUA800853021</td>\n",
       "      <td>9310</td>\n",
       "      <td>DUASN124677F02001-1_442442</td>\n",
       "      <td>POVA</td>\n",
       "      <td>0</td>\n",
       "      <td>NaN</td>\n",
       "    </tr>\n",
       "    <tr>\n",
       "      <td>3</td>\n",
       "      <td>DUA800853021</td>\n",
       "      <td>9310</td>\n",
       "      <td>DUASN124679F03001-1_442443</td>\n",
       "      <td>POVA</td>\n",
       "      <td>0</td>\n",
       "      <td>NaN</td>\n",
       "    </tr>\n",
       "    <tr>\n",
       "      <td>4</td>\n",
       "      <td>DUA800853021</td>\n",
       "      <td>9309</td>\n",
       "      <td>DUASN124677F02002-1_442444</td>\n",
       "      <td>POVA</td>\n",
       "      <td>0</td>\n",
       "      <td>NaN</td>\n",
       "    </tr>\n",
       "    <tr>\n",
       "      <td>5</td>\n",
       "      <td>DUA800853021</td>\n",
       "      <td>9311</td>\n",
       "      <td>DUASN124697F02003-1_442445</td>\n",
       "      <td>POTA</td>\n",
       "      <td>0</td>\n",
       "      <td>NaN</td>\n",
       "    </tr>\n",
       "    <tr>\n",
       "      <td>6</td>\n",
       "      <td>DUA800853021</td>\n",
       "      <td>9312</td>\n",
       "      <td>DUASN124691F02001-1_442446</td>\n",
       "      <td>POVA</td>\n",
       "      <td>0</td>\n",
       "      <td>NaN</td>\n",
       "    </tr>\n",
       "    <tr>\n",
       "      <td>7</td>\n",
       "      <td>DUA800853021</td>\n",
       "      <td>9312</td>\n",
       "      <td>DUASN124687F06001-1_442447</td>\n",
       "      <td>POVA</td>\n",
       "      <td>0</td>\n",
       "      <td>NaN</td>\n",
       "    </tr>\n",
       "    <tr>\n",
       "      <td>8</td>\n",
       "      <td>DUA800853021</td>\n",
       "      <td>8514</td>\n",
       "      <td>DUASN124703F03001-1_442448</td>\n",
       "      <td>POTA</td>\n",
       "      <td>0</td>\n",
       "      <td>NaN</td>\n",
       "    </tr>\n",
       "    <tr>\n",
       "      <td>9</td>\n",
       "      <td>DUA800853021</td>\n",
       "      <td>9311</td>\n",
       "      <td>DUASN124693F09002-1_442449</td>\n",
       "      <td>POTA</td>\n",
       "      <td>0</td>\n",
       "      <td>NaN</td>\n",
       "    </tr>\n",
       "  </tbody>\n",
       "</table>\n",
       "</div>"
      ],
      "text/plain": [
       "       route_id  service_id                     trip_id trip_headsign  \\\n",
       "0  DUA800853021        9309  DUASN124687F05002-1_442440          POVA   \n",
       "1  DUA800853021        9310  DUASN124699F02001-1_442441          POVA   \n",
       "2  DUA800853021        9310  DUASN124677F02001-1_442442          POVA   \n",
       "3  DUA800853021        9310  DUASN124679F03001-1_442443          POVA   \n",
       "4  DUA800853021        9309  DUASN124677F02002-1_442444          POVA   \n",
       "5  DUA800853021        9311  DUASN124697F02003-1_442445          POTA   \n",
       "6  DUA800853021        9312  DUASN124691F02001-1_442446          POVA   \n",
       "7  DUA800853021        9312  DUASN124687F06001-1_442447          POVA   \n",
       "8  DUA800853021        8514  DUASN124703F03001-1_442448          POTA   \n",
       "9  DUA800853021        9311  DUASN124693F09002-1_442449          POTA   \n",
       "\n",
       "   direction_id  block_id  \n",
       "0             0       NaN  \n",
       "1             0       NaN  \n",
       "2             0       NaN  \n",
       "3             0       NaN  \n",
       "4             0       NaN  \n",
       "5             0       NaN  \n",
       "6             0       NaN  \n",
       "7             0       NaN  \n",
       "8             0       NaN  \n",
       "9             0       NaN  "
      ]
     },
     "execution_count": 22,
     "metadata": {},
     "output_type": "execute_result"
    }
   ],
   "source": [
    "tripsDF = pd.read_csv(trips_path)\n",
    "tripsDF.head(10)"
   ]
  },
  {
   "cell_type": "code",
   "execution_count": 23,
   "metadata": {},
   "outputs": [
    {
     "data": {
      "text/html": [
       "<div>\n",
       "<style scoped>\n",
       "    .dataframe tbody tr th:only-of-type {\n",
       "        vertical-align: middle;\n",
       "    }\n",
       "\n",
       "    .dataframe tbody tr th {\n",
       "        vertical-align: top;\n",
       "    }\n",
       "\n",
       "    .dataframe thead th {\n",
       "        text-align: right;\n",
       "    }\n",
       "</style>\n",
       "<table border=\"1\" class=\"dataframe\">\n",
       "  <thead>\n",
       "    <tr style=\"text-align: right;\">\n",
       "      <th></th>\n",
       "      <th>route_id</th>\n",
       "      <th>agency_id</th>\n",
       "      <th>route_short_name</th>\n",
       "      <th>route_long_name</th>\n",
       "      <th>route_desc</th>\n",
       "      <th>route_type</th>\n",
       "      <th>route_url</th>\n",
       "      <th>route_color</th>\n",
       "      <th>route_text_color</th>\n",
       "    </tr>\n",
       "  </thead>\n",
       "  <tbody>\n",
       "    <tr>\n",
       "      <td>0</td>\n",
       "      <td>DUA800853021</td>\n",
       "      <td>DUA853</td>\n",
       "      <td>H</td>\n",
       "      <td>Gare du Nord - Pontoise / Luzarches / Beauvais...</td>\n",
       "      <td>NaN</td>\n",
       "      <td>2</td>\n",
       "      <td>NaN</td>\n",
       "      <td>7B4339</td>\n",
       "      <td>FFFFFF</td>\n",
       "    </tr>\n",
       "    <tr>\n",
       "      <td>1</td>\n",
       "      <td>DUA800854541</td>\n",
       "      <td>DUA854</td>\n",
       "      <td>J</td>\n",
       "      <td>Gare St-Lazare - Ermont Eaubonne / Vernon / Gi...</td>\n",
       "      <td>NaN</td>\n",
       "      <td>3</td>\n",
       "      <td>NaN</td>\n",
       "      <td>CDCD00</td>\n",
       "      <td>FFFFFF</td>\n",
       "    </tr>\n",
       "    <tr>\n",
       "      <td>2</td>\n",
       "      <td>DUA800853522</td>\n",
       "      <td>DUA853</td>\n",
       "      <td>K</td>\n",
       "      <td>Gare du Nord - Crépy en Valois</td>\n",
       "      <td>NaN</td>\n",
       "      <td>3</td>\n",
       "      <td>NaN</td>\n",
       "      <td>C7B300</td>\n",
       "      <td>FFFFFF</td>\n",
       "    </tr>\n",
       "    <tr>\n",
       "      <td>3</td>\n",
       "      <td>DUA800854542</td>\n",
       "      <td>DUA854</td>\n",
       "      <td>L</td>\n",
       "      <td>Gare St-Lazare - Versailles R. Droite / Cergy ...</td>\n",
       "      <td>NaN</td>\n",
       "      <td>3</td>\n",
       "      <td>NaN</td>\n",
       "      <td>7584BC</td>\n",
       "      <td>FFFFFF</td>\n",
       "    </tr>\n",
       "    <tr>\n",
       "      <td>4</td>\n",
       "      <td>DUA800853521</td>\n",
       "      <td>DUA853</td>\n",
       "      <td>H</td>\n",
       "      <td>Gare du Nord - Pontoise / Luzarches / Beauvais...</td>\n",
       "      <td>NaN</td>\n",
       "      <td>3</td>\n",
       "      <td>NaN</td>\n",
       "      <td>7B4339</td>\n",
       "      <td>FFFFFF</td>\n",
       "    </tr>\n",
       "    <tr>\n",
       "      <td>5</td>\n",
       "      <td>DUA800804581</td>\n",
       "      <td>DUA804</td>\n",
       "      <td>D</td>\n",
       "      <td>Creil - Corbeil Essonnes / Melun / Malesherbes</td>\n",
       "      <td>NaN</td>\n",
       "      <td>3</td>\n",
       "      <td>NaN</td>\n",
       "      <td>5E9620</td>\n",
       "      <td>FFFFFF</td>\n",
       "    </tr>\n",
       "    <tr>\n",
       "      <td>6</td>\n",
       "      <td>DUA800805591</td>\n",
       "      <td>DUA805</td>\n",
       "      <td>E</td>\n",
       "      <td>Haussmann Saint-Lazare - Chelles Gournay / Tou...</td>\n",
       "      <td>NaN</td>\n",
       "      <td>3</td>\n",
       "      <td>NaN</td>\n",
       "      <td>BD76A1</td>\n",
       "      <td>FFFFFF</td>\n",
       "    </tr>\n",
       "    <tr>\n",
       "      <td>7</td>\n",
       "      <td>DUA800855548</td>\n",
       "      <td>DUA855</td>\n",
       "      <td>U</td>\n",
       "      <td>La Défense Grande Arche - La Verrière</td>\n",
       "      <td>NaN</td>\n",
       "      <td>3</td>\n",
       "      <td>NaN</td>\n",
       "      <td>D60058</td>\n",
       "      <td>FFFFFF</td>\n",
       "    </tr>\n",
       "    <tr>\n",
       "      <td>8</td>\n",
       "      <td>DUA800850509</td>\n",
       "      <td>DUA850</td>\n",
       "      <td>T4</td>\n",
       "      <td>Aulnay sous Bois - Bondy</td>\n",
       "      <td>NaN</td>\n",
       "      <td>3</td>\n",
       "      <td>NaN</td>\n",
       "      <td>FFBF00</td>\n",
       "      <td>FFFFFF</td>\n",
       "    </tr>\n",
       "    <tr>\n",
       "      <td>9</td>\n",
       "      <td>DUA800850011</td>\n",
       "      <td>DUA850</td>\n",
       "      <td>P</td>\n",
       "      <td>Gare de l'Est - La Ferté Milon / Château-Thier...</td>\n",
       "      <td>NaN</td>\n",
       "      <td>2</td>\n",
       "      <td>NaN</td>\n",
       "      <td>F0B600</td>\n",
       "      <td>FFFFFF</td>\n",
       "    </tr>\n",
       "  </tbody>\n",
       "</table>\n",
       "</div>"
      ],
      "text/plain": [
       "       route_id agency_id route_short_name  \\\n",
       "0  DUA800853021    DUA853                H   \n",
       "1  DUA800854541    DUA854                J   \n",
       "2  DUA800853522    DUA853                K   \n",
       "3  DUA800854542    DUA854                L   \n",
       "4  DUA800853521    DUA853                H   \n",
       "5  DUA800804581    DUA804                D   \n",
       "6  DUA800805591    DUA805                E   \n",
       "7  DUA800855548    DUA855                U   \n",
       "8  DUA800850509    DUA850               T4   \n",
       "9  DUA800850011    DUA850                P   \n",
       "\n",
       "                                     route_long_name  route_desc  route_type  \\\n",
       "0  Gare du Nord - Pontoise / Luzarches / Beauvais...         NaN           2   \n",
       "1  Gare St-Lazare - Ermont Eaubonne / Vernon / Gi...         NaN           3   \n",
       "2                     Gare du Nord - Crépy en Valois         NaN           3   \n",
       "3  Gare St-Lazare - Versailles R. Droite / Cergy ...         NaN           3   \n",
       "4  Gare du Nord - Pontoise / Luzarches / Beauvais...         NaN           3   \n",
       "5     Creil - Corbeil Essonnes / Melun / Malesherbes         NaN           3   \n",
       "6  Haussmann Saint-Lazare - Chelles Gournay / Tou...         NaN           3   \n",
       "7              La Défense Grande Arche - La Verrière         NaN           3   \n",
       "8                           Aulnay sous Bois - Bondy         NaN           3   \n",
       "9  Gare de l'Est - La Ferté Milon / Château-Thier...         NaN           2   \n",
       "\n",
       "   route_url route_color route_text_color  \n",
       "0        NaN      7B4339           FFFFFF  \n",
       "1        NaN      CDCD00           FFFFFF  \n",
       "2        NaN      C7B300           FFFFFF  \n",
       "3        NaN      7584BC           FFFFFF  \n",
       "4        NaN      7B4339           FFFFFF  \n",
       "5        NaN      5E9620           FFFFFF  \n",
       "6        NaN      BD76A1           FFFFFF  \n",
       "7        NaN      D60058           FFFFFF  \n",
       "8        NaN      FFBF00           FFFFFF  \n",
       "9        NaN      F0B600           FFFFFF  "
      ]
     },
     "execution_count": 23,
     "metadata": {},
     "output_type": "execute_result"
    }
   ],
   "source": [
    "routesDF = pd.read_csv(routes_path)\n",
    "routesDF.head(10)"
   ]
  },
  {
   "cell_type": "code",
   "execution_count": 24,
   "metadata": {},
   "outputs": [
    {
     "data": {
      "text/html": [
       "<div>\n",
       "<style scoped>\n",
       "    .dataframe tbody tr th:only-of-type {\n",
       "        vertical-align: middle;\n",
       "    }\n",
       "\n",
       "    .dataframe tbody tr th {\n",
       "        vertical-align: top;\n",
       "    }\n",
       "\n",
       "    .dataframe thead th {\n",
       "        text-align: right;\n",
       "    }\n",
       "</style>\n",
       "<table border=\"1\" class=\"dataframe\">\n",
       "  <thead>\n",
       "    <tr style=\"text-align: right;\">\n",
       "      <th></th>\n",
       "      <th>service_id</th>\n",
       "    </tr>\n",
       "    <tr>\n",
       "      <th>route_id</th>\n",
       "      <th></th>\n",
       "    </tr>\n",
       "  </thead>\n",
       "  <tbody>\n",
       "    <tr>\n",
       "      <td>DUA810801041</td>\n",
       "      <td>3097</td>\n",
       "    </tr>\n",
       "    <tr>\n",
       "      <td>DUA800803071</td>\n",
       "      <td>2783</td>\n",
       "    </tr>\n",
       "    <tr>\n",
       "      <td>DUA810802061</td>\n",
       "      <td>2434</td>\n",
       "    </tr>\n",
       "    <tr>\n",
       "      <td>DUA800854042</td>\n",
       "      <td>2101</td>\n",
       "    </tr>\n",
       "    <tr>\n",
       "      <td>DUA800853021</td>\n",
       "      <td>1501</td>\n",
       "    </tr>\n",
       "  </tbody>\n",
       "</table>\n",
       "</div>"
      ],
      "text/plain": [
       "              service_id\n",
       "route_id                \n",
       "DUA810801041        3097\n",
       "DUA800803071        2783\n",
       "DUA810802061        2434\n",
       "DUA800854042        2101\n",
       "DUA800853021        1501"
      ]
     },
     "execution_count": 24,
     "metadata": {},
     "output_type": "execute_result"
    }
   ],
   "source": [
    "top_routes = pd.DataFrame(tripsDF.groupby(['route_id'])['service_id'].count()) \\\n",
    "    .sort_values('service_id', ascending=False)\n",
    "top_routes.head()"
   ]
  },
  {
   "cell_type": "code",
   "execution_count": 25,
   "metadata": {},
   "outputs": [
    {
     "data": {
      "text/html": [
       "<div>\n",
       "<style scoped>\n",
       "    .dataframe tbody tr th:only-of-type {\n",
       "        vertical-align: middle;\n",
       "    }\n",
       "\n",
       "    .dataframe tbody tr th {\n",
       "        vertical-align: top;\n",
       "    }\n",
       "\n",
       "    .dataframe thead th {\n",
       "        text-align: right;\n",
       "    }\n",
       "</style>\n",
       "<table border=\"1\" class=\"dataframe\">\n",
       "  <thead>\n",
       "    <tr style=\"text-align: right;\">\n",
       "      <th></th>\n",
       "      <th>route_id</th>\n",
       "      <th>service_id</th>\n",
       "      <th>trip_id</th>\n",
       "      <th>trip_headsign</th>\n",
       "      <th>direction_id</th>\n",
       "      <th>block_id</th>\n",
       "      <th>agency_id</th>\n",
       "      <th>route_short_name</th>\n",
       "      <th>route_long_name</th>\n",
       "      <th>route_desc</th>\n",
       "      <th>route_type</th>\n",
       "      <th>route_url</th>\n",
       "      <th>route_color</th>\n",
       "      <th>route_text_color</th>\n",
       "    </tr>\n",
       "  </thead>\n",
       "  <tbody>\n",
       "    <tr>\n",
       "      <td>0</td>\n",
       "      <td>DUA800853021</td>\n",
       "      <td>9309</td>\n",
       "      <td>DUASN124687F05002-1_442440</td>\n",
       "      <td>POVA</td>\n",
       "      <td>0</td>\n",
       "      <td>NaN</td>\n",
       "      <td>DUA853</td>\n",
       "      <td>H</td>\n",
       "      <td>Gare du Nord - Pontoise / Luzarches / Beauvais...</td>\n",
       "      <td>NaN</td>\n",
       "      <td>2</td>\n",
       "      <td>NaN</td>\n",
       "      <td>7B4339</td>\n",
       "      <td>FFFFFF</td>\n",
       "    </tr>\n",
       "    <tr>\n",
       "      <td>1</td>\n",
       "      <td>DUA800853021</td>\n",
       "      <td>9310</td>\n",
       "      <td>DUASN124699F02001-1_442441</td>\n",
       "      <td>POVA</td>\n",
       "      <td>0</td>\n",
       "      <td>NaN</td>\n",
       "      <td>DUA853</td>\n",
       "      <td>H</td>\n",
       "      <td>Gare du Nord - Pontoise / Luzarches / Beauvais...</td>\n",
       "      <td>NaN</td>\n",
       "      <td>2</td>\n",
       "      <td>NaN</td>\n",
       "      <td>7B4339</td>\n",
       "      <td>FFFFFF</td>\n",
       "    </tr>\n",
       "    <tr>\n",
       "      <td>2</td>\n",
       "      <td>DUA800853021</td>\n",
       "      <td>9310</td>\n",
       "      <td>DUASN124677F02001-1_442442</td>\n",
       "      <td>POVA</td>\n",
       "      <td>0</td>\n",
       "      <td>NaN</td>\n",
       "      <td>DUA853</td>\n",
       "      <td>H</td>\n",
       "      <td>Gare du Nord - Pontoise / Luzarches / Beauvais...</td>\n",
       "      <td>NaN</td>\n",
       "      <td>2</td>\n",
       "      <td>NaN</td>\n",
       "      <td>7B4339</td>\n",
       "      <td>FFFFFF</td>\n",
       "    </tr>\n",
       "    <tr>\n",
       "      <td>3</td>\n",
       "      <td>DUA800853021</td>\n",
       "      <td>9310</td>\n",
       "      <td>DUASN124679F03001-1_442443</td>\n",
       "      <td>POVA</td>\n",
       "      <td>0</td>\n",
       "      <td>NaN</td>\n",
       "      <td>DUA853</td>\n",
       "      <td>H</td>\n",
       "      <td>Gare du Nord - Pontoise / Luzarches / Beauvais...</td>\n",
       "      <td>NaN</td>\n",
       "      <td>2</td>\n",
       "      <td>NaN</td>\n",
       "      <td>7B4339</td>\n",
       "      <td>FFFFFF</td>\n",
       "    </tr>\n",
       "    <tr>\n",
       "      <td>4</td>\n",
       "      <td>DUA800853021</td>\n",
       "      <td>9309</td>\n",
       "      <td>DUASN124677F02002-1_442444</td>\n",
       "      <td>POVA</td>\n",
       "      <td>0</td>\n",
       "      <td>NaN</td>\n",
       "      <td>DUA853</td>\n",
       "      <td>H</td>\n",
       "      <td>Gare du Nord - Pontoise / Luzarches / Beauvais...</td>\n",
       "      <td>NaN</td>\n",
       "      <td>2</td>\n",
       "      <td>NaN</td>\n",
       "      <td>7B4339</td>\n",
       "      <td>FFFFFF</td>\n",
       "    </tr>\n",
       "    <tr>\n",
       "      <td>...</td>\n",
       "      <td>...</td>\n",
       "      <td>...</td>\n",
       "      <td>...</td>\n",
       "      <td>...</td>\n",
       "      <td>...</td>\n",
       "      <td>...</td>\n",
       "      <td>...</td>\n",
       "      <td>...</td>\n",
       "      <td>...</td>\n",
       "      <td>...</td>\n",
       "      <td>...</td>\n",
       "      <td>...</td>\n",
       "      <td>...</td>\n",
       "      <td>...</td>\n",
       "    </tr>\n",
       "    <tr>\n",
       "      <td>21144</td>\n",
       "      <td>DUA810802561</td>\n",
       "      <td>9094</td>\n",
       "      <td>DUASN498105R01003-1_28021</td>\n",
       "      <td>98105</td>\n",
       "      <td>1</td>\n",
       "      <td>NaN</td>\n",
       "      <td>DUA802</td>\n",
       "      <td>Aéroport C</td>\n",
       "      <td>Aéroport Charles de Gaulle 1 (Terminal 1 - Ter...</td>\n",
       "      <td>NaN</td>\n",
       "      <td>3</td>\n",
       "      <td>NaN</td>\n",
       "      <td>000000</td>\n",
       "      <td>FFFFFF</td>\n",
       "    </tr>\n",
       "    <tr>\n",
       "      <td>21145</td>\n",
       "      <td>DUA810802561</td>\n",
       "      <td>10410</td>\n",
       "      <td>DUASN498103R01004-1_28022</td>\n",
       "      <td>98103</td>\n",
       "      <td>1</td>\n",
       "      <td>NaN</td>\n",
       "      <td>DUA802</td>\n",
       "      <td>Aéroport C</td>\n",
       "      <td>Aéroport Charles de Gaulle 1 (Terminal 1 - Ter...</td>\n",
       "      <td>NaN</td>\n",
       "      <td>3</td>\n",
       "      <td>NaN</td>\n",
       "      <td>000000</td>\n",
       "      <td>FFFFFF</td>\n",
       "    </tr>\n",
       "    <tr>\n",
       "      <td>21146</td>\n",
       "      <td>DUA810802561</td>\n",
       "      <td>9094</td>\n",
       "      <td>DUASN498103R01003-1_28023</td>\n",
       "      <td>98103</td>\n",
       "      <td>1</td>\n",
       "      <td>NaN</td>\n",
       "      <td>DUA802</td>\n",
       "      <td>Aéroport C</td>\n",
       "      <td>Aéroport Charles de Gaulle 1 (Terminal 1 - Ter...</td>\n",
       "      <td>NaN</td>\n",
       "      <td>3</td>\n",
       "      <td>NaN</td>\n",
       "      <td>000000</td>\n",
       "      <td>FFFFFF</td>\n",
       "    </tr>\n",
       "    <tr>\n",
       "      <td>21147</td>\n",
       "      <td>DUA810802561</td>\n",
       "      <td>10410</td>\n",
       "      <td>DUASN498101R01004-1_28024</td>\n",
       "      <td>98101</td>\n",
       "      <td>1</td>\n",
       "      <td>NaN</td>\n",
       "      <td>DUA802</td>\n",
       "      <td>Aéroport C</td>\n",
       "      <td>Aéroport Charles de Gaulle 1 (Terminal 1 - Ter...</td>\n",
       "      <td>NaN</td>\n",
       "      <td>3</td>\n",
       "      <td>NaN</td>\n",
       "      <td>000000</td>\n",
       "      <td>FFFFFF</td>\n",
       "    </tr>\n",
       "    <tr>\n",
       "      <td>21148</td>\n",
       "      <td>DUA810802561</td>\n",
       "      <td>9094</td>\n",
       "      <td>DUASN498101R01003-1_28025</td>\n",
       "      <td>98101</td>\n",
       "      <td>1</td>\n",
       "      <td>NaN</td>\n",
       "      <td>DUA802</td>\n",
       "      <td>Aéroport C</td>\n",
       "      <td>Aéroport Charles de Gaulle 1 (Terminal 1 - Ter...</td>\n",
       "      <td>NaN</td>\n",
       "      <td>3</td>\n",
       "      <td>NaN</td>\n",
       "      <td>000000</td>\n",
       "      <td>FFFFFF</td>\n",
       "    </tr>\n",
       "  </tbody>\n",
       "</table>\n",
       "<p>21149 rows × 14 columns</p>\n",
       "</div>"
      ],
      "text/plain": [
       "           route_id  service_id                     trip_id trip_headsign  \\\n",
       "0      DUA800853021        9309  DUASN124687F05002-1_442440          POVA   \n",
       "1      DUA800853021        9310  DUASN124699F02001-1_442441          POVA   \n",
       "2      DUA800853021        9310  DUASN124677F02001-1_442442          POVA   \n",
       "3      DUA800853021        9310  DUASN124679F03001-1_442443          POVA   \n",
       "4      DUA800853021        9309  DUASN124677F02002-1_442444          POVA   \n",
       "...             ...         ...                         ...           ...   \n",
       "21144  DUA810802561        9094   DUASN498105R01003-1_28021         98105   \n",
       "21145  DUA810802561       10410   DUASN498103R01004-1_28022         98103   \n",
       "21146  DUA810802561        9094   DUASN498103R01003-1_28023         98103   \n",
       "21147  DUA810802561       10410   DUASN498101R01004-1_28024         98101   \n",
       "21148  DUA810802561        9094   DUASN498101R01003-1_28025         98101   \n",
       "\n",
       "       direction_id  block_id agency_id route_short_name  \\\n",
       "0                 0       NaN    DUA853                H   \n",
       "1                 0       NaN    DUA853                H   \n",
       "2                 0       NaN    DUA853                H   \n",
       "3                 0       NaN    DUA853                H   \n",
       "4                 0       NaN    DUA853                H   \n",
       "...             ...       ...       ...              ...   \n",
       "21144             1       NaN    DUA802       Aéroport C   \n",
       "21145             1       NaN    DUA802       Aéroport C   \n",
       "21146             1       NaN    DUA802       Aéroport C   \n",
       "21147             1       NaN    DUA802       Aéroport C   \n",
       "21148             1       NaN    DUA802       Aéroport C   \n",
       "\n",
       "                                         route_long_name  route_desc  \\\n",
       "0      Gare du Nord - Pontoise / Luzarches / Beauvais...         NaN   \n",
       "1      Gare du Nord - Pontoise / Luzarches / Beauvais...         NaN   \n",
       "2      Gare du Nord - Pontoise / Luzarches / Beauvais...         NaN   \n",
       "3      Gare du Nord - Pontoise / Luzarches / Beauvais...         NaN   \n",
       "4      Gare du Nord - Pontoise / Luzarches / Beauvais...         NaN   \n",
       "...                                                  ...         ...   \n",
       "21144  Aéroport Charles de Gaulle 1 (Terminal 1 - Ter...         NaN   \n",
       "21145  Aéroport Charles de Gaulle 1 (Terminal 1 - Ter...         NaN   \n",
       "21146  Aéroport Charles de Gaulle 1 (Terminal 1 - Ter...         NaN   \n",
       "21147  Aéroport Charles de Gaulle 1 (Terminal 1 - Ter...         NaN   \n",
       "21148  Aéroport Charles de Gaulle 1 (Terminal 1 - Ter...         NaN   \n",
       "\n",
       "       route_type  route_url route_color route_text_color  \n",
       "0               2        NaN      7B4339           FFFFFF  \n",
       "1               2        NaN      7B4339           FFFFFF  \n",
       "2               2        NaN      7B4339           FFFFFF  \n",
       "3               2        NaN      7B4339           FFFFFF  \n",
       "4               2        NaN      7B4339           FFFFFF  \n",
       "...           ...        ...         ...              ...  \n",
       "21144           3        NaN      000000           FFFFFF  \n",
       "21145           3        NaN      000000           FFFFFF  \n",
       "21146           3        NaN      000000           FFFFFF  \n",
       "21147           3        NaN      000000           FFFFFF  \n",
       "21148           3        NaN      000000           FFFFFF  \n",
       "\n",
       "[21149 rows x 14 columns]"
      ]
     },
     "execution_count": 25,
     "metadata": {},
     "output_type": "execute_result"
    }
   ],
   "source": [
    "pd.merge(tripsDF, routesDF, on='route_id')"
   ]
  },
  {
   "cell_type": "code",
   "execution_count": 26,
   "metadata": {},
   "outputs": [
    {
     "data": {
      "text/html": [
       "<div>\n",
       "<style scoped>\n",
       "    .dataframe tbody tr th:only-of-type {\n",
       "        vertical-align: middle;\n",
       "    }\n",
       "\n",
       "    .dataframe tbody tr th {\n",
       "        vertical-align: top;\n",
       "    }\n",
       "\n",
       "    .dataframe thead th {\n",
       "        text-align: right;\n",
       "    }\n",
       "</style>\n",
       "<table border=\"1\" class=\"dataframe\">\n",
       "  <thead>\n",
       "    <tr style=\"text-align: right;\">\n",
       "      <th></th>\n",
       "      <th>service_id</th>\n",
       "    </tr>\n",
       "    <tr>\n",
       "      <th>route_long_name</th>\n",
       "      <th></th>\n",
       "    </tr>\n",
       "  </thead>\n",
       "  <tbody>\n",
       "    <tr>\n",
       "      <td>Pontoise / Versailles R. Gauche / St-Quentin en Y. - Versailles Ch. / Dourdan la F. / St-Martin d'E</td>\n",
       "      <td>3261</td>\n",
       "    </tr>\n",
       "    <tr>\n",
       "      <td>Cergy Le Haut / Poissy / St-Germain-en-Laye - Marne-la-Vallée Chessy Disneyland / Boissy-St-Léger</td>\n",
       "      <td>3097</td>\n",
       "    </tr>\n",
       "    <tr>\n",
       "      <td>Aéroport CDG 2 / Mitry Claye - Robinson / St-Rémy lès Chevreuse</td>\n",
       "      <td>2434</td>\n",
       "    </tr>\n",
       "    <tr>\n",
       "      <td>Gare St-Lazare - Ermont Eaubonne / Vernon / Gisors</td>\n",
       "      <td>2380</td>\n",
       "    </tr>\n",
       "    <tr>\n",
       "      <td>Gare du Nord - Pontoise / Luzarches / Beauvais / Creil</td>\n",
       "      <td>2264</td>\n",
       "    </tr>\n",
       "    <tr>\n",
       "      <td>Gare St-Lazare - Versailles R. Droite / Cergy Le Haut / Noisy le-Roi / St-Germain-en-Laye GC</td>\n",
       "      <td>2181</td>\n",
       "    </tr>\n",
       "    <tr>\n",
       "      <td>Creil - Corbeil Essonnes / Melun / Malesherbes</td>\n",
       "      <td>1021</td>\n",
       "    </tr>\n",
       "    <tr>\n",
       "      <td>Haussmann Saint-Lazare - Chelles Gournay / Tournan</td>\n",
       "      <td>971</td>\n",
       "    </tr>\n",
       "    <tr>\n",
       "      <td>T11</td>\n",
       "      <td>727</td>\n",
       "    </tr>\n",
       "    <tr>\n",
       "      <td>Gare de l'Est - La Ferté Milon / Château-Thierry / Crécy la Chapelle / La Ferté G. Centre / Provins</td>\n",
       "      <td>655</td>\n",
       "    </tr>\n",
       "    <tr>\n",
       "      <td>Aulnay sous Bois - Bondy</td>\n",
       "      <td>651</td>\n",
       "    </tr>\n",
       "    <tr>\n",
       "      <td>Gare Montparnasse / Gare Montparnasse Vaugirard - Chartres / Dreux / Evreux</td>\n",
       "      <td>568</td>\n",
       "    </tr>\n",
       "    <tr>\n",
       "      <td>Gare de Lyon / Gare de Bercy - Montereau / Montargis / Laroche Migennes</td>\n",
       "      <td>507</td>\n",
       "    </tr>\n",
       "    <tr>\n",
       "      <td>La Défense Grande Arche - La Verrière via Chaville Rive Droite</td>\n",
       "      <td>207</td>\n",
       "    </tr>\n",
       "    <tr>\n",
       "      <td>Gare du Nord - Crépy en Valois</td>\n",
       "      <td>158</td>\n",
       "    </tr>\n",
       "    <tr>\n",
       "      <td>Aéroport Charles de Gaulle 1 (Terminal 1 - Terminal 3) - Aulnay sous Bois (Bus)</td>\n",
       "      <td>45</td>\n",
       "    </tr>\n",
       "    <tr>\n",
       "      <td>Sartrouville - Cergy le Haut (Bus de substitution)</td>\n",
       "      <td>18</td>\n",
       "    </tr>\n",
       "    <tr>\n",
       "      <td>La Défense Grande Arche - La Verrière</td>\n",
       "      <td>4</td>\n",
       "    </tr>\n",
       "  </tbody>\n",
       "</table>\n",
       "</div>"
      ],
      "text/plain": [
       "                                                    service_id\n",
       "route_long_name                                               \n",
       "Pontoise / Versailles R. Gauche / St-Quentin en...        3261\n",
       "Cergy Le Haut / Poissy / St-Germain-en-Laye - M...        3097\n",
       "Aéroport CDG 2 / Mitry Claye - Robinson / St-Ré...        2434\n",
       "Gare St-Lazare - Ermont Eaubonne / Vernon / Gisors        2380\n",
       "Gare du Nord - Pontoise / Luzarches / Beauvais ...        2264\n",
       "Gare St-Lazare - Versailles R. Droite / Cergy L...        2181\n",
       "Creil - Corbeil Essonnes / Melun / Malesherbes            1021\n",
       "Haussmann Saint-Lazare - Chelles Gournay / Tournan         971\n",
       "T11                                                        727\n",
       "Gare de l'Est - La Ferté Milon / Château-Thierr...         655\n",
       "Aulnay sous Bois - Bondy                                   651\n",
       "Gare Montparnasse / Gare Montparnasse Vaugirard...         568\n",
       "Gare de Lyon / Gare de Bercy - Montereau / Mont...         507\n",
       "La Défense Grande Arche - La Verrière via Chavi...         207\n",
       "Gare du Nord - Crépy en Valois                             158\n",
       "Aéroport Charles de Gaulle 1 (Terminal 1 - Term...          45\n",
       "Sartrouville - Cergy le Haut (Bus de substitution)          18\n",
       "La Défense Grande Arche - La Verrière                        4"
      ]
     },
     "execution_count": 26,
     "metadata": {},
     "output_type": "execute_result"
    }
   ],
   "source": [
    "pd.DataFrame(pd.merge(tripsDF, routesDF, on='route_id').groupby(('route_long_name'))['service_id'].count())\\\n",
    " .sort_values('service_id', ascending=False)"
   ]
  },
  {
   "cell_type": "markdown",
   "metadata": {},
   "source": [
    "## Graphiques avec Matplotlib"
   ]
  },
  {
   "cell_type": "code",
   "execution_count": 27,
   "metadata": {},
   "outputs": [],
   "source": [
    "import matplotlib\n",
    "import seaborn\n",
    "\n",
    "matplotlib.rcParams['figure.figsize'] = 5, 4\n",
    "seaborn.set_style('whitegrid')"
   ]
  },
  {
   "cell_type": "code",
   "execution_count": 28,
   "metadata": {},
   "outputs": [
    {
     "data": {
      "text/plain": [
       "<matplotlib.axes._subplots.AxesSubplot at 0x1a1e3a3f10>"
      ]
     },
     "execution_count": 28,
     "metadata": {},
     "output_type": "execute_result"
    },
    {
     "data": {
      "image/png": "[encoded data removed]",
      "text/plain": [
       "<Figure size 432x288 with 1 Axes>"
      ]
     },
     "metadata": {
      "needs_background": "light"
     },
     "output_type": "display_data"
    }
   ],
   "source": [
    "df['Montants'].plot()"
   ]
  },
  {
   "cell_type": "code",
   "execution_count": 29,
   "metadata": {},
   "outputs": [
    {
     "data": {
      "text/plain": [
       "<matplotlib.axes._subplots.AxesSubplot at 0x1a1e743b10>"
      ]
     },
     "execution_count": 29,
     "metadata": {},
     "output_type": "execute_result"
    },
    {
     "data": {
      "image/png": "[encoded data removed]",
      "text/plain": [
       "<Figure size 432x288 with 1 Axes>"
      ]
     },
     "metadata": {
      "needs_background": "light"
     },
     "output_type": "display_data"
    }
   ],
   "source": [
    "pd.DataFrame(df.groupby('Nom gare')['Montants'].sum()) \\\n",
    "    .sort_values('Montants', ascending=False).plot()"
   ]
  },
  {
   "cell_type": "code",
   "execution_count": null,
   "metadata": {},
   "outputs": [],
   "source": []
  }
 ],
 "metadata": {
  "kernelspec": {
   "display_name": "Python 3",
   "language": "python",
   "name": "python3"
  },
  "language_info": {
   "codemirror_mode": {
    "name": "ipython",
    "version": 3
   },
   "file_extension": ".py",
   "mimetype": "text/x-python",
   "name": "python",
   "nbconvert_exporter": "python",
   "pygments_lexer": "ipython3",
   "version": "3.7.4"
  }
 },
 "nbformat": 4,
 "nbformat_minor": 2
}

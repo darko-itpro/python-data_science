{
 "cells": [
  {
   "cell_type": "markdown",
   "id": "e04ac222-bb5e-4c84-8d48-5cba5d897c04",
   "metadata": {},
   "source": [
    "# Présentation de Pandas\n",
    "\n",
    "Cette présentation est destinée à donner un aperçu de Pandas utilisé pour extraire des données.\n",
    "\n",
    "Vous pouvez consuler [la documentation de Pandas](https://pandas.pydata.org/pandas-docs/stable/) en ligne.\n",
    "\n",
    "Nous commençons par construire la référence vers le fichier à utiliser et charger Pandas."
   ]
  },
  {
   "cell_type": "code",
   "execution_count": null,
   "id": "310a1648-75a6-4f60-9357-ca65fd3463d7",
   "metadata": {},
   "outputs": [],
   "source": [
    "from pathlib import Path\n",
    "file_path = Path('__file__').resolve().parent.parent / 'assets' / 'comptage-voyageurs-trains-transilien-old.csv'"
   ]
  },
  {
   "cell_type": "code",
   "execution_count": null,
   "id": "5355371e-48a8-4276-b5e6-3f6785fc1362",
   "metadata": {},
   "outputs": [],
   "source": [
    "import pandas as pd"
   ]
  },
  {
   "cell_type": "markdown",
   "id": "c3355acd-7ec1-4791-97f3-740fce27f635",
   "metadata": {},
   "source": [
    "## Données à partir d'un fichier\n",
    "Pandas propose une méthode `.read_csv()` pour lire les données dans un csv. Pandas propose également d'autres méthodes pour d'autres sources tel que `.read_json()` ou `.read_sql_table()`."
   ]
  },
  {
   "cell_type": "code",
   "execution_count": null,
   "id": "2b0c1996-1bdf-4ba3-a720-f9b088836d5a",
   "metadata": {},
   "outputs": [],
   "source": [
    "train_data = pd.read_csv(file_path, sep=\";\")"
   ]
  },
  {
   "cell_type": "markdown",
   "id": "3edbca9f-5d35-4be2-a9c1-acf842970f0b",
   "metadata": {},
   "source": [
    "## Structure d'une données Pandas\n",
    "Nous pouvons vérifier que le type de donnée récupéré par Pandas."
   ]
  },
  {
   "cell_type": "code",
   "execution_count": null,
   "id": "15bb9fe1-2282-4f1f-a394-d8f98faf8a51",
   "metadata": {},
   "outputs": [],
   "source": [
    "type(train_data)"
   ]
  },
  {
   "cell_type": "markdown",
   "id": "bb9e2077-380f-4527-9bc5-f14245950895",
   "metadata": {},
   "source": [
    "Il s'agit donc d'un `DataFrame`. C'est l'un des deux types de données de Pandas.\n",
    "\n",
    "Nous allons pouvoir consulter son contenu. Dans un notebook, le DataFrame est affiché sous forme de tableau. Mais dans la pratique, nous utiliserons les méthodes `.head()` ou `.tail()` qui nous retournent les 5 premières données. Ceci facilite une lecture estinée à avoir un aperçu des données."
   ]
  },
  {
   "cell_type": "code",
   "execution_count": null,
   "id": "0390bed7-6802-416f-a5c5-8bf82c4472fc",
   "metadata": {},
   "outputs": [],
   "source": [
    "train_data.head()"
   ]
  },
  {
   "cell_type": "markdown",
   "id": "349fa2bf-4952-4c3d-af2e-b6a0cb62763e",
   "metadata": {},
   "source": [
    "Nous avons vu qu'un `DataFrame` est une donnée structurée qui possède des **colonnes**, des **indices** et des **données**. Nous allons les consulter."
   ]
  },
  {
   "cell_type": "code",
   "execution_count": null,
   "id": "0746782c-8eca-4202-bc7f-6ce27ddb8c64",
   "metadata": {},
   "outputs": [],
   "source": [
    "train_data.columns"
   ]
  },
  {
   "cell_type": "code",
   "execution_count": null,
   "id": "76bb3af9-3451-4eb6-ae74-b45f5fc0006e",
   "metadata": {},
   "outputs": [],
   "source": [
    "train_data.index"
   ]
  },
  {
   "cell_type": "code",
   "execution_count": null,
   "id": "a0b772a8-91b2-4a64-9811-189d7e25d842",
   "metadata": {},
   "outputs": [],
   "source": [
    "train_data.values"
   ]
  },
  {
   "cell_type": "markdown",
   "id": "c56c2712-4d41-452b-a3c7-153af23575ed",
   "metadata": {},
   "source": [
    "Et enfin les dimensions d'un DataFrame qui sont des **axes**"
   ]
  },
  {
   "cell_type": "code",
   "execution_count": null,
   "id": "b21412f3-82dc-4c9c-bc50-bc12594a772b",
   "metadata": {},
   "outputs": [],
   "source": [
    "train_data.axes"
   ]
  },
  {
   "cell_type": "markdown",
   "id": "367099e2-95f7-431a-9d97-70a3f91aa866",
   "metadata": {},
   "source": [
    "## Explorons nos données\n",
    "\n",
    "Une variable contenant un DataFrame rertourne celui-ci et Jupyter formatera l'affichage. Nous avons vu que nous n'avons pas à récupérer toutes les données, les méthodes `.head()` et `.tail()` nous permettent de ne voir qu'un extrait.\n",
    "\n",
    "Les colonnes d'un DataFrame contiennent des valeurs d'un type spécifique. Leur parcours est donc bien plus performant qu'une liste Python.\n",
    "\n",
    "Nous pouvons afficher les colonnes et leur type avec le retour de la méthode `.info()`."
   ]
  },
  {
   "cell_type": "code",
   "execution_count": null,
   "id": "7ebb625d-abc0-49de-81c5-6e7b14120716",
   "metadata": {},
   "outputs": [],
   "source": [
    "train_data.info()"
   ]
  },
  {
   "cell_type": "markdown",
   "id": "c577c255-ed27-4664-8f78-10aee85ce4c6",
   "metadata": {},
   "source": [
    "## Statistiques de base\n",
    "Nous pouvons obtenir des statistiques de base grâce à la méthode `.describe()`. Celle-ci décrit toutes les colonnes *numériques*. Nous obtenons le nombre de données, la moyenne globale, la déviation standard, le minimum, les quartiles et le maximum de la Serie\n",
    "\n",
    "Cette méthode possède un paramètre optionnel `include` qui permet de demander à décrire les autres données."
   ]
  },
  {
   "cell_type": "code",
   "execution_count": null,
   "id": "6bb70e0f-c721-4974-9e39-3128add99017",
   "metadata": {},
   "outputs": [],
   "source": [
    "train_data.describe()\n",
    "#train_data.describe(include=\"object\")\n",
    "#train_data.describe(include=\"all\")"
   ]
  },
  {
   "cell_type": "markdown",
   "id": "c9b98379-e0d0-4261-8155-d171c76edb27",
   "metadata": {},
   "source": [
    "Un DataFrame peut être manipulé comme un dictionnaire pour lequel les clefs seront les colonnes."
   ]
  },
  {
   "cell_type": "code",
   "execution_count": null,
   "id": "85a367b9-4b17-4e2a-aa5f-7929775f8df2",
   "metadata": {},
   "outputs": [],
   "source": [
    "train_data.keys()"
   ]
  },
  {
   "cell_type": "code",
   "execution_count": null,
   "id": "e9bcd475-69cd-4985-ac0b-ce11aa837ed8",
   "metadata": {},
   "outputs": [],
   "source": [
    "montants = train_data['Montants']\n",
    "montants"
   ]
  },
  {
   "cell_type": "markdown",
   "id": "5f87f4a3-00e0-469a-88a3-9f00d7bbb38d",
   "metadata": {},
   "source": [
    "Il ne s'agit pas uniquement d'une *liste* de données. Elles sont indéxées. Un `DataFrame` est composés d'objets de type `Series` qui est comparable au type `List` ou plutôt les `ndarray` Numpy."
   ]
  },
  {
   "cell_type": "code",
   "execution_count": null,
   "id": "09774179-5484-44ee-b017-715d182d0093",
   "metadata": {},
   "outputs": [],
   "source": [
    "type(montants)"
   ]
  },
  {
   "cell_type": "markdown",
   "id": "dea71d3d-0cdc-4b8f-b2ca-34318b482a77",
   "metadata": {},
   "source": [
    "Les `Series` ont donc un ensemble de méthodes comparables aux `ndarray`. Nous avons donc à disposition les méthodes des `ndarray`."
   ]
  },
  {
   "cell_type": "code",
   "execution_count": null,
   "id": "c0c67daf-0ff0-42d5-90de-726d52e22a84",
   "metadata": {},
   "outputs": [],
   "source": [
    "train_data['Montants'].max()"
   ]
  },
  {
   "cell_type": "markdown",
   "id": "ad4621d2-de92-4907-a93c-3dcdab4cf3ec",
   "metadata": {},
   "source": [
    "Et certaines plus spécifiques. La méthode `.value_count()` par exemple retourne un nouvel objet de type `Series`."
   ]
  },
  {
   "cell_type": "code",
   "execution_count": null,
   "id": "eb83d9f3-9196-4f3f-89d2-35147f5b0f6a",
   "metadata": {},
   "outputs": [],
   "source": [
    "train_data['Ligne'].value_counts()"
   ]
  },
  {
   "cell_type": "markdown",
   "id": "fcbb08eb-12ad-4de9-8f59-f9478f95e82a",
   "metadata": {},
   "source": [
    "Notez que vous pouvez souhaiter obtenir une donnée de type `DataFrame` et non `Series` lors de cette opération. Il faut alors accéder à une donnée de type `list`. En d'autres termes, au lieu de passer une chaine de caractères représentant la colonne, il faut passer une liste contenant cette chaine de caractères."
   ]
  },
  {
   "cell_type": "code",
   "execution_count": null,
   "id": "7ce16b42-3fd8-4ffd-bad8-7651fb5b6aa0",
   "metadata": {},
   "outputs": [],
   "source": [
    "train_data[['Montants']]"
   ]
  },
  {
   "cell_type": "markdown",
   "id": "1d4b79f3-7997-4a79-a319-8f75a536b172",
   "metadata": {},
   "source": [
    "Et bien évidemment, cette syntaxe permet de sélectionner plusieurs colonnes et retourne donc systématiquement un `dataframe`."
   ]
  },
  {
   "cell_type": "code",
   "execution_count": null,
   "id": "9b533575-0182-4461-8427-5f5bd38738d3",
   "metadata": {},
   "outputs": [],
   "source": [
    "train_data[['Nom gare', 'Montants']]"
   ]
  },
  {
   "cell_type": "markdown",
   "id": "147e6273-4cb1-47d2-99bf-6c8ae1dfe776",
   "metadata": {},
   "source": [
    "## Filtrer les données (requêtes)\n",
    "Filtrer les colonnes est une chose, mais nous souhaitons également filtrer les données (lignes). Ceci correspond à faire des requêtes. Pandas permet de filtrer les données selon un ou plusieurs critères. Nous allons utiliser les _filtres_."
   ]
  },
  {
   "cell_type": "code",
   "execution_count": null,
   "id": "f5e8d76d-ffaa-447a-995e-d453d14304a7",
   "metadata": {},
   "outputs": [],
   "source": [
    "train_data['Nom gare'] == \"PARIS NORD\""
   ]
  },
  {
   "cell_type": "code",
   "execution_count": null,
   "id": "4a5a9c3d-039e-442d-abd2-47e8a0cfa5f8",
   "metadata": {},
   "outputs": [],
   "source": [
    "paris_nord_data = train_data.loc[(train_data['Nom gare'] == \"PARIS NORD\")]\n",
    "paris_nord_data"
   ]
  },
  {
   "cell_type": "markdown",
   "id": "3967c382-b543-421c-bb2d-930a07cdc5e4",
   "metadata": {},
   "source": [
    "La méthode `.loc()` permet de sélectionner en même temps les colonnes de la donnée retournée. Pour cela, nous fournissont celles-ci sous forme d'un second paramètre.\n",
    "\n",
    "Mais attention, le comprtement est le même que l'approche _dictionnaire_ c'est à dire que si une chaine de caractère est passée (sélection d'une seule colonne), il sera retourné une `Series`. Pour récupérer un DataFrame, il faudra passer une liste."
   ]
  },
  {
   "cell_type": "code",
   "execution_count": null,
   "id": "98141c51-026e-4889-b273-a11a9649842b",
   "metadata": {},
   "outputs": [],
   "source": [
    "train_data.loc[(train_data['Nom gare'] == \"PARIS NORD\", \"Montants\")].head()"
   ]
  },
  {
   "cell_type": "code",
   "execution_count": null,
   "id": "39483291-bcd3-4a83-9245-4c204c641f31",
   "metadata": {},
   "outputs": [],
   "source": [
    "train_data.loc[(train_data['Nom gare'] == \"PARIS NORD\", [\"Montants\"])].head()"
   ]
  },
  {
   "cell_type": "markdown",
   "id": "463169c3-0d5e-4465-9fbc-66be214373dd",
   "metadata": {},
   "source": [
    "Nous pouvons combiner plusieurs critères séparés avec les opérateurs `|` et `&`. Attention, il est indispensable d'ajouter les parenthèqes pour la priorité."
   ]
  },
  {
   "cell_type": "code",
   "execution_count": null,
   "id": "6508794f-3cef-47a0-8316-7a08f1cb2a00",
   "metadata": {},
   "outputs": [],
   "source": [
    "train_data.loc[(train_data['Nom gare'] == \"PARIS NORD\") \n",
    "                & (train_data['Ligne'] == \"B\")]"
   ]
  },
  {
   "cell_type": "markdown",
   "id": "19fa8cbd-7834-48ee-b920-a990fdcbe14c",
   "metadata": {},
   "source": [
    "Nous pouvons évidemment combiner un ensemble de requêtes. La ligne suivante permet d'isoler les données correspondant au nombre de montants max."
   ]
  },
  {
   "cell_type": "code",
   "execution_count": null,
   "id": "a4257c35-4f97-41d0-b71b-a531449b28aa",
   "metadata": {},
   "outputs": [],
   "source": [
    "train_data.loc[train_data['Montants'] == train_data['Montants'].max()]"
   ]
  },
  {
   "cell_type": "markdown",
   "id": "70d8b1cf-3d97-426d-be0a-701c52fd49cd",
   "metadata": {},
   "source": [
    "## (Ré)Organiser les données\n",
    "Les données d'un DataFrame sont ordonnées selon le contenu de la donnée d'entrée. Ici le CSV. Nous pouvons les ré-ordonner selon une ou plusieurs colonnes. Ceci nous retourne un nouveau DataFrame.\n",
    "\n",
    "Ci-dessous, nous retrouvons un dataframe trié par le nom des gares."
   ]
  },
  {
   "cell_type": "code",
   "execution_count": null,
   "id": "257c70d1-b400-4240-b52e-dcafc5fd1a2b",
   "metadata": {},
   "outputs": [],
   "source": [
    "train_data.sort_values(by=[\"Nom gare\"])"
   ]
  },
  {
   "cell_type": "markdown",
   "id": "9ba1b7e6-7762-46e7-93a0-895e5eb1a4db",
   "metadata": {},
   "source": [
    "Et bien sûr, nous pouvons passer plusieurs colonnes et donc trier selon plusieurs critères."
   ]
  },
  {
   "cell_type": "code",
   "execution_count": null,
   "id": "8fdbd4b9-c1d5-4965-8785-b4b5f32091e4",
   "metadata": {},
   "outputs": [],
   "source": [
    "train_data.sort_values(by=[\"Date de comptage\", \"Nom gare\"])"
   ]
  },
  {
   "cell_type": "markdown",
   "id": "c034ad75-9290-4eac-9bf8-e6fc17e8cbd4",
   "metadata": {},
   "source": [
    "Une réorganisation intéressante ici serait une réorganisation chronologique.\n",
    "\n",
    "Pour une question de quantité de données (et de cohérence des données étudiées), nous allons filtrer les données et ne travailler que sur les comptages de **la ligne B** à **Paris Nord**."
   ]
  },
  {
   "cell_type": "code",
   "execution_count": null,
   "id": "d52b2f01-ea31-47ea-9d50-9f0fc6d35c81",
   "metadata": {},
   "outputs": [],
   "source": [
    "paris_nord_b = train_data.loc[(train_data['Nom gare'] == \"PARIS NORD\") & (train_data['Ligne'] == \"B\")] \\\n",
    "                         [[\"Date de comptage\", \"Tranche horaire\", \"Type jour\", \"Montants\"]]"
   ]
  },
  {
   "cell_type": "markdown",
   "id": "3a92c0d8-4f44-4a3d-b401-f633a2b10848",
   "metadata": {},
   "source": [
    "Nous pouvons donc réorganiser les données par date et tranche horaire. Sauf que cette dernière donnée est une chaine de caractères et que l'ordre sera donc celui du tri de chaines de caractères."
   ]
  },
  {
   "cell_type": "code",
   "execution_count": null,
   "id": "fc9c4b73-b1d6-42ee-9507-2caf7b6b961c",
   "metadata": {},
   "outputs": [],
   "source": [
    "paris_nord_b.sort_values(by=[\"Date de comptage\", \"Tranche horaire\"]).head(10)"
   ]
  },
  {
   "cell_type": "markdown",
   "id": "fc395e21-f226-449b-9ed5-30635a3bd9e0",
   "metadata": {},
   "source": [
    "Pour avoir une action cohérente, la méthode `.sort_values()` contient un paramètre `key` comme la méthode `.sort()` des listes (ou la fonction `sorted()`) permettant de préciser le critère de tri. Ce que nous allons faire, c'est utiliser une lambda et un dictionnaire. Ce dernier donne un ordre à chaque chaine, la lambda permet de récupérer la donnée du dictionnaire.\n",
    "\n",
    "Le dictionnaire est le suivant :"
   ]
  },
  {
   "cell_type": "code",
   "execution_count": null,
   "id": "9583cdc4-4345-4c25-ad38-78b507060797",
   "metadata": {},
   "outputs": [],
   "source": [
    "horaires = {\n",
    "    \"Avant 6h\": 0,\n",
    "    \"De 6h à 10h\": 1,\n",
    "    \"De 10h à 16h\": 2,\n",
    "    \"De 16h à 20h\": 3,\n",
    "    \"Après 20h\": 4,\n",
    "}"
   ]
  },
  {
   "cell_type": "markdown",
   "id": "ff43cc93-f41b-4ad0-b0e2-e16b42780128",
   "metadata": {},
   "source": [
    "Cependant, pour le paramètre `key`, il y a une différence avec le `.sort()` classique : celui-ci ne prends pas une valeur mais une `Series`. Nous devrons donc appliquer la méthode `.map()` des Series qui transforme la Series ([voir doc de Series.map()](https://pandas.pydata.org/docs/reference/api/pandas.Series.map.html))\n",
    "\n",
    "La lambda serait donc la suivante :\n",
    "```python\n",
    "lambda val: val.map(horaires)\n",
    "```\n",
    "\n",
    "À titre d'information, le résultat sera le suivant :"
   ]
  },
  {
   "cell_type": "code",
   "execution_count": null,
   "id": "54bf2c81-d655-49e2-84ec-d297ccd4e919",
   "metadata": {},
   "outputs": [],
   "source": [
    "paris_nord_b[\"Tranche horaire\"].map(horaires)"
   ]
  },
  {
   "cell_type": "markdown",
   "id": "535f7c1e-6beb-42b4-8847-7442a8854926",
   "metadata": {},
   "source": [
    "Cependnant, si nous écrivons :\n",
    "```python\n",
    "paris_nord_b.sort_values(by=[\"Date de comptage\", \"Tranche horaire\"],\n",
    "                         key=lambda val: val.map(horaires)).head(10)\n",
    "```\n",
    "\n",
    "Nous aurons une erreur car la méthode `.sort_values()` appliquera la méthode `key` à **toutes** les colonnes de tri…\n",
    "\n",
    "Il y aura donc une erreur car il ne pourra pas faire de map sur `\"Date de comptage\"`.\n",
    "\n",
    "Il ne faut donc appliquer le map que sur la colonne concernée. Cette \"vérification\" sera appliquée dans la lambda."
   ]
  },
  {
   "cell_type": "code",
   "execution_count": null,
   "id": "489c813d-6bcc-455d-b772-9ce50da8a430",
   "metadata": {},
   "outputs": [],
   "source": [
    "paris_nord_b_sorted = paris_nord_b.sort_values(by=[\"Date de comptage\", \"Tranche horaire\"],\n",
    "                                               key=lambda val: val if val.name != \"Tranche horaire\" else val.map(horaires))"
   ]
  },
  {
   "cell_type": "code",
   "execution_count": null,
   "id": "62687896-b495-47bb-a594-8396d026ecc6",
   "metadata": {},
   "outputs": [],
   "source": [
    "paris_nord_b_sorted.head(10)"
   ]
  },
  {
   "cell_type": "markdown",
   "id": "e4bfd764-8178-41cf-901d-8163e567db7f",
   "metadata": {},
   "source": [
    "## Grouper les données\n",
    "La méthode `groupby` permet, de créer des groupes de données.\n",
    "\n",
    "Il ne s'agit pas d'une réorganisation des données. Le type obtenu n'est pas un `DataFrame` mais un `DataFrameGroupBy`."
   ]
  },
  {
   "cell_type": "code",
   "execution_count": null,
   "id": "92327c7c-75cb-45bd-b53c-3b60ab9c6d37",
   "metadata": {},
   "outputs": [],
   "source": [
    "paris_nord_b_group = paris_nord_b_sorted.groupby('Date de comptage')\n",
    "type(paris_nord_b_group)"
   ]
  },
  {
   "cell_type": "markdown",
   "id": "cd25156b-3915-4940-9865-70e955c605df",
   "metadata": {},
   "source": [
    "Ce type est un itérable retournant un N-uplet de 2 valeurs :"
   ]
  },
  {
   "cell_type": "code",
   "execution_count": null,
   "id": "e6d786a5-09cb-4298-84d1-c0f182995382",
   "metadata": {},
   "outputs": [],
   "source": [
    "for name, group in paris_nord_b_group:\n",
    "    print(f'Nom : \"{name}\"')\n",
    "    print(group)\n",
    "    print(type(group))"
   ]
  },
  {
   "cell_type": "markdown",
   "id": "e2deff49-e3c1-466b-a542-70ed8c25d556",
   "metadata": {},
   "source": [
    "Pandas fournit des opération d'aggrégation, c'est à dire qu'elles permettent une opération sur l'ensemble du groupe."
   ]
  },
  {
   "cell_type": "code",
   "execution_count": null,
   "id": "567d0228-753d-4cef-a7f7-ea90af6d0805",
   "metadata": {},
   "outputs": [],
   "source": [
    "paris_nord_b_group[\"Montants\"].sum()"
   ]
  },
  {
   "cell_type": "code",
   "execution_count": null,
   "id": "2ab4c5cf-2106-430b-bfab-4e22b9043ff0",
   "metadata": {},
   "outputs": [],
   "source": [
    "paris_nord_b_group[\"Montants\"].mean()"
   ]
  },
  {
   "cell_type": "code",
   "execution_count": null,
   "id": "63301dd0-5cbe-4cc4-a35b-0dc28aada851",
   "metadata": {},
   "outputs": [],
   "source": [
    "paris_nord_b_group[\"Montants\"].std()"
   ]
  },
  {
   "cell_type": "markdown",
   "id": "959de172-37ed-4325-a3c5-8d7aaca39af8",
   "metadata": {},
   "source": [
    "Il est possible de créer des groupes sur plusieurs colonnes, le nom sera alors la liste des colonnes.\n",
    "\n",
    "L'exemple suivant filtre les données pour la gare de Paris Nord puis les trie par ordre chronologique. Ce dataframe est ensuite groupé par ligne et date."
   ]
  },
  {
   "cell_type": "code",
   "execution_count": null,
   "id": "1b79f2ed-425f-4796-9553-257a7d6d3e83",
   "metadata": {},
   "outputs": [],
   "source": [
    "paris_nord = train_data.loc[train_data['Nom gare'] == \"PARIS NORD\"] \\\n",
    "                         [[\"Ligne\", \"Date de comptage\", \"Tranche horaire\", \"Type jour\", \"Montants\"]]\n",
    "\n",
    "paris_nord_sorted = paris_nord.sort_values(by=[\"Date de comptage\", \"Tranche horaire\"],\n",
    "                                           key=lambda val: val if val.name != \"Tranche horaire\" else val.map(horaires))\n",
    "\n",
    "paris_nord_groups = paris_nord_sorted.groupby([\"Ligne\", \"Date de comptage\"])\n",
    "\n",
    "groupe_iterator = paris_nord_groups.__iter__()\n",
    "print(groupe_iterator)\n",
    "print()\n",
    "\n",
    "name, group = next(groupe_iterator)\n",
    "print(f'Nom : \"{name}\"')\n",
    "print(group)\n",
    "print(type(group))"
   ]
  },
  {
   "cell_type": "markdown",
   "id": "e6148d2a-e96f-415a-8aa4-7db57124323c",
   "metadata": {},
   "source": [
    "Un `DataFrameGroupBy` est une collection. Il est possible d'accéder à la donnée (au DataFrame) d'un groupe par le nom du groupe :"
   ]
  },
  {
   "cell_type": "code",
   "execution_count": null,
   "id": "a86ddcd6-5953-4232-b78d-945e5bb490c5",
   "metadata": {},
   "outputs": [],
   "source": [
    "paris_nord_b_group.get_group('2014-03-27')"
   ]
  },
  {
   "cell_type": "code",
   "execution_count": null,
   "id": "fc2f3a58-cfa9-4a92-b964-0d33dad8f894",
   "metadata": {},
   "outputs": [],
   "source": [
    "paris_nord_groups.get_group(('K', '2018-11-15'))"
   ]
  },
  {
   "cell_type": "markdown",
   "id": "1ea5a33f-9acf-4201-aa98-f79017d130ef",
   "metadata": {},
   "source": [
    "## Graphes simples avec Pandas\n",
    "L'exemple suivant montre comment générer des graphes simples avec la méthode `.plot()` de Pandas.\n",
    "\n",
    "Nous allons travailler sur la garde de Paris Saint Lazare."
   ]
  },
  {
   "cell_type": "code",
   "execution_count": null,
   "id": "41a0d90b-4613-4611-8fca-c2bb10fde57c",
   "metadata": {},
   "outputs": [],
   "source": [
    "psl_values = train_data.loc[(train_data[\"Nom gare\"] == \"PARIS SAINT-LAZARE\") & (train_data['Type jour'] == \"JOB\")] \\\n",
    "          .sort_values(by=[\"Date de comptage\", \"Tranche horaire\"], key=lambda val: val if val.name != \"Tranche horaire\" else val.map(horaires))[[\"Nom gare\", \"Date de comptage\", \"Tranche horaire\", \"Ligne\", \"Montants\"]]"
   ]
  },
  {
   "cell_type": "code",
   "execution_count": null,
   "id": "17f10e16-2160-45d6-83a7-c3cf9371333a",
   "metadata": {},
   "outputs": [],
   "source": [
    "psl_values"
   ]
  },
  {
   "cell_type": "markdown",
   "id": "4de023a1-2316-49e0-8416-3498032ab5ba",
   "metadata": {},
   "source": [
    "Sur un `DataFrameGroupBy`, nous aurons un graph par groupe."
   ]
  },
  {
   "cell_type": "code",
   "execution_count": null,
   "id": "4b639b4f-bcad-4448-bebc-99b490662c94",
   "metadata": {},
   "outputs": [],
   "source": [
    "psl_values.groupby('Date de comptage').plot(x=\"Tranche horaire\", kind=\"bar\")"
   ]
  },
  {
   "cell_type": "code",
   "execution_count": null,
   "id": "9ca84725-6542-47ae-b16b-7aedbd543796",
   "metadata": {},
   "outputs": [],
   "source": []
  }
 ],
 "metadata": {
  "kernelspec": {
   "display_name": "Python 3 (ipykernel)",
   "language": "python",
   "name": "python3"
  },
  "language_info": {
   "codemirror_mode": {
    "name": "ipython",
    "version": 3
   },
   "file_extension": ".py",
   "mimetype": "text/x-python",
   "name": "python",
   "nbconvert_exporter": "python",
   "pygments_lexer": "ipython3",
   "version": "3.12.3"
  }
 },
 "nbformat": 4,
 "nbformat_minor": 5
}

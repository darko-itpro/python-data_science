{
 "cells": [
  {
   "cell_type": "markdown",
   "metadata": {},
   "source": [
    "# Présentation de NumPy\n",
    "\n",
    "Nous commençons par importer la bibliothèque"
   ]
  },
  {
   "cell_type": "code",
   "execution_count": null,
   "metadata": {},
   "outputs": [],
   "source": [
    "import numpy as np"
   ]
  },
  {
   "cell_type": "markdown",
   "metadata": {},
   "source": [
    "NumPy est une bibliothèque connue pour son objet principal, le tableau (traduction de *array* pour lequel on utilise aussi *matrice*). Celui-ci est généralement créé à partir d'une liste de données. Nous aurons alors d'un objet de type `ndarray`.\n",
    "\n",
    "## Précision de lexique\n",
    "Dans le document suivant, les termes **tableau** ou **array** seront utilisés pour parler d'un objet de type `ndarray`.\n",
    "\n",
    "## Créer un *array* à partir d'un jeu de données\n",
    "Un point important est que les array NumPy ne peuvent contenir des données que d'un seul type. Ce type sera déduit au moment de la création du tableau."
   ]
  },
  {
   "cell_type": "code",
   "execution_count": null,
   "metadata": {
    "scrolled": true
   },
   "outputs": [],
   "source": [
    "np.array([1, 2, 3, 4, 5])"
   ]
  },
  {
   "cell_type": "markdown",
   "metadata": {},
   "source": [
    "Un tableau ne contenant qu'un type de données, il possède un attribut `.dtype` qui retourne l'information du type."
   ]
  },
  {
   "cell_type": "code",
   "execution_count": null,
   "metadata": {},
   "outputs": [],
   "source": [
    "print(np.array([1, 2, 3, 4, 5]).dtype)"
   ]
  },
  {
   "cell_type": "code",
   "execution_count": null,
   "metadata": {
    "scrolled": true
   },
   "outputs": [],
   "source": [
    "print(np.array([1.4, 2.2, 3.98, 4.3, 5.8]).dtype)"
   ]
  },
  {
   "cell_type": "code",
   "execution_count": null,
   "metadata": {},
   "outputs": [],
   "source": [
    "my_array = np.array([1, 2, 3, 4, 5])\n",
    "print(my_array)\n",
    "print(type(my_array))"
   ]
  },
  {
   "cell_type": "markdown",
   "metadata": {},
   "source": [
    "Numpy permet évidemment de créer des tableaux à plusieurs dimensions. Bien que ceux-ci apparaissent comme une liste de listes, il s'agit bien de *tableaux* dans le sens où les dimensions doivent être respectées."
   ]
  },
  {
   "cell_type": "code",
   "execution_count": null,
   "metadata": {},
   "outputs": [],
   "source": [
    "np.array([[1, 2, 3], [4, 5, 6]])"
   ]
  },
  {
   "cell_type": "markdown",
   "metadata": {},
   "source": [
    "## Cas des données hétérogènes\n",
    "\n",
    "Si le jeu de données est composé de types différents, NumPy essayera de les convertir dans le type le plus général (upcasting)."
   ]
  },
  {
   "cell_type": "code",
   "execution_count": null,
   "metadata": {},
   "outputs": [],
   "source": [
    "np.array([42, 3.14])"
   ]
  },
  {
   "cell_type": "code",
   "execution_count": null,
   "metadata": {
    "scrolled": true
   },
   "outputs": [],
   "source": [
    "print(np.array([1.4, 2.2, \"3.98\", 4.3, 5.8]).dtype)"
   ]
  },
  {
   "cell_type": "code",
   "execution_count": null,
   "metadata": {},
   "outputs": [],
   "source": [
    "np.array([\"42\", \"3.14\"])"
   ]
  },
  {
   "cell_type": "markdown",
   "metadata": {},
   "source": [
    "## Imposer le type de données\n",
    "Il est possible d'imposer un type avec le paramètre `dtype`."
   ]
  },
  {
   "cell_type": "code",
   "execution_count": null,
   "metadata": {},
   "outputs": [],
   "source": [
    "np.array([\"42\", \"3.14\"], dtype=\"float32\")"
   ]
  },
  {
   "cell_type": "code",
   "execution_count": null,
   "metadata": {},
   "outputs": [],
   "source": [
    "np.array([1, 2, '3', 4, 5], dtype='int')"
   ]
  },
  {
   "cell_type": "markdown",
   "metadata": {},
   "source": [
    "## Routines de création de tableaux\n",
    "Il existe des fonctions qui permettent de générer des tableaux particuliers. En voiçi quelques exemples.\n",
    "\n",
    "Un tableau de zeros"
   ]
  },
  {
   "cell_type": "code",
   "execution_count": null,
   "metadata": {},
   "outputs": [],
   "source": [
    "np.zeros(10)"
   ]
  },
  {
   "cell_type": "markdown",
   "metadata": {},
   "source": [
    "Ci-dessous, un tableau de 1"
   ]
  },
  {
   "cell_type": "code",
   "execution_count": null,
   "metadata": {},
   "outputs": [],
   "source": [
    "np.ones(10)"
   ]
  },
  {
   "cell_type": "markdown",
   "metadata": {},
   "source": [
    "Et enfin, un tableau d'une valeur spécifique"
   ]
  },
  {
   "cell_type": "code",
   "execution_count": null,
   "metadata": {},
   "outputs": [],
   "source": [
    "np.full(10, 42)"
   ]
  },
  {
   "cell_type": "markdown",
   "metadata": {},
   "source": [
    "Il est possible lors de l'initialisation de ce type de tableau d'imposer la structure du tableau."
   ]
  },
  {
   "cell_type": "code",
   "execution_count": null,
   "metadata": {},
   "outputs": [],
   "source": [
    "np.ones((3, 5))"
   ]
  },
  {
   "cell_type": "code",
   "execution_count": null,
   "metadata": {},
   "outputs": [],
   "source": [
    "np.full((5, 5), 42)"
   ]
  },
  {
   "cell_type": "markdown",
   "metadata": {},
   "source": [
    "# Accès et modification d'éléments du tableau\n",
    "Il est évidemment possible d'obtenir et/ou modifier un élément du tableau en y accédant par son indice et en affectant une données à un élément en fonction de cet indice."
   ]
  },
  {
   "cell_type": "code",
   "execution_count": null,
   "metadata": {},
   "outputs": [],
   "source": [
    "my_array = np.zeros(10)\n",
    "print(f\"{my_array=}\")\n",
    "\n",
    "print(f\"{my_array[5]=}\")\n",
    "\n",
    "my_array[5] = 5\n",
    "print(f\"{my_array[5]=}\")\n",
    "\n",
    "print(type(my_array[5]))"
   ]
  },
  {
   "cell_type": "markdown",
   "metadata": {},
   "source": [
    "Dans le cas d'un tableau à plusieurs dimensions, il existe deux syntaxes."
   ]
  },
  {
   "cell_type": "code",
   "execution_count": null,
   "metadata": {},
   "outputs": [],
   "source": [
    "my_array = np.zeros((2, 5))\n",
    "\n",
    "my_array[1, 2] = 5\n",
    "my_array[0][3] = 10\n",
    "\n",
    "print(my_array)"
   ]
  },
  {
   "cell_type": "markdown",
   "metadata": {},
   "source": [
    "**Attention** à la structure du tableau. Si vous affectez une valeur à une dimension du tabelau, c'est toutes cette dimension qui prend cette valeur."
   ]
  },
  {
   "cell_type": "code",
   "execution_count": null,
   "metadata": {},
   "outputs": [],
   "source": [
    "my_array = np.zeros((2, 5))\n",
    "my_array[1] = 5\n",
    "print(my_array)"
   ]
  },
  {
   "cell_type": "markdown",
   "metadata": {},
   "source": [
    "## Génération de plages de données\n",
    "\n",
    "NumPy propose une fonction `arange` qui a un comportement similaire à la création d'une liste avec la fonction `range`. L'intérêt de `arange` est qu'il est possible d'utiliser d'autres types tel que les réels."
   ]
  },
  {
   "cell_type": "code",
   "execution_count": null,
   "metadata": {},
   "outputs": [],
   "source": [
    "np.arange(0, 100, 5)"
   ]
  },
  {
   "cell_type": "code",
   "execution_count": null,
   "metadata": {},
   "outputs": [],
   "source": [
    "np.arange(0, 10, .5)"
   ]
  },
  {
   "cell_type": "markdown",
   "metadata": {},
   "source": [
    "La fonction `linspace` permet de créer une liste de données comprises entre deux valeurs. La fonction prend trois paramètres : la valeur minimum, la maximum (qui par défaut est incluse) et le nombre de valeurs uniformément réparties."
   ]
  },
  {
   "cell_type": "code",
   "execution_count": null,
   "metadata": {},
   "outputs": [],
   "source": [
    "np.linspace(0, 1, 5)"
   ]
  },
  {
   "cell_type": "markdown",
   "metadata": {},
   "source": [
    "## Modifier la structure d'un tableau\n",
    "NumPy permet de modifier la structure d'un tableau après sa création grâce à la méthode `.reshape()`. Attention, sa taille (son nombre d'éléments) doit être égale."
   ]
  },
  {
   "cell_type": "code",
   "execution_count": null,
   "metadata": {},
   "outputs": [],
   "source": [
    "my_array = np.arange(20)\n",
    "print(my_array)"
   ]
  },
  {
   "cell_type": "code",
   "execution_count": null,
   "metadata": {},
   "outputs": [],
   "source": [
    "my_array.reshape(2, 10)"
   ]
  },
  {
   "cell_type": "code",
   "execution_count": null,
   "metadata": {},
   "outputs": [],
   "source": [
    "my_array.reshape(2, 10).reshape(4, 5)"
   ]
  },
  {
   "cell_type": "markdown",
   "metadata": {},
   "source": [
    "La méthode `.revel()` permet d'obtenir une liste (une dimension)"
   ]
  },
  {
   "cell_type": "code",
   "execution_count": null,
   "metadata": {},
   "outputs": [],
   "source": [
    "array_4_5 = my_array.reshape(4, 5)\n",
    "print(array_4_5)\n",
    "print(array_4_5.ravel())"
   ]
  },
  {
   "cell_type": "markdown",
   "metadata": {},
   "source": [
    "**Attention** : les *reshape* retournent une nouvelle données mais ce sont des *vues* sur les collections d'origine."
   ]
  },
  {
   "cell_type": "code",
   "execution_count": null,
   "metadata": {},
   "outputs": [],
   "source": [
    "array_4_5[1][1] = 111\n",
    "my_array[-1] = 200\n",
    "\n",
    "print(array_4_5)\n",
    "print(my_array)"
   ]
  },
  {
   "cell_type": "markdown",
   "metadata": {},
   "source": [
    "## Propriétés des tableaux\n",
    "Le type `ndarray` propose plusieurs méthodes qui permettent d'accéder aux propriétés du tableau : "
   ]
  },
  {
   "cell_type": "code",
   "execution_count": null,
   "metadata": {},
   "outputs": [],
   "source": [
    "x1 = np.ones((3, 5))\n",
    "print(x1)\n",
    "print('-----')\n",
    "print(\"nombre de dimensions de x1: \", x1.ndim)\n",
    "print(\"forme de x1               : \", x1.shape)\n",
    "print(\"taille de x1              : \", x1.size)\n",
    "print(\"type de x1                : \", x1.dtype)"
   ]
  },
  {
   "cell_type": "markdown",
   "metadata": {},
   "source": [
    "## Opérations sur les tableaux\n",
    "Certaines opérations, si appliquées sur le type `ndarray`, s'appliquent sur chaque élément. C'est le cas des opérations de base. Ces opérations retournent un nouvel array."
   ]
  },
  {
   "cell_type": "code",
   "execution_count": null,
   "metadata": {},
   "outputs": [],
   "source": [
    "1.0 / np.arange(.5, 20, .5)"
   ]
  },
  {
   "cell_type": "code",
   "execution_count": null,
   "metadata": {},
   "outputs": [],
   "source": [
    "# Il y a tout d'abord des opération mathématiques simples\n",
    "x = np.arange(10)\n",
    "print(\"x      =\", x)\n",
    "print(\"x + 5  =\", x + 5)\n",
    "print(\"x - 5  =\", x - 5)\n",
    "print(\"x * 2  =\", x * 2)\n",
    "print(\"x / 2  =\", x / 2)\n",
    "print(\"x // 2 =\", x // 2)  # Division avec arronid"
   ]
  },
  {
   "cell_type": "markdown",
   "metadata": {},
   "source": [
    "## Précision sur le produit matriciel\n",
    "\n",
    "L'opérateur de la multiplication `*` s'applique élément par élément."
   ]
  },
  {
   "cell_type": "code",
   "execution_count": null,
   "metadata": {},
   "outputs": [],
   "source": [
    "a = np.array([[1, 0],\n",
    "              [1, 2]])\n",
    "\n",
    "b = np.array([[2, 3],\n",
    "              [5, 6]])\n",
    "\n",
    "a * b"
   ]
  },
  {
   "cell_type": "markdown",
   "metadata": {},
   "source": [
    "Pour réaliser un produit matriciel, il faut utiliser la méthode `.dot()`"
   ]
  },
  {
   "cell_type": "code",
   "execution_count": null,
   "metadata": {},
   "outputs": [],
   "source": [
    "a.dot(b)"
   ]
  },
  {
   "cell_type": "markdown",
   "metadata": {},
   "source": [
    "Ou depuis Python 3.5, l'opérateur `@`"
   ]
  },
  {
   "cell_type": "code",
   "execution_count": null,
   "metadata": {},
   "outputs": [],
   "source": [
    "a @ b"
   ]
  },
  {
   "cell_type": "markdown",
   "metadata": {},
   "source": [
    "## Fonction universelles\n",
    "\n",
    "Enfin, NumPy propose des fonctions mathématiques qui prennent en paramètre un `ndarray`\n",
    " et en retourne un résultat de ces fonctions. Ces fonctons sont appelées *fonctions universelles*"
   ]
  },
  {
   "cell_type": "code",
   "execution_count": null,
   "metadata": {},
   "outputs": [],
   "source": [
    "np.sin(x)"
   ]
  },
  {
   "cell_type": "code",
   "execution_count": null,
   "metadata": {
    "tags": []
   },
   "outputs": [],
   "source": [
    "np.add(x, 2)"
   ]
  },
  {
   "cell_type": "code",
   "execution_count": null,
   "metadata": {
    "tags": []
   },
   "outputs": [],
   "source": [
    "np.add(x, np.arange(10, 20))"
   ]
  },
  {
   "cell_type": "markdown",
   "metadata": {},
   "source": [
    "Vous pouvez consulter [la liste des fonctions disponibles](https://numpy.org/doc/stable/reference/ufuncs.html#available-ufuncs).\n",
    "\n",
    "## Cas des opérateurs unaires\n",
    "\n",
    "Les opérateurs unaires sont implantés sous forme de méthodes et s'appliquent à toutes les données comme si elles étaient sur une seule dimension."
   ]
  },
  {
   "cell_type": "code",
   "execution_count": null,
   "metadata": {},
   "outputs": [],
   "source": [
    "my_array = np.array([[1, 2, 3], [4, 5, 6]])\n",
    "\n",
    "print(my_array.sum())\n",
    "print(my_array.min())\n",
    "print(my_array.max())"
   ]
  },
  {
   "cell_type": "markdown",
   "metadata": {},
   "source": [
    "Il est dependant possible d'imposer l'axe sur lequel appliquer ces opérations."
   ]
  },
  {
   "cell_type": "code",
   "execution_count": null,
   "metadata": {},
   "outputs": [],
   "source": [
    "print(my_array)\n",
    "print(\"\\n-- min --\")\n",
    "print(my_array.min(axis=0))\n",
    "print(my_array.min(axis=1))\n",
    "\n",
    "print(\"\\n-- sum --\")\n",
    "print(my_array.sum(axis=0))\n",
    "print(my_array.sum(axis=1))"
   ]
  },
  {
   "cell_type": "markdown",
   "metadata": {},
   "source": [
    "Retenez que le traitement des données des `ndarray` est très performant car le code utilisé est en C."
   ]
  },
  {
   "cell_type": "markdown",
   "metadata": {},
   "source": [
    "## Indexation et slicing\n",
    "Nous pouvons accéder à un élément d'un `ndarray` par son indice. Si le tableau a une seule dimension, nous utilisons la syntaxe habituelle. Si il y a plusieurs dimensions (2 dans l'exemple suivant), nous pouvons déclarer les valeurs dans la même structure."
   ]
  },
  {
   "cell_type": "code",
   "execution_count": null,
   "metadata": {},
   "outputs": [],
   "source": [
    "x10 = np.arange(10)\n",
    "print(x10)\n",
    "print(x10[1])\n",
    "x25 = x10.reshape(2, 5)\n",
    "print(x25)\n",
    "print(x25[1, 0])\n",
    "print(x25[:,2:4])\n",
    "slice22 = x25[:,2:4]"
   ]
  },
  {
   "cell_type": "markdown",
   "metadata": {},
   "source": [
    "**ATTENTION** comme les reshapes, les slices sont des vues sur la collection originale."
   ]
  },
  {
   "cell_type": "code",
   "execution_count": null,
   "metadata": {},
   "outputs": [],
   "source": [
    "x10[3] = 42\n",
    "print(x10)\n",
    "print(x25)\n",
    "print(slice22)"
   ]
  },
  {
   "cell_type": "code",
   "execution_count": null,
   "metadata": {},
   "outputs": [],
   "source": []
  }
 ],
 "metadata": {
  "kernelspec": {
   "display_name": "Python 3 (ipykernel)",
   "language": "python",
   "name": "python3"
  },
  "language_info": {
   "codemirror_mode": {
    "name": "ipython",
    "version": 3
   },
   "file_extension": ".py",
   "mimetype": "text/x-python",
   "name": "python",
   "nbconvert_exporter": "python",
   "pygments_lexer": "ipython3",
   "version": "3.11.2"
  }
 },
 "nbformat": 4,
 "nbformat_minor": 4
}
